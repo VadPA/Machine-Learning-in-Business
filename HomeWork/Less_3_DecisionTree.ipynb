{
 "cells": [
  {
   "cell_type": "markdown",
   "id": "2573c7df",
   "metadata": {},
   "source": [
    "# Урок 3. Связь бизнес-показателей и DS-метрик"
   ]
  },
  {
   "cell_type": "code",
   "execution_count": 1,
   "id": "eb30768f",
   "metadata": {},
   "outputs": [],
   "source": [
    "import pandas as pd\n",
    "import numpy as np\n",
    "\n",
    "import seaborn as sns\n",
    "import matplotlib.pyplot as plt\n",
    "import itertools\n",
    "\n",
    "from sklearn.model_selection import cross_val_score, train_test_split\n",
    "from sklearn.metrics import precision_recall_curve, roc_curve, roc_auc_score\n",
    "from sklearn.metrics import confusion_matrix\n",
    "\n",
    "from sklearn.feature_extraction.text import TfidfVectorizer\n",
    "\n",
    "from sklearn.linear_model import LogisticRegression\n",
    "from sklearn.tree import DecisionTreeClassifier\n",
    "\n",
    "from scipy.sparse import hstack\n",
    "from sklearn.pipeline import Pipeline, make_pipeline\n",
    "from sklearn.base import BaseEstimator, TransformerMixin\n"
   ]
  },
  {
   "cell_type": "code",
   "execution_count": 2,
   "id": "2fd0ce6c",
   "metadata": {},
   "outputs": [],
   "source": [
    "def plot_confusion_matrix(cm, classes,\n",
    "                          normalize=False,\n",
    "                          title='Confusion matrix',\n",
    "                          cmap=plt.cm.Blues):\n",
    "    \"\"\"\n",
    "    This function prints and plots the confusion matrix.\n",
    "    Normalization can be applied by setting `normalize=True`.\n",
    "    \"\"\"\n",
    "    plt.imshow(cm, interpolation='nearest', cmap=cmap)\n",
    "    plt.title(title)\n",
    "    plt.colorbar()\n",
    "    tick_marks = np.arange(len(classes))\n",
    "    plt.xticks(tick_marks, classes, rotation=45)\n",
    "    plt.yticks(tick_marks, classes)\n",
    "\n",
    "    if normalize:\n",
    "        cm = cm.astype('float') / cm.sum(axis=1)[:, np.newaxis]\n",
    "        print(\"Normalized confusion matrix\")\n",
    "    else:\n",
    "        print('Confusion matrix, without normalization')\n",
    "\n",
    "    print(cm)\n",
    "\n",
    "    thresh = cm.max() / 2.\n",
    "    for i, j in itertools.product(range(cm.shape[0]), range(cm.shape[1])):\n",
    "        plt.text(j, i, cm[i, j],\n",
    "                 horizontalalignment=\"center\",\n",
    "                 color=\"white\" if cm[i, j] > thresh else \"black\")\n",
    "\n",
    "    plt.tight_layout()\n",
    "    plt.ylabel('True label')\n",
    "    plt.xlabel('Predicted label')"
   ]
  },
  {
   "cell_type": "markdown",
   "id": "1ab7c5a1",
   "metadata": {},
   "source": [
    "## Кейс 2 - определение ССЗ"
   ]
  },
  {
   "cell_type": "markdown",
   "id": "88895b24",
   "metadata": {},
   "source": [
    "ссылка на соревнование - https://mlbootcamp.ru/ru/round/12/sandbox/\n",
    "\n",
    "В идеале бы конечно всех людей отправить на обследования, но количество тестов ограничено, бюджет ограничен, поэтому нужно отбирать только тех людей, у которых повышен риск сердечно-сосудистых заболеваний."
   ]
  },
  {
   "cell_type": "markdown",
   "id": "03a588d0",
   "metadata": {},
   "source": [
    "В рамках конкурса вам нужно предсказать наличие сердечно-сосудистых заболеваний по результатам классического врачебного осмотра. Датасет сформирован из 100.000 реальных клинических анализов, и в нём используются признаки, которые можно разбить на 3 группы:\n",
    "\n",
    " \n",
    "\n",
    "Объективные признаки:\n",
    "\n",
    " - Возраст\n",
    " - Рост\n",
    " - Вес\n",
    " - Пол\n",
    " \n",
    "\n",
    "Результаты измерения:\n",
    "\n",
    " - Артериальное давление верхнее и нижнее\n",
    " - Холестерин\n",
    " - Глюкоза\n",
    " \n",
    "\n",
    "Субъективные признаки:\n",
    "\n",
    " - Курение\n",
    " - Употребление Алкоголя\n",
    " - Физическая активность\n",
    " \n",
    "\n",
    "Возраст дан в днях. Значения показателей холестерина и глюкозы представлены одним из трех классов: норма, выше нормы, значительно выше нормы. Значения субъективных признаков — бинарны.\n",
    "\n",
    "Все показатели даны на момент осмотра."
   ]
  },
  {
   "cell_type": "markdown",
   "id": "feacd186",
   "metadata": {},
   "source": [
    "Таргет - наличие сердечно-сосудистых заболеваний (ССЗ)"
   ]
  },
  {
   "cell_type": "code",
   "execution_count": 3,
   "id": "bbd7d7ad",
   "metadata": {},
   "outputs": [
    {
     "name": "stderr",
     "output_type": "stream",
     "text": [
      "J:\\Vadim\\lib\\site-packages\\IPython\\core\\interactiveshell.py:3457: FutureWarning: In a future version of pandas all arguments of read_csv except for the argument 'filepath_or_buffer' will be keyword-only.\n",
      "  exec(code_obj, self.user_global_ns, self.user_ns)\n"
     ]
    },
    {
     "data": {
      "text/html": [
       "<div>\n",
       "<style scoped>\n",
       "    .dataframe tbody tr th:only-of-type {\n",
       "        vertical-align: middle;\n",
       "    }\n",
       "\n",
       "    .dataframe tbody tr th {\n",
       "        vertical-align: top;\n",
       "    }\n",
       "\n",
       "    .dataframe thead th {\n",
       "        text-align: right;\n",
       "    }\n",
       "</style>\n",
       "<table border=\"1\" class=\"dataframe\">\n",
       "  <thead>\n",
       "    <tr style=\"text-align: right;\">\n",
       "      <th></th>\n",
       "      <th>id</th>\n",
       "      <th>age</th>\n",
       "      <th>gender</th>\n",
       "      <th>height</th>\n",
       "      <th>weight</th>\n",
       "      <th>ap_hi</th>\n",
       "      <th>ap_lo</th>\n",
       "      <th>cholesterol</th>\n",
       "      <th>gluc</th>\n",
       "      <th>smoke</th>\n",
       "      <th>alco</th>\n",
       "      <th>active</th>\n",
       "      <th>cardio</th>\n",
       "    </tr>\n",
       "  </thead>\n",
       "  <tbody>\n",
       "    <tr>\n",
       "      <th>0</th>\n",
       "      <td>0</td>\n",
       "      <td>18393</td>\n",
       "      <td>2</td>\n",
       "      <td>168</td>\n",
       "      <td>62.0</td>\n",
       "      <td>110</td>\n",
       "      <td>80</td>\n",
       "      <td>1</td>\n",
       "      <td>1</td>\n",
       "      <td>0</td>\n",
       "      <td>0</td>\n",
       "      <td>1</td>\n",
       "      <td>0</td>\n",
       "    </tr>\n",
       "    <tr>\n",
       "      <th>1</th>\n",
       "      <td>1</td>\n",
       "      <td>20228</td>\n",
       "      <td>1</td>\n",
       "      <td>156</td>\n",
       "      <td>85.0</td>\n",
       "      <td>140</td>\n",
       "      <td>90</td>\n",
       "      <td>3</td>\n",
       "      <td>1</td>\n",
       "      <td>0</td>\n",
       "      <td>0</td>\n",
       "      <td>1</td>\n",
       "      <td>1</td>\n",
       "    </tr>\n",
       "    <tr>\n",
       "      <th>2</th>\n",
       "      <td>2</td>\n",
       "      <td>18857</td>\n",
       "      <td>1</td>\n",
       "      <td>165</td>\n",
       "      <td>64.0</td>\n",
       "      <td>130</td>\n",
       "      <td>70</td>\n",
       "      <td>3</td>\n",
       "      <td>1</td>\n",
       "      <td>0</td>\n",
       "      <td>0</td>\n",
       "      <td>0</td>\n",
       "      <td>1</td>\n",
       "    </tr>\n",
       "  </tbody>\n",
       "</table>\n",
       "</div>"
      ],
      "text/plain": [
       "   id    age  gender  height  weight  ap_hi  ap_lo  cholesterol  gluc  smoke  \\\n",
       "0   0  18393       2     168    62.0    110     80            1     1      0   \n",
       "1   1  20228       1     156    85.0    140     90            3     1      0   \n",
       "2   2  18857       1     165    64.0    130     70            3     1      0   \n",
       "\n",
       "   alco  active  cardio  \n",
       "0     0       1       0  \n",
       "1     0       1       1  \n",
       "2     0       0       1  "
      ]
     },
     "execution_count": 3,
     "metadata": {},
     "output_type": "execute_result"
    }
   ],
   "source": [
    "df = pd.read_csv('C:/Users/Вадим/Desktop/GeekBrains/Machine-Learning-in-Business/Lectures/Lectures_3/train_case2.csv', 'CustomerID')\n",
    "df.head(3)"
   ]
  },
  {
   "cell_type": "markdown",
   "id": "76988744",
   "metadata": {},
   "source": [
    "Разделим наши данные на тренировочную и тестовую выборки"
   ]
  },
  {
   "cell_type": "code",
   "execution_count": 4,
   "id": "607751ec",
   "metadata": {},
   "outputs": [],
   "source": [
    "# разделим данные на train/test\n",
    "X_train, X_test, y_train, y_test = train_test_split(df.drop(columns='cardio'), \n",
    "                                                    df['cardio'], random_state=0)"
   ]
  },
  {
   "cell_type": "markdown",
   "id": "b7d29741",
   "metadata": {},
   "source": [
    "К полям:\n",
    "- gender, cholesterol применим OHE-кодирование\n",
    "- age, height, weight, ap_hi, ap_lo - standardScaler\n",
    "- gluc, smoke, alco, active - оставим пока как есть"
   ]
  },
  {
   "cell_type": "code",
   "execution_count": 5,
   "id": "6a8c659c",
   "metadata": {},
   "outputs": [],
   "source": [
    "class ColumnSelector(BaseEstimator, TransformerMixin):\n",
    "    \"\"\"\n",
    "    Transformer to select a single column from the data frame to perform additional transformations on\n",
    "    \"\"\"\n",
    "    def __init__(self, key):\n",
    "        self.key = key\n",
    "\n",
    "    def fit(self, X, y=None):\n",
    "        return self\n",
    "\n",
    "    def transform(self, X):\n",
    "        return X[self.key]\n",
    "    \n",
    "class NumberSelector(BaseEstimator, TransformerMixin):\n",
    "    \"\"\"\n",
    "    Transformer to select a single column from the data frame to perform additional transformations on\n",
    "    Use on numeric columns in the data\n",
    "    \"\"\"\n",
    "    def __init__(self, key):\n",
    "        self.key = key\n",
    "\n",
    "    def fit(self, X, y=None):\n",
    "        return self\n",
    "\n",
    "    def transform(self, X):\n",
    "        return X[[self.key]]\n",
    "    \n",
    "class OHEEncoder(BaseEstimator, TransformerMixin):\n",
    "    def __init__(self, key):\n",
    "        self.key = key\n",
    "        self.columns = []\n",
    "\n",
    "    def fit(self, X, y=None):\n",
    "        self.columns = [col for col in pd.get_dummies(X, prefix=self.key).columns]\n",
    "        return self\n",
    "\n",
    "    def transform(self, X):\n",
    "        X = pd.get_dummies(X, prefix=self.key)\n",
    "        test_columns = [col for col in X.columns]\n",
    "        for col_ in test_columns:\n",
    "            if col_ not in self.columns:\n",
    "                X[col_] = 0\n",
    "        return X[self.columns]\n"
   ]
  },
  {
   "cell_type": "code",
   "execution_count": 6,
   "id": "6a6222f1",
   "metadata": {},
   "outputs": [],
   "source": [
    "from sklearn.preprocessing import StandardScaler\n",
    "\n",
    "\n",
    "continuos_cols = ['age', 'height', 'weight', 'ap_hi', 'ap_lo']\n",
    "cat_cols = ['gender', 'cholesterol']\n",
    "base_cols = ['gluc', 'smoke', 'alco', 'active']\n",
    "\n",
    "continuos_transformers = []\n",
    "cat_transformers = []\n",
    "base_transformers = []\n",
    "\n",
    "for cont_col in continuos_cols:\n",
    "    transfomer =  Pipeline([\n",
    "                ('selector', NumberSelector(key=cont_col)),\n",
    "                ('standard', StandardScaler())\n",
    "            ])\n",
    "    continuos_transformers.append((cont_col, transfomer))\n",
    "    \n",
    "for cat_col in cat_cols:\n",
    "    cat_transformer = Pipeline([\n",
    "                ('selector', ColumnSelector(key=cat_col)),\n",
    "                ('ohe', OHEEncoder(key=cat_col))\n",
    "            ])\n",
    "    cat_transformers.append((cat_col, cat_transformer))\n",
    "    \n",
    "for base_col in base_cols:\n",
    "    base_transformer = Pipeline([\n",
    "                ('selector', NumberSelector(key=base_col))\n",
    "            ])\n",
    "    base_transformers.append((base_col, base_transformer))"
   ]
  },
  {
   "cell_type": "markdown",
   "id": "a5264143",
   "metadata": {},
   "source": [
    "Теперь объединим все наши трансформеры с помощью FeatureUnion"
   ]
  },
  {
   "cell_type": "code",
   "execution_count": 7,
   "id": "20cf57e7",
   "metadata": {},
   "outputs": [],
   "source": [
    "from sklearn.pipeline import FeatureUnion"
   ]
  },
  {
   "cell_type": "code",
   "execution_count": 8,
   "id": "53bd3b98",
   "metadata": {},
   "outputs": [
    {
     "data": {
      "text/plain": [
       "array([[-1.73391771,  0.6873301 ,  0.74843904, ...,  1.        ,\n",
       "         0.        ,  1.        ],\n",
       "       [-1.67343538,  0.07758923, -0.29640123, ...,  0.        ,\n",
       "         0.        ,  1.        ],\n",
       "       [ 0.13738132,  1.17512278, -0.15708919, ...,  0.        ,\n",
       "         0.        ,  0.        ],\n",
       "       ...,\n",
       "       [ 1.17775864,  1.17512278, -0.15708919, ...,  0.        ,\n",
       "         0.        ,  1.        ],\n",
       "       [-0.47190715, -1.38578883,  0.74843904, ...,  0.        ,\n",
       "         0.        ,  1.        ],\n",
       "       [ 0.38174619,  0.56538192, -0.08743318, ...,  0.        ,\n",
       "         0.        ,  1.        ]])"
      ]
     },
     "execution_count": 8,
     "metadata": {},
     "output_type": "execute_result"
    }
   ],
   "source": [
    "feats = FeatureUnion(continuos_transformers+cat_transformers+base_transformers)\n",
    "feature_processing = Pipeline([('feats', feats)])\n",
    "\n",
    "feature_processing.fit_transform(X_train)"
   ]
  },
  {
   "cell_type": "markdown",
   "id": "26c86086",
   "metadata": {},
   "source": [
    "Добавим классификатор и запустим кросс-валидацию"
   ]
  },
  {
   "cell_type": "code",
   "execution_count": 169,
   "id": "40b6116d",
   "metadata": {},
   "outputs": [],
   "source": [
    "classifier = Pipeline([\n",
    "    ('features', feats),\n",
    "    ('classifier', DecisionTreeClassifier(random_state=42, max_depth=5, min_samples_leaf=20)),\n",
    "])\n"
   ]
  },
  {
   "cell_type": "code",
   "execution_count": 170,
   "id": "a6d59a08",
   "metadata": {},
   "outputs": [
    {
     "name": "stdout",
     "output_type": "stream",
     "text": [
      "CV score is 0.7914056426883599+-0.003419082542023634\n"
     ]
    }
   ],
   "source": [
    "# запустим кросс-валидацию\n",
    "cv_scores = cross_val_score(classifier, X_train, y_train, cv=7, scoring='roc_auc')\n",
    "cv_score = np.mean(cv_scores)\n",
    "cv_score_std = np.std(cv_scores)\n",
    "print(f'CV score is {cv_score}+-{cv_score_std}')\n",
    "\n",
    "# обучим пайплайн на всем тренировочном датасете\n",
    "classifier.fit(X_train, y_train)\n",
    "y_score = classifier.predict_proba(X_test)[:, 1]"
   ]
  },
  {
   "cell_type": "markdown",
   "id": "d7209719",
   "metadata": {},
   "source": [
    "Посчитаем precision/recall/f_score"
   ]
  },
  {
   "cell_type": "code",
   "execution_count": 171,
   "id": "f73b5c22",
   "metadata": {},
   "outputs": [
    {
     "name": "stdout",
     "output_type": "stream",
     "text": [
      "Best Threshold=0.3787465940054496, F-Score=0.735, Precision=0.668, Recall=0.818\n"
     ]
    }
   ],
   "source": [
    "b = 1\n",
    "precision, recall, thresholds = precision_recall_curve(y_test.values, y_score)\n",
    "fscore = (1 +b**2) * (precision * recall) / (b**2 * precision + recall)\n",
    "# locate the index of the largest f score\n",
    "ix = np.argmax(fscore)\n",
    "print(f'Best Threshold={thresholds[ix]}, F-Score={fscore[ix]:.3f}, Precision={precision[ix]:.3f}, Recall={recall[ix]:.3f}')"
   ]
  },
  {
   "cell_type": "markdown",
   "id": "954cdf04",
   "metadata": {},
   "source": [
    "Нарисуем roc auc кривую."
   ]
  },
  {
   "cell_type": "code",
   "execution_count": 172,
   "id": "20c6c2a1",
   "metadata": {},
   "outputs": [
    {
     "data": {
      "image/png": "[encoded data removed]",
      "text/plain": [
       "<Figure size 720x576 with 1 Axes>"
      ]
     },
     "metadata": {},
     "output_type": "display_data"
    }
   ],
   "source": [
    "sns.set(font_scale=1.5)\n",
    "sns.set_color_codes(\"muted\")\n",
    "\n",
    "plt.figure(figsize=(10, 8))\n",
    "fpr, tpr, thresholds_ = roc_curve(y_test, y_score, pos_label=1)\n",
    "lw = 2\n",
    "plt.plot(fpr, tpr, lw=lw, label='ROC curve ')\n",
    "plt.plot([0, 1], [0, 1])\n",
    "plt.xlim([0.0, 1.0])\n",
    "plt.ylim([0.0, 1.05])\n",
    "plt.xlabel('False Positive Rate')\n",
    "plt.ylabel('True Positive Rate')\n",
    "plt.title('ROC curve')\n",
    "plt.savefig(\"ROC.png\")\n",
    "plt.show()"
   ]
  },
  {
   "cell_type": "code",
   "execution_count": 173,
   "id": "2ab6db3c",
   "metadata": {},
   "outputs": [
    {
     "name": "stdout",
     "output_type": "stream",
     "text": [
      "roc auc score: 0.7944321842092326\n",
      "roc auc score: 0.7928836261847289\n"
     ]
    }
   ],
   "source": [
    "print(f\"roc auc score: {roc_auc_score(y_train, classifier.predict_proba(X_train)[:, 1])}\")\n",
    "\n",
    "print(f\"roc auc score: {roc_auc_score(y_test, classifier.predict_proba(X_test)[:, 1])}\")"
   ]
  },
  {
   "cell_type": "markdown",
   "id": "be204bb5",
   "metadata": {},
   "source": [
    "Посмотрим на матрицу ошибок"
   ]
  },
  {
   "cell_type": "code",
   "execution_count": 174,
   "id": "f8de6643",
   "metadata": {},
   "outputs": [
    {
     "name": "stderr",
     "output_type": "stream",
     "text": [
      "C:\\Users\\7C77~1\\AppData\\Local\\Temp/ipykernel_10176/856742999.py:11: MatplotlibDeprecationWarning: Auto-removal of grids by pcolor() and pcolormesh() is deprecated since 3.5 and will be removed two minor releases later; please call grid(False) first.\n",
      "  plt.colorbar()\n"
     ]
    },
    {
     "name": "stdout",
     "output_type": "stream",
     "text": [
      "Confusion matrix, without normalization\n",
      "[[5343 3477]\n",
      " [1638 7042]]\n"
     ]
    },
    {
     "data": {
      "image/png": "[encoded data removed]",
      "text/plain": [
       "<Figure size 720x576 with 2 Axes>"
      ]
     },
     "metadata": {},
     "output_type": "display_data"
    }
   ],
   "source": [
    "# мы уже нашли ранее \"оптимальный\" порог, когда максимизировали f_score\n",
    "font = {'size' : 15}\n",
    "\n",
    "plt.rc('font', **font)\n",
    "\n",
    "cnf_matrix = confusion_matrix(y_test, y_score > thresholds[ix])\n",
    "plt.figure(figsize=(10, 8))\n",
    "plot_confusion_matrix(cnf_matrix, classes=['cardio_0', 'cardio_1'],\n",
    "                      title='Confusion matrix')\n",
    "plt.savefig(\"conf_matrix.png\")\n",
    "plt.show()"
   ]
  },
  {
   "cell_type": "markdown",
   "id": "16ff033c",
   "metadata": {},
   "source": [
    "Посчитаем FPR, TPR"
   ]
  },
  {
   "cell_type": "code",
   "execution_count": 175,
   "id": "23674a53",
   "metadata": {},
   "outputs": [
    {
     "data": {
      "text/plain": [
       "(0.8112903225806452, 0.39421768707482996, 0.60578231292517)"
      ]
     },
     "execution_count": 175,
     "metadata": {},
     "output_type": "execute_result"
    }
   ],
   "source": [
    "TN = cnf_matrix[0][0]\n",
    "FN = cnf_matrix[1][0]\n",
    "TP = cnf_matrix[1][1]\n",
    "FP = cnf_matrix[0][1]\n",
    "\n",
    "TPR = TP / (TP+FN)\n",
    "FPR = FP / (FP+TN)\n",
    "TNR = TN / (FP+TN)\n",
    "TPR, FPR, TNR"
   ]
  },
  {
   "cell_type": "markdown",
   "id": "cbc50ef4",
   "metadata": {},
   "source": [
    "False Positive Rate довольно высокий ~ 0.47.\n",
    "\n",
    "Это означает, что 47 процентов здоровых пациентов получат метку 1."
   ]
  },
  {
   "cell_type": "markdown",
   "id": "160675e2",
   "metadata": {},
   "source": [
    "#### Бизнес метрики"
   ]
  },
  {
   "cell_type": "markdown",
   "id": "33620bff",
   "metadata": {},
   "source": [
    "\n",
    "Пусть:\n",
    "\n",
    "- стоимость лечения 15000р, если сделали тест и начали лечить вовремя\n",
    "- стоимость лечения 20000р, если упустили и начали лечить когда уже проявились все симптомы\n",
    "- стоимость теста 1400р\n",
    "\n",
    "\n",
    "\n",
    "- лишних тестов сделали FP = cnf_matrix[0][1]\n",
    "- пропустили больных FN = cnf_matrix[1][0]\n",
    "- правильных тестов сделали TP = cnf_matrix[1][1]\n",
    "\n",
    "Оценим расходы, если не делать тест и ждать симптомов:\n"
   ]
  },
  {
   "cell_type": "code",
   "execution_count": 118,
   "id": "41e01f47",
   "metadata": {},
   "outputs": [],
   "source": [
    "rubl_test = 1400\n",
    "rubl_early_treatment = 15000\n",
    "rubl_late_treatment = 20000"
   ]
  },
  {
   "cell_type": "code",
   "execution_count": 119,
   "id": "0a34e452",
   "metadata": {},
   "outputs": [
    {
     "name": "stdout",
     "output_type": "stream",
     "text": [
      "расходы, если не делать тест и ждать симптомов: 173600000\n"
     ]
    }
   ],
   "source": [
    "rubl_1 = (FN + TP) * rubl_late_treatment\n",
    "print('расходы, если не делать тест и ждать симптомов:', rubl_1)"
   ]
  },
  {
   "cell_type": "markdown",
   "id": "25554b60",
   "metadata": {},
   "source": [
    "Расходы, если сделать тест всем:"
   ]
  },
  {
   "cell_type": "code",
   "execution_count": 176,
   "id": "6be42fa6",
   "metadata": {},
   "outputs": [
    {
     "name": "stdout",
     "output_type": "stream",
     "text": [
      "расходы, если делать тест всем и лечить группу большых: 154700000\n"
     ]
    }
   ],
   "source": [
    "rubl_test_all = np.sum(cnf_matrix) * rubl_test + (FN + TP) * rubl_early_treatment\n",
    "print('расходы, если делать тест всем и лечить группу большых:', rubl_test_all)"
   ]
  },
  {
   "cell_type": "markdown",
   "id": "d24c31d7",
   "metadata": {},
   "source": [
    "Расходы если использовать ML:"
   ]
  },
  {
   "cell_type": "code",
   "execution_count": 177,
   "id": "050cf543",
   "metadata": {},
   "outputs": [
    {
     "name": "stdout",
     "output_type": "stream",
     "text": [
      "расходы, если использовать МЛ: 153116600\n"
     ]
    }
   ],
   "source": [
    "rubl_ML = (FP + TP) * rubl_test + FN * rubl_late_treatment + TP * rubl_early_treatment\n",
    "print('расходы, если использовать МЛ:', rubl_ML)"
   ]
  },
  {
   "cell_type": "markdown",
   "id": "9c91987c",
   "metadata": {},
   "source": [
    "Оценим разницу:"
   ]
  },
  {
   "cell_type": "code",
   "execution_count": 178,
   "id": "97e33bc5",
   "metadata": {},
   "outputs": [
    {
     "name": "stdout",
     "output_type": "stream",
     "text": [
      "Расходы \"решение не делать тесты - расходы с МL:\" 20483400\n",
      "Расходы \"решение не делать тесты - расходы сделать тесты всем\": 18900000\n",
      "Расходы \"сделать тесты всем - решение делать тесты ML\": 1583400\n"
     ]
    }
   ],
   "source": [
    "print('Расходы \"решение не делать тесты - расходы с МL:\"', rubl_1 - rubl_ML)\n",
    "print('Расходы \"решение не делать тесты - расходы сделать тесты всем\":', rubl_1 - rubl_test_all)\n",
    "print('Расходы \"сделать тесты всем - решение делать тесты ML\":', rubl_test_all - rubl_ML)"
   ]
  },
  {
   "cell_type": "markdown",
   "id": "7cb90a6f",
   "metadata": {},
   "source": [
    "Метрика по деньгам : получить меньше расходов чем при полном тесте"
   ]
  },
  {
   "cell_type": "code",
   "execution_count": 179,
   "id": "9e053064",
   "metadata": {},
   "outputs": [],
   "source": [
    "def business_threshold_calibrate(y_test, y_score, thresholds,\n",
    "                                 rubl_test=100, rubl_early_treatment=100, rubl_late_treatment=1000):\n",
    "    business_threshold = 0\n",
    "    r_test_all_r_ML_ = 0\n",
    "\n",
    "    rubl_ML_ = 1_000_000_000 \n",
    "\n",
    "    rs = []\n",
    "    n = 20\n",
    "    for opt_buisness_tr in np.linspace(0, 1, n).tolist():\n",
    "        # подберем порог для улучшения бизнесс показателя\n",
    "\n",
    "        cnf_matrix = confusion_matrix(y_test, y_score > (opt_buisness_tr))\n",
    "        TN = cnf_matrix[0][0]\n",
    "        FN = cnf_matrix[1][0]\n",
    "        TP = cnf_matrix[1][1]\n",
    "        FP = cnf_matrix[0][1]\n",
    "\n",
    "        rubl_1 = (TP + FN) * rubl_late_treatment\n",
    "        rubl_test_all = np.sum(cnf_matrix) * rubl_test + (FN + TP) * rubl_early_treatment\n",
    "        rubl_ML = (TP + FP) * rubl_test + FN * rubl_late_treatment + TP * rubl_early_treatment\n",
    "        \n",
    "        r_test_all_r_ML = rubl_test_all - rubl_ML \n",
    "        \n",
    "        if rubl_ML < rubl_ML_:            \n",
    "            business_threshold = opt_buisness_tr\n",
    "            \n",
    "            rubl_ML_ = rubl_ML\n",
    "            \n",
    "        rs.append(rubl_ML)   \n",
    "            \n",
    "    \n",
    "    print('расходы, если не делать тест и ждать симптомов:', rubl_1)\n",
    "    print('расходы, если делать тест всем и лечить группу больных:', rubl_test_all)\n",
    "    print('расходы, если использовать МЛ:', rubl_ML_)\n",
    "\n",
    "    print('Расходы \"решение не делать тесты - расходы с МL:\"', rubl_1 - rubl_ML_)\n",
    "    print('Расходы \"решение не делать тесты - расходы сделать тесты всем\":', rubl_1 - rubl_test_all)\n",
    "    print('Расходы \"сделать тесты всем - решение делать тесты ML\":', rubl_test_all - rubl_ML_)\n",
    "    \n",
    "    plt.title('Потери при МЛ решении')\n",
    "    plt.xlabel('Отсечка')\n",
    "    plt.ylabel('Потери')\n",
    "    plt.plot(np.linspace(0,1,n), rs)\n",
    "    plt.show()\n",
    "    return business_threshold"
   ]
  },
  {
   "cell_type": "code",
   "execution_count": 180,
   "id": "4cbf05f5",
   "metadata": {},
   "outputs": [
    {
     "name": "stdout",
     "output_type": "stream",
     "text": [
      "расходы, если не делать тест и ждать симптомов: 173600000\n",
      "расходы, если делать тест всем и лечить группу больных: 154700000\n",
      "расходы, если использовать МЛ: 152694800\n",
      "Расходы \"решение не делать тесты - расходы с МL:\" 20905200\n",
      "Расходы \"решение не делать тесты - расходы сделать тесты всем\": 18900000\n",
      "Расходы \"сделать тесты всем - решение делать тесты ML\": 2005200\n"
     ]
    },
    {
     "data": {
      "image/png": "[encoded data removed]",
      "text/plain": [
       "<Figure size 432x288 with 1 Axes>"
      ]
     },
     "metadata": {},
     "output_type": "display_data"
    },
    {
     "name": "stdout",
     "output_type": "stream",
     "text": [
      "уровень порога по бизнес метрике 0.2631578947368421\n",
      "уровень порога по f1 метрике 0.3787465940054496\n"
     ]
    }
   ],
   "source": [
    "busines_tr = business_threshold_calibrate(y_test, y_score, \n",
    "                                          thresholds[ix],\n",
    "                                          rubl_test=1400, \n",
    "                                          rubl_early_treatment=15000, \n",
    "                                          rubl_late_treatment=20000)\n",
    "\n",
    "print('уровень порога по бизнес метрике', busines_tr)\n",
    "print('уровень порога по f1 метрике', thresholds[ix])"
   ]
  },
  {
   "cell_type": "code",
   "execution_count": null,
   "id": "582f98ea",
   "metadata": {},
   "outputs": [],
   "source": []
  }
 ],
 "metadata": {
  "kernelspec": {
   "display_name": "Python 3 (ipykernel)",
   "language": "python",
   "name": "python3"
  },
  "language_info": {
   "codemirror_mode": {
    "name": "ipython",
    "version": 3
   },
   "file_extension": ".py",
   "mimetype": "text/x-python",
   "name": "python",
   "nbconvert_exporter": "python",
   "pygments_lexer": "ipython3",
   "version": "3.8.8"
  }
 },
 "nbformat": 4,
 "nbformat_minor": 5
}
