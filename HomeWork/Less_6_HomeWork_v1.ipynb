{
 "cells": [
  {
   "cell_type": "code",
   "execution_count": 181,
   "id": "f4efa1f9",
   "metadata": {},
   "outputs": [],
   "source": [
    "import numpy as np\n",
    "import pandas as pd\n",
    "from sklearn.metrics import precision_recall_curve, f1_score, roc_auc_score, precision_score, classification_report, \\\n",
    "    confusion_matrix, recall_score, accuracy_score"
   ]
  },
  {
   "cell_type": "code",
   "execution_count": 182,
   "id": "ca535fa3",
   "metadata": {},
   "outputs": [],
   "source": [
    "from nltk.tokenize import SpaceTokenizer\n",
    "from sklearn.pipeline import Pipeline, make_pipeline\n",
    "from sklearn.base import BaseEstimator, TransformerMixin\n",
    "from sklearn.linear_model import LogisticRegression\n",
    "from sklearn.ensemble import RandomForestClassifier\n",
    "from sklearn.model_selection import train_test_split\n",
    "from sklearn.feature_extraction.text import TfidfVectorizer\n",
    "import itertools\n",
    "import re\n",
    "\n",
    "import xgboost as xgb\n",
    "xgb.set_config(verbosity=0)\n",
    "\n",
    "%matplotlib inline\n",
    "import matplotlib.pyplot as plt"
   ]
  },
  {
   "cell_type": "markdown",
   "id": "7aea07ac",
   "metadata": {},
   "source": [
    "Источник Датасета - https://archive.ics.uci.edu/ml/datasets/Online+Retail"
   ]
  },
  {
   "cell_type": "code",
   "execution_count": 184,
   "id": "d84427fe",
   "metadata": {},
   "outputs": [
    {
     "data": {
      "text/html": [
       "<div>\n",
       "<style scoped>\n",
       "    .dataframe tbody tr th:only-of-type {\n",
       "        vertical-align: middle;\n",
       "    }\n",
       "\n",
       "    .dataframe tbody tr th {\n",
       "        vertical-align: top;\n",
       "    }\n",
       "\n",
       "    .dataframe thead th {\n",
       "        text-align: right;\n",
       "    }\n",
       "</style>\n",
       "<table border=\"1\" class=\"dataframe\">\n",
       "  <thead>\n",
       "    <tr style=\"text-align: right;\">\n",
       "      <th></th>\n",
       "      <th>InvoiceNo</th>\n",
       "      <th>StockCode</th>\n",
       "      <th>Description</th>\n",
       "      <th>Quantity</th>\n",
       "      <th>InvoiceDate</th>\n",
       "      <th>UnitPrice</th>\n",
       "      <th>CustomerID</th>\n",
       "      <th>Country</th>\n",
       "    </tr>\n",
       "  </thead>\n",
       "  <tbody>\n",
       "    <tr>\n",
       "      <th>0</th>\n",
       "      <td>536365</td>\n",
       "      <td>85123A</td>\n",
       "      <td>WHITE HANGING HEART T-LIGHT HOLDER</td>\n",
       "      <td>6</td>\n",
       "      <td>2010-12-01 08:26:00</td>\n",
       "      <td>2.55</td>\n",
       "      <td>17850.0</td>\n",
       "      <td>United Kingdom</td>\n",
       "    </tr>\n",
       "    <tr>\n",
       "      <th>1</th>\n",
       "      <td>536365</td>\n",
       "      <td>71053</td>\n",
       "      <td>WHITE METAL LANTERN</td>\n",
       "      <td>6</td>\n",
       "      <td>2010-12-01 08:26:00</td>\n",
       "      <td>3.39</td>\n",
       "      <td>17850.0</td>\n",
       "      <td>United Kingdom</td>\n",
       "    </tr>\n",
       "    <tr>\n",
       "      <th>2</th>\n",
       "      <td>536365</td>\n",
       "      <td>84406B</td>\n",
       "      <td>CREAM CUPID HEARTS COAT HANGER</td>\n",
       "      <td>8</td>\n",
       "      <td>2010-12-01 08:26:00</td>\n",
       "      <td>2.75</td>\n",
       "      <td>17850.0</td>\n",
       "      <td>United Kingdom</td>\n",
       "    </tr>\n",
       "  </tbody>\n",
       "</table>\n",
       "</div>"
      ],
      "text/plain": [
       "  InvoiceNo StockCode                         Description  Quantity  \\\n",
       "0    536365    85123A  WHITE HANGING HEART T-LIGHT HOLDER         6   \n",
       "1    536365     71053                 WHITE METAL LANTERN         6   \n",
       "2    536365    84406B      CREAM CUPID HEARTS COAT HANGER         8   \n",
       "\n",
       "          InvoiceDate  UnitPrice  CustomerID         Country  \n",
       "0 2010-12-01 08:26:00       2.55     17850.0  United Kingdom  \n",
       "1 2010-12-01 08:26:00       3.39     17850.0  United Kingdom  \n",
       "2 2010-12-01 08:26:00       2.75     17850.0  United Kingdom  "
      ]
     },
     "execution_count": 184,
     "metadata": {},
     "output_type": "execute_result"
    }
   ],
   "source": [
    "df = pd.read_excel('C:/Users/Вадим/Desktop/GeekBrains/Machine-Learning-in-Business/Lectures/Lectures_6/HomeWork/Online-Retail.xlsx')\n",
    "df.head(3)"
   ]
  },
  {
   "cell_type": "code",
   "execution_count": 185,
   "id": "7c31df2e",
   "metadata": {},
   "outputs": [
    {
     "data": {
      "text/plain": [
       "135080"
      ]
     },
     "execution_count": 185,
     "metadata": {},
     "output_type": "execute_result"
    }
   ],
   "source": [
    "len(df[df[\"CustomerID\"].isnull()])"
   ]
  },
  {
   "cell_type": "markdown",
   "id": "211df3b2",
   "metadata": {},
   "source": [
    "Так как нас интересует работа в дальнейшем с известными нам пользователями удалим случайных покупателей."
   ]
  },
  {
   "cell_type": "code",
   "execution_count": 186,
   "id": "3de28d07",
   "metadata": {},
   "outputs": [],
   "source": [
    "df.dropna(subset=['CustomerID'], inplace=True)"
   ]
  },
  {
   "cell_type": "code",
   "execution_count": 187,
   "id": "1e1e0a0f",
   "metadata": {},
   "outputs": [
    {
     "data": {
      "text/plain": [
       "InvoiceNo      0\n",
       "StockCode      0\n",
       "Description    0\n",
       "Quantity       0\n",
       "InvoiceDate    0\n",
       "UnitPrice      0\n",
       "CustomerID     0\n",
       "Country        0\n",
       "dtype: int64"
      ]
     },
     "execution_count": 187,
     "metadata": {},
     "output_type": "execute_result"
    }
   ],
   "source": [
    "df.isnull().sum()"
   ]
  },
  {
   "cell_type": "code",
   "execution_count": 188,
   "id": "55294186",
   "metadata": {},
   "outputs": [
    {
     "data": {
      "text/plain": [
       "406829"
      ]
     },
     "execution_count": 188,
     "metadata": {},
     "output_type": "execute_result"
    }
   ],
   "source": [
    "len(df)"
   ]
  },
  {
   "cell_type": "code",
   "execution_count": 189,
   "id": "cff71206",
   "metadata": {},
   "outputs": [
    {
     "name": "stdout",
     "output_type": "stream",
     "text": [
      "<class 'pandas.core.frame.DataFrame'>\n",
      "Int64Index: 406829 entries, 0 to 541908\n",
      "Data columns (total 8 columns):\n",
      " #   Column       Non-Null Count   Dtype         \n",
      "---  ------       --------------   -----         \n",
      " 0   InvoiceNo    406829 non-null  object        \n",
      " 1   StockCode    406829 non-null  object        \n",
      " 2   Description  406829 non-null  object        \n",
      " 3   Quantity     406829 non-null  int64         \n",
      " 4   InvoiceDate  406829 non-null  datetime64[ns]\n",
      " 5   UnitPrice    406829 non-null  float64       \n",
      " 6   CustomerID   406829 non-null  float64       \n",
      " 7   Country      406829 non-null  object        \n",
      "dtypes: datetime64[ns](1), float64(2), int64(1), object(4)\n",
      "memory usage: 27.9+ MB\n"
     ]
    }
   ],
   "source": [
    "df.info()"
   ]
  },
  {
   "cell_type": "code",
   "execution_count": 190,
   "id": "cb73a66b",
   "metadata": {},
   "outputs": [],
   "source": [
    "df = df.astype({'CustomerID': np.int32})"
   ]
  },
  {
   "cell_type": "code",
   "execution_count": 191,
   "id": "b26d903d",
   "metadata": {},
   "outputs": [
    {
     "data": {
      "text/html": [
       "<div>\n",
       "<style scoped>\n",
       "    .dataframe tbody tr th:only-of-type {\n",
       "        vertical-align: middle;\n",
       "    }\n",
       "\n",
       "    .dataframe tbody tr th {\n",
       "        vertical-align: top;\n",
       "    }\n",
       "\n",
       "    .dataframe thead th {\n",
       "        text-align: right;\n",
       "    }\n",
       "</style>\n",
       "<table border=\"1\" class=\"dataframe\">\n",
       "  <thead>\n",
       "    <tr style=\"text-align: right;\">\n",
       "      <th></th>\n",
       "      <th>InvoiceNo</th>\n",
       "      <th>StockCode</th>\n",
       "      <th>Description</th>\n",
       "      <th>Quantity</th>\n",
       "      <th>InvoiceDate</th>\n",
       "      <th>UnitPrice</th>\n",
       "      <th>CustomerID</th>\n",
       "      <th>Country</th>\n",
       "    </tr>\n",
       "  </thead>\n",
       "  <tbody>\n",
       "    <tr>\n",
       "      <th>0</th>\n",
       "      <td>536365</td>\n",
       "      <td>85123A</td>\n",
       "      <td>WHITE HANGING HEART T-LIGHT HOLDER</td>\n",
       "      <td>6</td>\n",
       "      <td>2010-12-01 08:26:00</td>\n",
       "      <td>2.55</td>\n",
       "      <td>17850</td>\n",
       "      <td>United Kingdom</td>\n",
       "    </tr>\n",
       "    <tr>\n",
       "      <th>1</th>\n",
       "      <td>536365</td>\n",
       "      <td>71053</td>\n",
       "      <td>WHITE METAL LANTERN</td>\n",
       "      <td>6</td>\n",
       "      <td>2010-12-01 08:26:00</td>\n",
       "      <td>3.39</td>\n",
       "      <td>17850</td>\n",
       "      <td>United Kingdom</td>\n",
       "    </tr>\n",
       "    <tr>\n",
       "      <th>2</th>\n",
       "      <td>536365</td>\n",
       "      <td>84406B</td>\n",
       "      <td>CREAM CUPID HEARTS COAT HANGER</td>\n",
       "      <td>8</td>\n",
       "      <td>2010-12-01 08:26:00</td>\n",
       "      <td>2.75</td>\n",
       "      <td>17850</td>\n",
       "      <td>United Kingdom</td>\n",
       "    </tr>\n",
       "  </tbody>\n",
       "</table>\n",
       "</div>"
      ],
      "text/plain": [
       "  InvoiceNo StockCode                         Description  Quantity  \\\n",
       "0    536365    85123A  WHITE HANGING HEART T-LIGHT HOLDER         6   \n",
       "1    536365     71053                 WHITE METAL LANTERN         6   \n",
       "2    536365    84406B      CREAM CUPID HEARTS COAT HANGER         8   \n",
       "\n",
       "          InvoiceDate  UnitPrice  CustomerID         Country  \n",
       "0 2010-12-01 08:26:00       2.55       17850  United Kingdom  \n",
       "1 2010-12-01 08:26:00       3.39       17850  United Kingdom  \n",
       "2 2010-12-01 08:26:00       2.75       17850  United Kingdom  "
      ]
     },
     "execution_count": 191,
     "metadata": {},
     "output_type": "execute_result"
    }
   ],
   "source": [
    "df.head(3)"
   ]
  },
  {
   "cell_type": "markdown",
   "id": "24eb44a6",
   "metadata": {},
   "source": [
    "Посмотрим на страновое распределение покупателей"
   ]
  },
  {
   "cell_type": "code",
   "execution_count": 192,
   "id": "3a76e099",
   "metadata": {},
   "outputs": [
    {
     "data": {
      "text/plain": [
       "United Kingdom          361878\n",
       "Germany                   9495\n",
       "France                    8491\n",
       "EIRE                      7485\n",
       "Spain                     2533\n",
       "Netherlands               2371\n",
       "Belgium                   2069\n",
       "Switzerland               1877\n",
       "Portugal                  1480\n",
       "Australia                 1259\n",
       "Norway                    1086\n",
       "Italy                      803\n",
       "Channel Islands            758\n",
       "Finland                    695\n",
       "Cyprus                     622\n",
       "Sweden                     462\n",
       "Austria                    401\n",
       "Denmark                    389\n",
       "Japan                      358\n",
       "Poland                     341\n",
       "USA                        291\n",
       "Israel                     250\n",
       "Unspecified                244\n",
       "Singapore                  229\n",
       "Iceland                    182\n",
       "Canada                     151\n",
       "Greece                     146\n",
       "Malta                      127\n",
       "United Arab Emirates        68\n",
       "European Community          61\n",
       "RSA                         58\n",
       "Lebanon                     45\n",
       "Lithuania                   35\n",
       "Brazil                      32\n",
       "Czech Republic              30\n",
       "Bahrain                     17\n",
       "Saudi Arabia                10\n",
       "Name: Country, dtype: int64"
      ]
     },
     "execution_count": 192,
     "metadata": {},
     "output_type": "execute_result"
    }
   ],
   "source": [
    "df['Country'].value_counts()"
   ]
  },
  {
   "cell_type": "code",
   "execution_count": 193,
   "id": "7c523351",
   "metadata": {},
   "outputs": [
    {
     "data": {
      "text/plain": [
       "count             406829\n",
       "unique                37\n",
       "top       United Kingdom\n",
       "freq              361878\n",
       "Name: Country, dtype: object"
      ]
     },
     "execution_count": 193,
     "metadata": {},
     "output_type": "execute_result"
    }
   ],
   "source": [
    "df['Country'].describe()"
   ]
  },
  {
   "cell_type": "markdown",
   "id": "c0b3a293",
   "metadata": {},
   "source": [
    "Доминирующее положение представителей United Kingdom."
   ]
  },
  {
   "cell_type": "code",
   "execution_count": 194,
   "id": "7c4ccb58",
   "metadata": {},
   "outputs": [],
   "source": [
    "import nltk\n",
    "from nltk.corpus import stopwords"
   ]
  },
  {
   "cell_type": "code",
   "execution_count": 195,
   "id": "0f5b1bc8",
   "metadata": {},
   "outputs": [
    {
     "name": "stdout",
     "output_type": "stream",
     "text": [
      "179\n"
     ]
    }
   ],
   "source": [
    "stopword = stopwords.words('english')\n",
    "print(len(stopword))"
   ]
  },
  {
   "cell_type": "markdown",
   "id": "c7d3d9a4",
   "metadata": {},
   "source": [
    "Пусть по техзаданию заказчика требуется найти 3000 покупателей кому можно сделать предложение о поступлении новинки в чайном ассортименте магазина. Требуется найти среди покупателей целевую группу для проведения маркетинговой акции."
   ]
  },
  {
   "cell_type": "code",
   "execution_count": 196,
   "id": "0f3ea834",
   "metadata": {},
   "outputs": [],
   "source": [
    "product_search = 'tea'"
   ]
  },
  {
   "cell_type": "markdown",
   "id": "4b7199c2",
   "metadata": {},
   "source": [
    "Почистим поле Description и добавим дополнительный столбец \"метку\" класса."
   ]
  },
  {
   "cell_type": "code",
   "execution_count": 197,
   "id": "a011b93d",
   "metadata": {},
   "outputs": [],
   "source": [
    "def lower_text(text):\n",
    "    '''\n",
    "    перевод текста в нижний регистр и удаление ненужных символов в названии товара\n",
    "    '''\n",
    "    if not isinstance(text, str):\n",
    "        text = str(text)\n",
    "    \n",
    "    text = text.lower()\n",
    "    text = text.strip('\\n').strip('\\r').strip('\\t')\n",
    "    \n",
    "    text = re.sub(\"[0-9]|[-—.,:;_%©«»?*!@#№$^•·&()]|\", '', text)\n",
    "    text = re.sub(\"[+=]|[||/]|\", '', text)\n",
    "    \n",
    "    return text"
   ]
  },
  {
   "cell_type": "code",
   "execution_count": 198,
   "id": "144dccff",
   "metadata": {},
   "outputs": [],
   "source": [
    "def text_without_stopword(text):    \n",
    "    '''\n",
    "    избавляемся от стоп-слов\n",
    "    '''\n",
    "    if not isinstance(text, str):\n",
    "        text = str(text)\n",
    "    \n",
    "    words = SpaceTokenizer().tokenize(text)\n",
    "\n",
    "    words_lem_without_stopwords = [i for i in words if not i in stopword]\n",
    "    \n",
    "    return \" \".join(words_lem_without_stopwords)"
   ]
  },
  {
   "cell_type": "code",
   "execution_count": 199,
   "id": "6bd193bc",
   "metadata": {},
   "outputs": [],
   "source": [
    "def rule(x, y):\n",
    "    return 1 if x in y else 0"
   ]
  },
  {
   "cell_type": "code",
   "execution_count": 200,
   "id": "0888b660",
   "metadata": {},
   "outputs": [],
   "source": [
    "df['Description'] = df['Description'].apply(lambda x: lower_text(x))"
   ]
  },
  {
   "cell_type": "code",
   "execution_count": 201,
   "id": "525fb847",
   "metadata": {},
   "outputs": [],
   "source": [
    "df['Description'] = df['Description'].apply(lambda x: text_without_stopword(x))"
   ]
  },
  {
   "cell_type": "code",
   "execution_count": 202,
   "id": "f3fcf43d",
   "metadata": {},
   "outputs": [],
   "source": [
    "df['flag'] = df['Description'].apply(lambda y: rule(product_search,y))"
   ]
  },
  {
   "cell_type": "code",
   "execution_count": 203,
   "id": "289a2766",
   "metadata": {},
   "outputs": [
    {
     "data": {
      "text/html": [
       "<div>\n",
       "<style scoped>\n",
       "    .dataframe tbody tr th:only-of-type {\n",
       "        vertical-align: middle;\n",
       "    }\n",
       "\n",
       "    .dataframe tbody tr th {\n",
       "        vertical-align: top;\n",
       "    }\n",
       "\n",
       "    .dataframe thead th {\n",
       "        text-align: right;\n",
       "    }\n",
       "</style>\n",
       "<table border=\"1\" class=\"dataframe\">\n",
       "  <thead>\n",
       "    <tr style=\"text-align: right;\">\n",
       "      <th></th>\n",
       "      <th>InvoiceNo</th>\n",
       "      <th>StockCode</th>\n",
       "      <th>Description</th>\n",
       "      <th>Quantity</th>\n",
       "      <th>InvoiceDate</th>\n",
       "      <th>UnitPrice</th>\n",
       "      <th>CustomerID</th>\n",
       "      <th>Country</th>\n",
       "      <th>flag</th>\n",
       "    </tr>\n",
       "  </thead>\n",
       "  <tbody>\n",
       "    <tr>\n",
       "      <th>14</th>\n",
       "      <td>536367</td>\n",
       "      <td>84969</td>\n",
       "      <td>box  assorted colour teaspoons</td>\n",
       "      <td>6</td>\n",
       "      <td>2010-12-01 08:34:00</td>\n",
       "      <td>4.25</td>\n",
       "      <td>13047</td>\n",
       "      <td>United Kingdom</td>\n",
       "      <td>1</td>\n",
       "    </tr>\n",
       "    <tr>\n",
       "      <th>33</th>\n",
       "      <td>536370</td>\n",
       "      <td>21035</td>\n",
       "      <td>set red retrospot tea towels</td>\n",
       "      <td>18</td>\n",
       "      <td>2010-12-01 08:45:00</td>\n",
       "      <td>2.95</td>\n",
       "      <td>12583</td>\n",
       "      <td>France</td>\n",
       "      <td>1</td>\n",
       "    </tr>\n",
       "    <tr>\n",
       "      <th>40</th>\n",
       "      <td>536370</td>\n",
       "      <td>22900</td>\n",
       "      <td>set  tea towels love london</td>\n",
       "      <td>24</td>\n",
       "      <td>2010-12-01 08:45:00</td>\n",
       "      <td>2.95</td>\n",
       "      <td>12583</td>\n",
       "      <td>France</td>\n",
       "      <td>1</td>\n",
       "    </tr>\n",
       "  </tbody>\n",
       "</table>\n",
       "</div>"
      ],
      "text/plain": [
       "   InvoiceNo StockCode                     Description  Quantity  \\\n",
       "14    536367     84969  box  assorted colour teaspoons         6   \n",
       "33    536370     21035   set red retrospot tea towels         18   \n",
       "40    536370     22900    set  tea towels love london         24   \n",
       "\n",
       "           InvoiceDate  UnitPrice  CustomerID         Country  flag  \n",
       "14 2010-12-01 08:34:00       4.25       13047  United Kingdom     1  \n",
       "33 2010-12-01 08:45:00       2.95       12583          France     1  \n",
       "40 2010-12-01 08:45:00       2.95       12583          France     1  "
      ]
     },
     "execution_count": 203,
     "metadata": {},
     "output_type": "execute_result"
    }
   ],
   "source": [
    "df.loc[df['flag']==1].head(3)"
   ]
  },
  {
   "cell_type": "markdown",
   "id": "c50c773c",
   "metadata": {},
   "source": [
    "Количество уникальных покупателей"
   ]
  },
  {
   "cell_type": "code",
   "execution_count": 204,
   "id": "806feac1",
   "metadata": {},
   "outputs": [
    {
     "data": {
      "text/plain": [
       "4372"
      ]
     },
     "execution_count": 204,
     "metadata": {},
     "output_type": "execute_result"
    }
   ],
   "source": [
    "len(df['CustomerID'].unique())"
   ]
  },
  {
   "cell_type": "markdown",
   "id": "67527edf",
   "metadata": {},
   "source": [
    "Количество покупателей искомого товара и кол-во уникальных покупателей"
   ]
  },
  {
   "cell_type": "code",
   "execution_count": 205,
   "id": "1915aa5f",
   "metadata": {},
   "outputs": [],
   "source": [
    "df_p = df.loc[df['flag']==1]"
   ]
  },
  {
   "cell_type": "code",
   "execution_count": 206,
   "id": "f450beb8",
   "metadata": {},
   "outputs": [
    {
     "data": {
      "text/html": [
       "<div>\n",
       "<style scoped>\n",
       "    .dataframe tbody tr th:only-of-type {\n",
       "        vertical-align: middle;\n",
       "    }\n",
       "\n",
       "    .dataframe tbody tr th {\n",
       "        vertical-align: top;\n",
       "    }\n",
       "\n",
       "    .dataframe thead th {\n",
       "        text-align: right;\n",
       "    }\n",
       "</style>\n",
       "<table border=\"1\" class=\"dataframe\">\n",
       "  <thead>\n",
       "    <tr style=\"text-align: right;\">\n",
       "      <th></th>\n",
       "      <th>InvoiceNo</th>\n",
       "      <th>StockCode</th>\n",
       "      <th>Description</th>\n",
       "      <th>Quantity</th>\n",
       "      <th>InvoiceDate</th>\n",
       "      <th>UnitPrice</th>\n",
       "      <th>CustomerID</th>\n",
       "      <th>Country</th>\n",
       "      <th>flag</th>\n",
       "    </tr>\n",
       "  </thead>\n",
       "  <tbody>\n",
       "    <tr>\n",
       "      <th>14</th>\n",
       "      <td>536367</td>\n",
       "      <td>84969</td>\n",
       "      <td>box  assorted colour teaspoons</td>\n",
       "      <td>6</td>\n",
       "      <td>2010-12-01 08:34:00</td>\n",
       "      <td>4.25</td>\n",
       "      <td>13047</td>\n",
       "      <td>United Kingdom</td>\n",
       "      <td>1</td>\n",
       "    </tr>\n",
       "    <tr>\n",
       "      <th>33</th>\n",
       "      <td>536370</td>\n",
       "      <td>21035</td>\n",
       "      <td>set red retrospot tea towels</td>\n",
       "      <td>18</td>\n",
       "      <td>2010-12-01 08:45:00</td>\n",
       "      <td>2.95</td>\n",
       "      <td>12583</td>\n",
       "      <td>France</td>\n",
       "      <td>1</td>\n",
       "    </tr>\n",
       "    <tr>\n",
       "      <th>40</th>\n",
       "      <td>536370</td>\n",
       "      <td>22900</td>\n",
       "      <td>set  tea towels love london</td>\n",
       "      <td>24</td>\n",
       "      <td>2010-12-01 08:45:00</td>\n",
       "      <td>2.95</td>\n",
       "      <td>12583</td>\n",
       "      <td>France</td>\n",
       "      <td>1</td>\n",
       "    </tr>\n",
       "    <tr>\n",
       "      <th>82</th>\n",
       "      <td>536376</td>\n",
       "      <td>22114</td>\n",
       "      <td>hot water bottle tea sympathy</td>\n",
       "      <td>48</td>\n",
       "      <td>2010-12-01 09:32:00</td>\n",
       "      <td>3.45</td>\n",
       "      <td>15291</td>\n",
       "      <td>United Kingdom</td>\n",
       "      <td>1</td>\n",
       "    </tr>\n",
       "    <tr>\n",
       "      <th>99</th>\n",
       "      <td>536378</td>\n",
       "      <td>84991</td>\n",
       "      <td>teatime fairy cake cases</td>\n",
       "      <td>24</td>\n",
       "      <td>2010-12-01 09:37:00</td>\n",
       "      <td>0.55</td>\n",
       "      <td>14688</td>\n",
       "      <td>United Kingdom</td>\n",
       "      <td>1</td>\n",
       "    </tr>\n",
       "  </tbody>\n",
       "</table>\n",
       "</div>"
      ],
      "text/plain": [
       "   InvoiceNo StockCode                     Description  Quantity  \\\n",
       "14    536367     84969  box  assorted colour teaspoons         6   \n",
       "33    536370     21035   set red retrospot tea towels         18   \n",
       "40    536370     22900    set  tea towels love london         24   \n",
       "82    536376     22114   hot water bottle tea sympathy        48   \n",
       "99    536378     84991        teatime fairy cake cases        24   \n",
       "\n",
       "           InvoiceDate  UnitPrice  CustomerID         Country  flag  \n",
       "14 2010-12-01 08:34:00       4.25       13047  United Kingdom     1  \n",
       "33 2010-12-01 08:45:00       2.95       12583          France     1  \n",
       "40 2010-12-01 08:45:00       2.95       12583          France     1  \n",
       "82 2010-12-01 09:32:00       3.45       15291  United Kingdom     1  \n",
       "99 2010-12-01 09:37:00       0.55       14688  United Kingdom     1  "
      ]
     },
     "execution_count": 206,
     "metadata": {},
     "output_type": "execute_result"
    }
   ],
   "source": [
    "df_p.head()"
   ]
  },
  {
   "cell_type": "code",
   "execution_count": 207,
   "id": "8fe1bf35",
   "metadata": {},
   "outputs": [
    {
     "data": {
      "text/plain": [
       "14079"
      ]
     },
     "execution_count": 207,
     "metadata": {},
     "output_type": "execute_result"
    }
   ],
   "source": [
    "len(df_p)"
   ]
  },
  {
   "cell_type": "code",
   "execution_count": 208,
   "id": "5bed206f",
   "metadata": {},
   "outputs": [
    {
     "data": {
      "text/plain": [
       "2564"
      ]
     },
     "execution_count": 208,
     "metadata": {},
     "output_type": "execute_result"
    }
   ],
   "source": [
    "len(df_p['CustomerID'].unique())"
   ]
  },
  {
   "cell_type": "code",
   "execution_count": 209,
   "id": "84baa803",
   "metadata": {},
   "outputs": [
    {
     "data": {
      "text/plain": [
       "2564"
      ]
     },
     "execution_count": 209,
     "metadata": {},
     "output_type": "execute_result"
    }
   ],
   "source": [
    "len(df[df['flag'] == 1]['CustomerID'].unique())"
   ]
  },
  {
   "cell_type": "markdown",
   "id": "f7f2c1af",
   "metadata": {},
   "source": [
    "Имеем 2564 любителей чая, которые уже раньше покупали чай или принадлежности для чайной церемонии.\n",
    "\n",
    "Нам необходимо найти недостающее кол-во (3500-2564=936 чел.), которые с большой вероятностью положительно откликнутся на предложение и купят новинку."
   ]
  },
  {
   "cell_type": "markdown",
   "id": "1979ceb9",
   "metadata": {},
   "source": [
    "Создадим DataFrame где каждому уникальному покупателю сопоставим все его покупки и обозначим полем флаг отметку о покупке чая, либо предметов для чайной церемонии."
   ]
  },
  {
   "cell_type": "code",
   "execution_count": 210,
   "id": "6197eb55",
   "metadata": {},
   "outputs": [
    {
     "data": {
      "text/html": [
       "<div>\n",
       "<style scoped>\n",
       "    .dataframe tbody tr th:only-of-type {\n",
       "        vertical-align: middle;\n",
       "    }\n",
       "\n",
       "    .dataframe tbody tr th {\n",
       "        vertical-align: top;\n",
       "    }\n",
       "\n",
       "    .dataframe thead th {\n",
       "        text-align: right;\n",
       "    }\n",
       "</style>\n",
       "<table border=\"1\" class=\"dataframe\">\n",
       "  <thead>\n",
       "    <tr style=\"text-align: right;\">\n",
       "      <th></th>\n",
       "      <th>CustomerID</th>\n",
       "      <th>Description</th>\n",
       "      <th>flag</th>\n",
       "    </tr>\n",
       "  </thead>\n",
       "  <tbody>\n",
       "    <tr>\n",
       "      <th>0</th>\n",
       "      <td>12346</td>\n",
       "      <td>[medium ceramic top storage jar, medium cerami...</td>\n",
       "      <td>0</td>\n",
       "    </tr>\n",
       "    <tr>\n",
       "      <th>1</th>\n",
       "      <td>12347</td>\n",
       "      <td>[black candelabra tlight holder, airline bag v...</td>\n",
       "      <td>1</td>\n",
       "    </tr>\n",
       "    <tr>\n",
       "      <th>2</th>\n",
       "      <td>12348</td>\n",
       "      <td>[ sweetheart fairy cake cases,  cake cases dol...</td>\n",
       "      <td>1</td>\n",
       "    </tr>\n",
       "  </tbody>\n",
       "</table>\n",
       "</div>"
      ],
      "text/plain": [
       "   CustomerID                                        Description  flag\n",
       "0       12346  [medium ceramic top storage jar, medium cerami...     0\n",
       "1       12347  [black candelabra tlight holder, airline bag v...     1\n",
       "2       12348  [ sweetheart fairy cake cases,  cake cases dol...     1"
      ]
     },
     "execution_count": 210,
     "metadata": {},
     "output_type": "execute_result"
    }
   ],
   "source": [
    "X = df.groupby(['CustomerID']).agg({\n",
    "    'Description': lambda x: list(x),\n",
    "    'flag': lambda x: max(x)\n",
    "})\n",
    "\n",
    "X['CustomerID'] = [i for i in X.index.values]\n",
    "X.columns = ['Description', 'flag', 'CustomerID']\n",
    "X = X[['CustomerID', 'Description', 'flag']]\n",
    "X.index = range(len(X))\n",
    "X.head(3)"
   ]
  },
  {
   "cell_type": "markdown",
   "id": "70b74e15",
   "metadata": {},
   "source": [
    "Посмотрим на соотношение классов (P vs U), где P - позитивы и U - все остальные неразмеченные данные"
   ]
  },
  {
   "cell_type": "code",
   "execution_count": 211,
   "id": "2979016b",
   "metadata": {},
   "outputs": [
    {
     "data": {
      "text/plain": [
       "1    2564\n",
       "0    1808\n",
       "Name: flag, dtype: int64"
      ]
     },
     "execution_count": 211,
     "metadata": {},
     "output_type": "execute_result"
    }
   ],
   "source": [
    "X['flag'].value_counts()"
   ]
  },
  {
   "cell_type": "code",
   "execution_count": 212,
   "id": "013a866f",
   "metadata": {},
   "outputs": [
    {
     "data": {
      "text/html": [
       "<div>\n",
       "<style scoped>\n",
       "    .dataframe tbody tr th:only-of-type {\n",
       "        vertical-align: middle;\n",
       "    }\n",
       "\n",
       "    .dataframe tbody tr th {\n",
       "        vertical-align: top;\n",
       "    }\n",
       "\n",
       "    .dataframe thead th {\n",
       "        text-align: right;\n",
       "    }\n",
       "</style>\n",
       "<table border=\"1\" class=\"dataframe\">\n",
       "  <thead>\n",
       "    <tr style=\"text-align: right;\">\n",
       "      <th></th>\n",
       "      <th>CustomerID</th>\n",
       "      <th>Description</th>\n",
       "      <th>flag</th>\n",
       "    </tr>\n",
       "  </thead>\n",
       "  <tbody>\n",
       "    <tr>\n",
       "      <th>0</th>\n",
       "      <td>12346</td>\n",
       "      <td>medium ceramic top storage jar medium ceramic ...</td>\n",
       "      <td>0</td>\n",
       "    </tr>\n",
       "    <tr>\n",
       "      <th>1</th>\n",
       "      <td>12347</td>\n",
       "      <td>black candelabra tlight holder airline bag vin...</td>\n",
       "      <td>1</td>\n",
       "    </tr>\n",
       "    <tr>\n",
       "      <th>2</th>\n",
       "      <td>12348</td>\n",
       "      <td>sweetheart fairy cake cases  cake cases dolly...</td>\n",
       "      <td>1</td>\n",
       "    </tr>\n",
       "    <tr>\n",
       "      <th>3</th>\n",
       "      <td>12349</td>\n",
       "      <td>parisienne curio cabinet sweetheart wall tidy ...</td>\n",
       "      <td>1</td>\n",
       "    </tr>\n",
       "    <tr>\n",
       "      <th>4</th>\n",
       "      <td>12350</td>\n",
       "      <td>chocolate way metal sign metal sign neighbourh...</td>\n",
       "      <td>1</td>\n",
       "    </tr>\n",
       "  </tbody>\n",
       "</table>\n",
       "</div>"
      ],
      "text/plain": [
       "   CustomerID                                        Description  flag\n",
       "0       12346  medium ceramic top storage jar medium ceramic ...     0\n",
       "1       12347  black candelabra tlight holder airline bag vin...     1\n",
       "2       12348   sweetheart fairy cake cases  cake cases dolly...     1\n",
       "3       12349  parisienne curio cabinet sweetheart wall tidy ...     1\n",
       "4       12350  chocolate way metal sign metal sign neighbourh...     1"
      ]
     },
     "execution_count": 212,
     "metadata": {},
     "output_type": "execute_result"
    }
   ],
   "source": [
    "X['Description'] = X['Description'].apply(lambda x: \" \".join(x), 1)\n",
    "X.head()"
   ]
  },
  {
   "cell_type": "markdown",
   "id": "848c86f8",
   "metadata": {},
   "source": [
    "Для поиска недостающих участников рекламной акции будем используем обычный random negative sample."
   ]
  },
  {
   "cell_type": "code",
   "execution_count": 213,
   "id": "611198bc",
   "metadata": {},
   "outputs": [],
   "source": [
    "# разделим данные на train/test\n",
    "X_train, X_test, y_train, y_test = train_test_split(X, X['flag'], random_state=42)"
   ]
  },
  {
   "cell_type": "markdown",
   "id": "98646e11",
   "metadata": {},
   "source": [
    "У нас есть разметка (известные позитивы) и поле Description (список покупок) из которого мы можем извлекать признаки. В качестве признаков будем использовать tfidf"
   ]
  },
  {
   "cell_type": "code",
   "execution_count": 214,
   "id": "b3538ea8",
   "metadata": {},
   "outputs": [],
   "source": [
    "# Напишем класс для выбора нужного поля Description\n",
    "# Cоберем наш pipeline на модели LogisticRegression. \n",
    "\n",
    "class FeatureSelector(BaseEstimator, TransformerMixin):\n",
    "    def __init__(self, column):\n",
    "        self.column = column\n",
    "\n",
    "    def fit(self, X, y=None):\n",
    "        return self\n",
    "\n",
    "    def transform(self, X, y=None):\n",
    "        return X[self.column]\n",
    "\n",
    "pipeline = Pipeline([('description_selector', FeatureSelector(column='Description')), \n",
    "                     ('description_tfidf', TfidfVectorizer()), \n",
    "                     ('clf', LogisticRegression())])"
   ]
  },
  {
   "cell_type": "code",
   "execution_count": 215,
   "id": "5c707ee4",
   "metadata": {},
   "outputs": [
    {
     "data": {
      "text/plain": [
       "Pipeline(steps=[('description_selector', FeatureSelector(column='Description')),\n",
       "                ('description_tfidf', TfidfVectorizer()),\n",
       "                ('clf', LogisticRegression())])"
      ]
     },
     "execution_count": 215,
     "metadata": {},
     "output_type": "execute_result"
    }
   ],
   "source": [
    "# обучим наш пайплайн\n",
    "pipeline.fit(X_train, y_train)"
   ]
  },
  {
   "cell_type": "code",
   "execution_count": 216,
   "id": "48e139de",
   "metadata": {},
   "outputs": [
    {
     "data": {
      "text/plain": [
       "2012"
      ]
     },
     "execution_count": 216,
     "metadata": {},
     "output_type": "execute_result"
    }
   ],
   "source": [
    "tfidf = pipeline.named_steps['description_tfidf']\n",
    "len(tfidf.get_feature_names_out())"
   ]
  },
  {
   "cell_type": "code",
   "execution_count": 217,
   "id": "a0b1be17",
   "metadata": {},
   "outputs": [
    {
     "data": {
      "text/html": [
       "<div>\n",
       "<style scoped>\n",
       "    .dataframe tbody tr th:only-of-type {\n",
       "        vertical-align: middle;\n",
       "    }\n",
       "\n",
       "    .dataframe tbody tr th {\n",
       "        vertical-align: top;\n",
       "    }\n",
       "\n",
       "    .dataframe thead th {\n",
       "        text-align: right;\n",
       "    }\n",
       "</style>\n",
       "<table border=\"1\" class=\"dataframe\">\n",
       "  <thead>\n",
       "    <tr style=\"text-align: right;\">\n",
       "      <th></th>\n",
       "      <th>abc</th>\n",
       "      <th>abstract</th>\n",
       "      <th>acapulco</th>\n",
       "      <th>account</th>\n",
       "      <th>acrylic</th>\n",
       "      <th>address</th>\n",
       "      <th>ade</th>\n",
       "      <th>adult</th>\n",
       "      <th>advent</th>\n",
       "      <th>afghan</th>\n",
       "      <th>...</th>\n",
       "      <th>xcm</th>\n",
       "      <th>xmas</th>\n",
       "      <th>xxcm</th>\n",
       "      <th>yellow</th>\n",
       "      <th>yellowblue</th>\n",
       "      <th>yelloworange</th>\n",
       "      <th>yellowpink</th>\n",
       "      <th>yuletide</th>\n",
       "      <th>zinc</th>\n",
       "      <th>zincglass</th>\n",
       "    </tr>\n",
       "  </thead>\n",
       "  <tbody>\n",
       "    <tr>\n",
       "      <th>0</th>\n",
       "      <td>0.000000</td>\n",
       "      <td>0.0</td>\n",
       "      <td>0.000000</td>\n",
       "      <td>0.0</td>\n",
       "      <td>0.0</td>\n",
       "      <td>0.0</td>\n",
       "      <td>0.0</td>\n",
       "      <td>0.0</td>\n",
       "      <td>0.0</td>\n",
       "      <td>0.0</td>\n",
       "      <td>...</td>\n",
       "      <td>0.0</td>\n",
       "      <td>0.0</td>\n",
       "      <td>0.0</td>\n",
       "      <td>0.000000</td>\n",
       "      <td>0.0</td>\n",
       "      <td>0.0</td>\n",
       "      <td>0.0</td>\n",
       "      <td>0.0</td>\n",
       "      <td>0.000000</td>\n",
       "      <td>0.0</td>\n",
       "    </tr>\n",
       "    <tr>\n",
       "      <th>1</th>\n",
       "      <td>0.000000</td>\n",
       "      <td>0.0</td>\n",
       "      <td>0.000000</td>\n",
       "      <td>0.0</td>\n",
       "      <td>0.0</td>\n",
       "      <td>0.0</td>\n",
       "      <td>0.0</td>\n",
       "      <td>0.0</td>\n",
       "      <td>0.0</td>\n",
       "      <td>0.0</td>\n",
       "      <td>...</td>\n",
       "      <td>0.0</td>\n",
       "      <td>0.0</td>\n",
       "      <td>0.0</td>\n",
       "      <td>0.000000</td>\n",
       "      <td>0.0</td>\n",
       "      <td>0.0</td>\n",
       "      <td>0.0</td>\n",
       "      <td>0.0</td>\n",
       "      <td>0.245116</td>\n",
       "      <td>0.0</td>\n",
       "    </tr>\n",
       "    <tr>\n",
       "      <th>2</th>\n",
       "      <td>0.000000</td>\n",
       "      <td>0.0</td>\n",
       "      <td>0.000000</td>\n",
       "      <td>0.0</td>\n",
       "      <td>0.0</td>\n",
       "      <td>0.0</td>\n",
       "      <td>0.0</td>\n",
       "      <td>0.0</td>\n",
       "      <td>0.0</td>\n",
       "      <td>0.0</td>\n",
       "      <td>...</td>\n",
       "      <td>0.0</td>\n",
       "      <td>0.0</td>\n",
       "      <td>0.0</td>\n",
       "      <td>0.000000</td>\n",
       "      <td>0.0</td>\n",
       "      <td>0.0</td>\n",
       "      <td>0.0</td>\n",
       "      <td>0.0</td>\n",
       "      <td>0.000000</td>\n",
       "      <td>0.0</td>\n",
       "    </tr>\n",
       "    <tr>\n",
       "      <th>3</th>\n",
       "      <td>0.000000</td>\n",
       "      <td>0.0</td>\n",
       "      <td>0.000000</td>\n",
       "      <td>0.0</td>\n",
       "      <td>0.0</td>\n",
       "      <td>0.0</td>\n",
       "      <td>0.0</td>\n",
       "      <td>0.0</td>\n",
       "      <td>0.0</td>\n",
       "      <td>0.0</td>\n",
       "      <td>...</td>\n",
       "      <td>0.0</td>\n",
       "      <td>0.0</td>\n",
       "      <td>0.0</td>\n",
       "      <td>0.031723</td>\n",
       "      <td>0.0</td>\n",
       "      <td>0.0</td>\n",
       "      <td>0.0</td>\n",
       "      <td>0.0</td>\n",
       "      <td>0.132188</td>\n",
       "      <td>0.0</td>\n",
       "    </tr>\n",
       "    <tr>\n",
       "      <th>4</th>\n",
       "      <td>0.000000</td>\n",
       "      <td>0.0</td>\n",
       "      <td>0.392983</td>\n",
       "      <td>0.0</td>\n",
       "      <td>0.0</td>\n",
       "      <td>0.0</td>\n",
       "      <td>0.0</td>\n",
       "      <td>0.0</td>\n",
       "      <td>0.0</td>\n",
       "      <td>0.0</td>\n",
       "      <td>...</td>\n",
       "      <td>0.0</td>\n",
       "      <td>0.0</td>\n",
       "      <td>0.0</td>\n",
       "      <td>0.000000</td>\n",
       "      <td>0.0</td>\n",
       "      <td>0.0</td>\n",
       "      <td>0.0</td>\n",
       "      <td>0.0</td>\n",
       "      <td>0.037330</td>\n",
       "      <td>0.0</td>\n",
       "    </tr>\n",
       "    <tr>\n",
       "      <th>5</th>\n",
       "      <td>0.082527</td>\n",
       "      <td>0.0</td>\n",
       "      <td>0.000000</td>\n",
       "      <td>0.0</td>\n",
       "      <td>0.0</td>\n",
       "      <td>0.0</td>\n",
       "      <td>0.0</td>\n",
       "      <td>0.0</td>\n",
       "      <td>0.0</td>\n",
       "      <td>0.0</td>\n",
       "      <td>...</td>\n",
       "      <td>0.0</td>\n",
       "      <td>0.0</td>\n",
       "      <td>0.0</td>\n",
       "      <td>0.000000</td>\n",
       "      <td>0.0</td>\n",
       "      <td>0.0</td>\n",
       "      <td>0.0</td>\n",
       "      <td>0.0</td>\n",
       "      <td>0.000000</td>\n",
       "      <td>0.0</td>\n",
       "    </tr>\n",
       "    <tr>\n",
       "      <th>6</th>\n",
       "      <td>0.000000</td>\n",
       "      <td>0.0</td>\n",
       "      <td>0.000000</td>\n",
       "      <td>0.0</td>\n",
       "      <td>0.0</td>\n",
       "      <td>0.0</td>\n",
       "      <td>0.0</td>\n",
       "      <td>0.0</td>\n",
       "      <td>0.0</td>\n",
       "      <td>0.0</td>\n",
       "      <td>...</td>\n",
       "      <td>0.0</td>\n",
       "      <td>0.0</td>\n",
       "      <td>0.0</td>\n",
       "      <td>0.000000</td>\n",
       "      <td>0.0</td>\n",
       "      <td>0.0</td>\n",
       "      <td>0.0</td>\n",
       "      <td>0.0</td>\n",
       "      <td>0.000000</td>\n",
       "      <td>0.0</td>\n",
       "    </tr>\n",
       "    <tr>\n",
       "      <th>7</th>\n",
       "      <td>0.000000</td>\n",
       "      <td>0.0</td>\n",
       "      <td>0.000000</td>\n",
       "      <td>0.0</td>\n",
       "      <td>0.0</td>\n",
       "      <td>0.0</td>\n",
       "      <td>0.0</td>\n",
       "      <td>0.0</td>\n",
       "      <td>0.0</td>\n",
       "      <td>0.0</td>\n",
       "      <td>...</td>\n",
       "      <td>0.0</td>\n",
       "      <td>0.0</td>\n",
       "      <td>0.0</td>\n",
       "      <td>0.000000</td>\n",
       "      <td>0.0</td>\n",
       "      <td>0.0</td>\n",
       "      <td>0.0</td>\n",
       "      <td>0.0</td>\n",
       "      <td>0.000000</td>\n",
       "      <td>0.0</td>\n",
       "    </tr>\n",
       "    <tr>\n",
       "      <th>8</th>\n",
       "      <td>0.000000</td>\n",
       "      <td>0.0</td>\n",
       "      <td>0.038336</td>\n",
       "      <td>0.0</td>\n",
       "      <td>0.0</td>\n",
       "      <td>0.0</td>\n",
       "      <td>0.0</td>\n",
       "      <td>0.0</td>\n",
       "      <td>0.0</td>\n",
       "      <td>0.0</td>\n",
       "      <td>...</td>\n",
       "      <td>0.0</td>\n",
       "      <td>0.0</td>\n",
       "      <td>0.0</td>\n",
       "      <td>0.026218</td>\n",
       "      <td>0.0</td>\n",
       "      <td>0.0</td>\n",
       "      <td>0.0</td>\n",
       "      <td>0.0</td>\n",
       "      <td>0.043699</td>\n",
       "      <td>0.0</td>\n",
       "    </tr>\n",
       "    <tr>\n",
       "      <th>9</th>\n",
       "      <td>0.000000</td>\n",
       "      <td>0.0</td>\n",
       "      <td>0.000000</td>\n",
       "      <td>0.0</td>\n",
       "      <td>0.0</td>\n",
       "      <td>0.0</td>\n",
       "      <td>0.0</td>\n",
       "      <td>0.0</td>\n",
       "      <td>0.0</td>\n",
       "      <td>0.0</td>\n",
       "      <td>...</td>\n",
       "      <td>0.0</td>\n",
       "      <td>0.0</td>\n",
       "      <td>0.0</td>\n",
       "      <td>0.000000</td>\n",
       "      <td>0.0</td>\n",
       "      <td>0.0</td>\n",
       "      <td>0.0</td>\n",
       "      <td>0.0</td>\n",
       "      <td>0.000000</td>\n",
       "      <td>0.0</td>\n",
       "    </tr>\n",
       "  </tbody>\n",
       "</table>\n",
       "<p>10 rows × 2012 columns</p>\n",
       "</div>"
      ],
      "text/plain": [
       "        abc  abstract  acapulco  account  acrylic  address  ade  adult  \\\n",
       "0  0.000000       0.0  0.000000      0.0      0.0      0.0  0.0    0.0   \n",
       "1  0.000000       0.0  0.000000      0.0      0.0      0.0  0.0    0.0   \n",
       "2  0.000000       0.0  0.000000      0.0      0.0      0.0  0.0    0.0   \n",
       "3  0.000000       0.0  0.000000      0.0      0.0      0.0  0.0    0.0   \n",
       "4  0.000000       0.0  0.392983      0.0      0.0      0.0  0.0    0.0   \n",
       "5  0.082527       0.0  0.000000      0.0      0.0      0.0  0.0    0.0   \n",
       "6  0.000000       0.0  0.000000      0.0      0.0      0.0  0.0    0.0   \n",
       "7  0.000000       0.0  0.000000      0.0      0.0      0.0  0.0    0.0   \n",
       "8  0.000000       0.0  0.038336      0.0      0.0      0.0  0.0    0.0   \n",
       "9  0.000000       0.0  0.000000      0.0      0.0      0.0  0.0    0.0   \n",
       "\n",
       "   advent  afghan  ...  xcm  xmas  xxcm    yellow  yellowblue  yelloworange  \\\n",
       "0     0.0     0.0  ...  0.0   0.0   0.0  0.000000         0.0           0.0   \n",
       "1     0.0     0.0  ...  0.0   0.0   0.0  0.000000         0.0           0.0   \n",
       "2     0.0     0.0  ...  0.0   0.0   0.0  0.000000         0.0           0.0   \n",
       "3     0.0     0.0  ...  0.0   0.0   0.0  0.031723         0.0           0.0   \n",
       "4     0.0     0.0  ...  0.0   0.0   0.0  0.000000         0.0           0.0   \n",
       "5     0.0     0.0  ...  0.0   0.0   0.0  0.000000         0.0           0.0   \n",
       "6     0.0     0.0  ...  0.0   0.0   0.0  0.000000         0.0           0.0   \n",
       "7     0.0     0.0  ...  0.0   0.0   0.0  0.000000         0.0           0.0   \n",
       "8     0.0     0.0  ...  0.0   0.0   0.0  0.026218         0.0           0.0   \n",
       "9     0.0     0.0  ...  0.0   0.0   0.0  0.000000         0.0           0.0   \n",
       "\n",
       "   yellowpink  yuletide      zinc  zincglass  \n",
       "0         0.0       0.0  0.000000        0.0  \n",
       "1         0.0       0.0  0.245116        0.0  \n",
       "2         0.0       0.0  0.000000        0.0  \n",
       "3         0.0       0.0  0.132188        0.0  \n",
       "4         0.0       0.0  0.037330        0.0  \n",
       "5         0.0       0.0  0.000000        0.0  \n",
       "6         0.0       0.0  0.000000        0.0  \n",
       "7         0.0       0.0  0.000000        0.0  \n",
       "8         0.0       0.0  0.043699        0.0  \n",
       "9         0.0       0.0  0.000000        0.0  \n",
       "\n",
       "[10 rows x 2012 columns]"
      ]
     },
     "execution_count": 217,
     "metadata": {},
     "output_type": "execute_result"
    }
   ],
   "source": [
    "df_ = pd.DataFrame.sparse.from_spmatrix(tfidf.transform(X_test['Description'].iloc[:10]))\n",
    "df_ = pd.DataFrame(df_)\n",
    "df_.columns = tfidf.get_feature_names_out()\n",
    "df_"
   ]
  },
  {
   "cell_type": "markdown",
   "id": "08d20c55",
   "metadata": {},
   "source": [
    "Получим прогнозы для \"тестовой\" выборки"
   ]
  },
  {
   "cell_type": "code",
   "execution_count": 218,
   "id": "54464a87",
   "metadata": {},
   "outputs": [
    {
     "data": {
      "text/plain": [
       "array([0.52898765, 0.903836  , 0.3509202 , 0.54558169, 0.72713458,\n",
       "       0.7024318 , 0.83019104, 0.96294191, 0.6871993 , 0.33563558])"
      ]
     },
     "execution_count": 218,
     "metadata": {},
     "output_type": "execute_result"
    }
   ],
   "source": [
    "# наши прогнозы для тестовой выборки\n",
    "preds = pipeline.predict_proba(X_test)[:, 1]\n",
    "preds[:10]"
   ]
  },
  {
   "cell_type": "markdown",
   "id": "84adff2c",
   "metadata": {},
   "source": [
    "Посмотрим метрики"
   ]
  },
  {
   "cell_type": "code",
   "execution_count": 219,
   "id": "3a0cd35c",
   "metadata": {},
   "outputs": [
    {
     "name": "stdout",
     "output_type": "stream",
     "text": [
      "Best Threshold=0.510569711880985, F-Score=0.891, Precision=0.896, Recall=0.886\n"
     ]
    }
   ],
   "source": [
    "from sklearn.metrics import f1_score, roc_auc_score, precision_score, classification_report, precision_recall_curve, confusion_matrix\n",
    "\n",
    "precision, recall, thresholds = precision_recall_curve(y_test, preds)\n",
    "fscore = (2 * precision * recall) / (precision + recall)\n",
    "# locate the index of the largest f score\n",
    "ix = np.argmax(fscore)\n",
    "print(f'Best Threshold={thresholds[ix]}, F-Score={fscore[ix]:.3f}, Precision={precision[ix]:.3f}, Recall={recall[ix]:.3f}')"
   ]
  },
  {
   "cell_type": "markdown",
   "id": "13579be5",
   "metadata": {},
   "source": [
    "Довольно неплохие результаты. \n",
    "Для целей задачи \"проскорим\" всю выборку и отсортируем по убыванию прогноза (ведь нам в итоге нужно взять топ 3500 пользователей для рекламных целей)."
   ]
  },
  {
   "cell_type": "code",
   "execution_count": 220,
   "id": "c9ba63ed",
   "metadata": {},
   "outputs": [
    {
     "data": {
      "text/html": [
       "<div>\n",
       "<style scoped>\n",
       "    .dataframe tbody tr th:only-of-type {\n",
       "        vertical-align: middle;\n",
       "    }\n",
       "\n",
       "    .dataframe tbody tr th {\n",
       "        vertical-align: top;\n",
       "    }\n",
       "\n",
       "    .dataframe thead th {\n",
       "        text-align: right;\n",
       "    }\n",
       "</style>\n",
       "<table border=\"1\" class=\"dataframe\">\n",
       "  <thead>\n",
       "    <tr style=\"text-align: right;\">\n",
       "      <th></th>\n",
       "      <th>CustomerID</th>\n",
       "      <th>Description</th>\n",
       "      <th>flag</th>\n",
       "      <th>y_pred</th>\n",
       "    </tr>\n",
       "  </thead>\n",
       "  <tbody>\n",
       "    <tr>\n",
       "      <th>3192</th>\n",
       "      <td>16670</td>\n",
       "      <td>red hanging heart tlight holder doormat englis...</td>\n",
       "      <td>1</td>\n",
       "      <td>0.999847</td>\n",
       "    </tr>\n",
       "    <tr>\n",
       "      <th>3656</th>\n",
       "      <td>17315</td>\n",
       "      <td>dairy maid stripe mug natural slate rectangle ...</td>\n",
       "      <td>1</td>\n",
       "      <td>0.999619</td>\n",
       "    </tr>\n",
       "    <tr>\n",
       "      <th>3383</th>\n",
       "      <td>16923</td>\n",
       "      <td>antique silver tea glass etched christmas deco...</td>\n",
       "      <td>1</td>\n",
       "      <td>0.999594</td>\n",
       "    </tr>\n",
       "  </tbody>\n",
       "</table>\n",
       "</div>"
      ],
      "text/plain": [
       "      CustomerID                                        Description  flag  \\\n",
       "3192       16670  red hanging heart tlight holder doormat englis...     1   \n",
       "3656       17315  dairy maid stripe mug natural slate rectangle ...     1   \n",
       "3383       16923  antique silver tea glass etched christmas deco...     1   \n",
       "\n",
       "        y_pred  \n",
       "3192  0.999847  \n",
       "3656  0.999619  \n",
       "3383  0.999594  "
      ]
     },
     "execution_count": 220,
     "metadata": {},
     "output_type": "execute_result"
    }
   ],
   "source": [
    "X['y_pred'] = pipeline.predict_proba(X)[:, 1]\n",
    "X = X.sort_values('y_pred', ascending=False)\n",
    "X.head(3)"
   ]
  },
  {
   "cell_type": "markdown",
   "id": "be048c12",
   "metadata": {},
   "source": [
    "Работа выполнена. Берем первые 3500 с начала списка и предлагаем им участвовать в рекламной кампании."
   ]
  },
  {
   "cell_type": "code",
   "execution_count": 221,
   "id": "9f14d2e4",
   "metadata": {},
   "outputs": [],
   "source": [
    "selected_users = X.iloc[:3500]['CustomerID'].values"
   ]
  },
  {
   "cell_type": "code",
   "execution_count": 222,
   "id": "8996a057",
   "metadata": {},
   "outputs": [
    {
     "data": {
      "text/html": [
       "<div>\n",
       "<style scoped>\n",
       "    .dataframe tbody tr th:only-of-type {\n",
       "        vertical-align: middle;\n",
       "    }\n",
       "\n",
       "    .dataframe tbody tr th {\n",
       "        vertical-align: top;\n",
       "    }\n",
       "\n",
       "    .dataframe thead th {\n",
       "        text-align: right;\n",
       "    }\n",
       "</style>\n",
       "<table border=\"1\" class=\"dataframe\">\n",
       "  <thead>\n",
       "    <tr style=\"text-align: right;\">\n",
       "      <th></th>\n",
       "      <th>CustomerID</th>\n",
       "      <th>Description</th>\n",
       "      <th>flag</th>\n",
       "      <th>y_pred</th>\n",
       "    </tr>\n",
       "  </thead>\n",
       "  <tbody>\n",
       "    <tr>\n",
       "      <th>3192</th>\n",
       "      <td>16670</td>\n",
       "      <td>red hanging heart tlight holder doormat englis...</td>\n",
       "      <td>1</td>\n",
       "      <td>0.999847</td>\n",
       "    </tr>\n",
       "    <tr>\n",
       "      <th>3656</th>\n",
       "      <td>17315</td>\n",
       "      <td>dairy maid stripe mug natural slate rectangle ...</td>\n",
       "      <td>1</td>\n",
       "      <td>0.999619</td>\n",
       "    </tr>\n",
       "    <tr>\n",
       "      <th>3383</th>\n",
       "      <td>16923</td>\n",
       "      <td>antique silver tea glass etched christmas deco...</td>\n",
       "      <td>1</td>\n",
       "      <td>0.999594</td>\n",
       "    </tr>\n",
       "    <tr>\n",
       "      <th>1895</th>\n",
       "      <td>14911</td>\n",
       "      <td>rose cottage keepsake box  blue charlielola pe...</td>\n",
       "      <td>1</td>\n",
       "      <td>0.999547</td>\n",
       "    </tr>\n",
       "    <tr>\n",
       "      <th>1883</th>\n",
       "      <td>14895</td>\n",
       "      <td>glass jar kings choice wooden box advent calen...</td>\n",
       "      <td>1</td>\n",
       "      <td>0.999422</td>\n",
       "    </tr>\n",
       "  </tbody>\n",
       "</table>\n",
       "</div>"
      ],
      "text/plain": [
       "      CustomerID                                        Description  flag  \\\n",
       "3192       16670  red hanging heart tlight holder doormat englis...     1   \n",
       "3656       17315  dairy maid stripe mug natural slate rectangle ...     1   \n",
       "3383       16923  antique silver tea glass etched christmas deco...     1   \n",
       "1895       14911  rose cottage keepsake box  blue charlielola pe...     1   \n",
       "1883       14895  glass jar kings choice wooden box advent calen...     1   \n",
       "\n",
       "        y_pred  \n",
       "3192  0.999847  \n",
       "3656  0.999619  \n",
       "3383  0.999594  \n",
       "1895  0.999547  \n",
       "1883  0.999422  "
      ]
     },
     "execution_count": 222,
     "metadata": {},
     "output_type": "execute_result"
    }
   ],
   "source": [
    "X[X['CustomerID'].isin(selected_users)].head(5)"
   ]
  },
  {
   "cell_type": "code",
   "execution_count": 223,
   "id": "cdac47f9",
   "metadata": {},
   "outputs": [
    {
     "data": {
      "text/html": [
       "<div>\n",
       "<style scoped>\n",
       "    .dataframe tbody tr th:only-of-type {\n",
       "        vertical-align: middle;\n",
       "    }\n",
       "\n",
       "    .dataframe tbody tr th {\n",
       "        vertical-align: top;\n",
       "    }\n",
       "\n",
       "    .dataframe thead th {\n",
       "        text-align: right;\n",
       "    }\n",
       "</style>\n",
       "<table border=\"1\" class=\"dataframe\">\n",
       "  <thead>\n",
       "    <tr style=\"text-align: right;\">\n",
       "      <th></th>\n",
       "      <th>CustomerID</th>\n",
       "      <th>Description</th>\n",
       "      <th>flag</th>\n",
       "      <th>y_pred</th>\n",
       "    </tr>\n",
       "  </thead>\n",
       "  <tbody>\n",
       "    <tr>\n",
       "      <th>571</th>\n",
       "      <td>13092</td>\n",
       "      <td>nurse's bag soft toy tool box soft toy  doctor...</td>\n",
       "      <td>1</td>\n",
       "      <td>0.224026</td>\n",
       "    </tr>\n",
       "    <tr>\n",
       "      <th>3916</th>\n",
       "      <td>17666</td>\n",
       "      <td>glitter christmas star  glitter christmas tree...</td>\n",
       "      <td>0</td>\n",
       "      <td>0.223536</td>\n",
       "    </tr>\n",
       "    <tr>\n",
       "      <th>2115</th>\n",
       "      <td>15212</td>\n",
       "      <td>mini cake stand hanging cakes ceramic cake sta...</td>\n",
       "      <td>0</td>\n",
       "      <td>0.223523</td>\n",
       "    </tr>\n",
       "    <tr>\n",
       "      <th>1917</th>\n",
       "      <td>14950</td>\n",
       "      <td>red diner wall clock pink diner wall clock min...</td>\n",
       "      <td>0</td>\n",
       "      <td>0.223178</td>\n",
       "    </tr>\n",
       "    <tr>\n",
       "      <th>1347</th>\n",
       "      <td>14158</td>\n",
       "      <td>heart decoration rustic hanging  star decorati...</td>\n",
       "      <td>0</td>\n",
       "      <td>0.222422</td>\n",
       "    </tr>\n",
       "  </tbody>\n",
       "</table>\n",
       "</div>"
      ],
      "text/plain": [
       "      CustomerID                                        Description  flag  \\\n",
       "571        13092  nurse's bag soft toy tool box soft toy  doctor...     1   \n",
       "3916       17666  glitter christmas star  glitter christmas tree...     0   \n",
       "2115       15212  mini cake stand hanging cakes ceramic cake sta...     0   \n",
       "1917       14950  red diner wall clock pink diner wall clock min...     0   \n",
       "1347       14158  heart decoration rustic hanging  star decorati...     0   \n",
       "\n",
       "        y_pred  \n",
       "571   0.224026  \n",
       "3916  0.223536  \n",
       "2115  0.223523  \n",
       "1917  0.223178  \n",
       "1347  0.222422  "
      ]
     },
     "execution_count": 223,
     "metadata": {},
     "output_type": "execute_result"
    }
   ],
   "source": [
    "X[X['CustomerID'].isin(selected_users)].tail(5)"
   ]
  },
  {
   "cell_type": "code",
   "execution_count": 224,
   "id": "e45b1656",
   "metadata": {},
   "outputs": [
    {
     "data": {
      "text/plain": [
       "United Kingdom          0.889174\n",
       "Germany                 0.023208\n",
       "France                  0.021040\n",
       "EIRE                    0.018912\n",
       "Spain                   0.006178\n",
       "Netherlands             0.005976\n",
       "Belgium                 0.005089\n",
       "Switzerland             0.004664\n",
       "Portugal                0.003547\n",
       "Australia               0.003115\n",
       "Norway                  0.002716\n",
       "Italy                   0.001999\n",
       "Channel Islands         0.001837\n",
       "Finland                 0.001604\n",
       "Cyprus                  0.001572\n",
       "Sweden                  0.001114\n",
       "Austria                 0.000978\n",
       "Denmark                 0.000940\n",
       "Poland                  0.000857\n",
       "USA                     0.000735\n",
       "Japan                   0.000665\n",
       "Israel                  0.000627\n",
       "Unspecified             0.000617\n",
       "Singapore               0.000579\n",
       "Iceland                 0.000460\n",
       "Canada                  0.000379\n",
       "Malta                   0.000321\n",
       "Greece                  0.000313\n",
       "United Arab Emirates    0.000172\n",
       "European Community      0.000154\n",
       "RSA                     0.000147\n",
       "Lebanon                 0.000114\n",
       "Brazil                  0.000081\n",
       "Czech Republic          0.000076\n",
       "Bahrain                 0.000043\n",
       "Name: Country, dtype: float64"
      ]
     },
     "execution_count": 224,
     "metadata": {},
     "output_type": "execute_result"
    }
   ],
   "source": [
    "df[df['CustomerID'].isin(selected_users)]['Country'].value_counts(normalize=True)"
   ]
  },
  {
   "cell_type": "markdown",
   "id": "d2a9d4d0",
   "metadata": {},
   "source": [
    "Не смотря на доминирующее положение в датасете, жители туманного \"Альбиона\" подтвердили статус чаелюбов."
   ]
  },
  {
   "cell_type": "markdown",
   "id": "d74d9669",
   "metadata": {},
   "source": [
    "Посмотрим на feature_importances"
   ]
  },
  {
   "cell_type": "code",
   "execution_count": 225,
   "id": "634d5ac2",
   "metadata": {},
   "outputs": [
    {
     "data": {
      "text/plain": [
       "array(['tea', 'regency', 'saucer', 'teacup', 'teatime', 'pc', 'set',\n",
       "       'time', 'towels', 'cases', 'roses', 'glass', 'engraved', 'card',\n",
       "       'retrospot', 'chateau', 'sympathy', 'ceramic', 'hook', 'kneeling',\n",
       "       'gardeners', 'teapot', 'silver', 'french', 'pantry', 'design',\n",
       "       'art', 'cake', 'pad', 'metal', 'fairy', 'small', 'mug', 'hot',\n",
       "       'sugar', 'etched', 'water', 'teacoffeesugar', 'green', 'tealight',\n",
       "       'bottle', 'hanger', 'london', 'pink', 'party', 'sign', 'doilies',\n",
       "       'magnets', 'blue', 'shed', 'box', 'wall', 'birthday',\n",
       "       'traditional', 'cup', 'stop', 'six', 'potting', 'towel', 'bag',\n",
       "       'love', 'vintage', 'charlotte', 'red', 'led', 'white', 'stand',\n",
       "       'plate', 'poorly', 'bracelet', 'oven', 'finish', 'babushka',\n",
       "       'notebook', 'elephant', 'dolly', 'bowl', 'pot', 'angel', 'leaf',\n",
       "       'tall', 'dairy', 'maid', 'chocolate', 'board', 'drawer',\n",
       "       'stickers', 'candle', 'antique', 'wicker', 'embossed', 'retro',\n",
       "       'empire', 'caddy', 'morris', 'glove', 'airline', 'rabbit', 'reel',\n",
       "       'day'], dtype=object)"
      ]
     },
     "execution_count": 225,
     "metadata": {},
     "output_type": "execute_result"
    }
   ],
   "source": [
    "feature_names = pipeline.named_steps[\"description_tfidf\"].get_feature_names_out()\n",
    "feature_weights = pipeline.named_steps[\"clf\"].coef_[0]\n",
    "\n",
    "weights = pd.DataFrame({\n",
    "    'feature_name': feature_names,\n",
    "    'feature_weight': feature_weights\n",
    "}).sort_values('feature_weight', ascending=False)\n",
    "\n",
    "# топ 100 слов\n",
    "weights['feature_name'].iloc[:100].values"
   ]
  },
  {
   "cell_type": "markdown",
   "id": "f12a5b22",
   "metadata": {},
   "source": [
    "Ожидаемо, что лидирующие позиции занимают товары относящиеся напрямую к слову \"чай\" или к чайной церемонии - \"блюдце\", \"чайная чашка\", \"чаепитие\", \"набор\".\n",
    "\n",
    "Конечно, \"United Kingdom\" по распределению в категории \"Country\" занимает явно доминирующее положение, но это лишний раз продемонстрировало любовь британцев к этому напитку."
   ]
  },
  {
   "cell_type": "markdown",
   "id": "fc09e6de",
   "metadata": {},
   "source": [
    "В рекламе одна из важнейших прикладных задач - lookalike. Часто она решается именно как задача P(ositive)U(nlabeled)."
   ]
  },
  {
   "cell_type": "code",
   "execution_count": 226,
   "id": "e82836ed",
   "metadata": {},
   "outputs": [
    {
     "data": {
      "image/png": "[encoded data removed]",
      "text/plain": [
       "<Figure size 576x432 with 1 Axes>"
      ]
     },
     "metadata": {
      "needs_background": "light"
     },
     "output_type": "display_data"
    }
   ],
   "source": [
    "# Plot the class probabilities for the unlabeled samples\n",
    "fig = plt.figure(figsize=(8, 6))\n",
    "\n",
    "precision, recall, th = precision_recall_curve(X['flag'], X['y_pred'])\n",
    "ax = fig.add_subplot()\n",
    "f1s = precision[:-1] * recall[:-1]\n",
    "ax.plot(th, f1s, lw=3, alpha=0.5)\n",
    "\n",
    "best_th = np.argmax(f1s)\n",
    "ax.plot(th[best_th], f1s[best_th], c='r', marker='o')\n",
    "ax.plot([th[best_th], th[best_th]], [0.0,f1s[best_th] ], 'r--')\n",
    "ax.plot([0.0, th[best_th]], [f1s[best_th], f1s[best_th] ], 'r--')\n",
    "ax.annotate(f'Pre: {precision[best_th]:.3f}, Rec: {recall[best_th]:.3f}', \n",
    "             xy=(th[best_th]+ 0.02, f1s[best_th]-0.08))\n",
    "ax.set_ylabel('F1 score')\n",
    "ax.set_xlabel('Probability threshold')\n",
    "plt.grid()\n"
   ]
  },
  {
   "cell_type": "markdown",
   "id": "3d9ac7b3",
   "metadata": {},
   "source": [
    "### 2. Обучим на начальных данных классификатор RandomForestClassifier"
   ]
  },
  {
   "cell_type": "code",
   "execution_count": 227,
   "id": "86734e56",
   "metadata": {},
   "outputs": [],
   "source": [
    "def evaluate_results(y_test, y_predict):\n",
    "    f1 = f1_score(y_test, y_predict)\n",
    "    roc = roc_auc_score(y_test, y_predict)\n",
    "    rec = recall_score(y_test, y_predict, average='binary')\n",
    "    prc = precision_score(y_test, y_predict, average='binary')\n",
    "    return (f1, roc, rec, prc)"
   ]
  },
  {
   "cell_type": "code",
   "execution_count": 228,
   "id": "fa7eb8bc",
   "metadata": {},
   "outputs": [
    {
     "data": {
      "text/html": [
       "<div>\n",
       "<style scoped>\n",
       "    .dataframe tbody tr th:only-of-type {\n",
       "        vertical-align: middle;\n",
       "    }\n",
       "\n",
       "    .dataframe tbody tr th {\n",
       "        vertical-align: top;\n",
       "    }\n",
       "\n",
       "    .dataframe thead th {\n",
       "        text-align: right;\n",
       "    }\n",
       "</style>\n",
       "<table border=\"1\" class=\"dataframe\">\n",
       "  <thead>\n",
       "    <tr style=\"text-align: right;\">\n",
       "      <th></th>\n",
       "      <th>CustomerID</th>\n",
       "      <th>Description</th>\n",
       "      <th>flag</th>\n",
       "    </tr>\n",
       "  </thead>\n",
       "  <tbody>\n",
       "    <tr>\n",
       "      <th>3192</th>\n",
       "      <td>16670</td>\n",
       "      <td>red hanging heart tlight holder doormat englis...</td>\n",
       "      <td>1</td>\n",
       "    </tr>\n",
       "    <tr>\n",
       "      <th>3656</th>\n",
       "      <td>17315</td>\n",
       "      <td>dairy maid stripe mug natural slate rectangle ...</td>\n",
       "      <td>1</td>\n",
       "    </tr>\n",
       "    <tr>\n",
       "      <th>3383</th>\n",
       "      <td>16923</td>\n",
       "      <td>antique silver tea glass etched christmas deco...</td>\n",
       "      <td>1</td>\n",
       "    </tr>\n",
       "  </tbody>\n",
       "</table>\n",
       "</div>"
      ],
      "text/plain": [
       "      CustomerID                                        Description  flag\n",
       "3192       16670  red hanging heart tlight holder doormat englis...     1\n",
       "3656       17315  dairy maid stripe mug natural slate rectangle ...     1\n",
       "3383       16923  antique silver tea glass etched christmas deco...     1"
      ]
     },
     "execution_count": 228,
     "metadata": {},
     "output_type": "execute_result"
    }
   ],
   "source": [
    "X.drop(columns=['y_pred'], axis=1, inplace=True)\n",
    "X.head(3)"
   ]
  },
  {
   "cell_type": "code",
   "execution_count": 229,
   "id": "22efdd2d",
   "metadata": {},
   "outputs": [],
   "source": [
    "# разделим данные на train/test\n",
    "X_train_RF, X_test_RF, y_train_RF, y_test_RF = train_test_split(X, X['flag'], random_state=42)"
   ]
  },
  {
   "cell_type": "code",
   "execution_count": 230,
   "id": "b389b0eb",
   "metadata": {},
   "outputs": [],
   "source": [
    "pipeline_RF = Pipeline([('description_selector', FeatureSelector(column='Description')), \n",
    "                     ('description_tfidf', TfidfVectorizer()), \n",
    "                     ('clf', RandomForestClassifier())])"
   ]
  },
  {
   "cell_type": "code",
   "execution_count": 231,
   "id": "6236505a",
   "metadata": {},
   "outputs": [
    {
     "data": {
      "text/plain": [
       "Pipeline(steps=[('description_selector', FeatureSelector(column='Description')),\n",
       "                ('description_tfidf', TfidfVectorizer()),\n",
       "                ('clf', RandomForestClassifier())])"
      ]
     },
     "execution_count": 231,
     "metadata": {},
     "output_type": "execute_result"
    }
   ],
   "source": [
    "# обучим наш пайплайн\n",
    "pipeline_RF.fit(X_train_RF, y_train_RF)"
   ]
  },
  {
   "cell_type": "code",
   "execution_count": 232,
   "id": "feab6759",
   "metadata": {},
   "outputs": [
    {
     "data": {
      "text/plain": [
       "array([0.68909116, 0.96888645, 0.96706609, 0.97002198, 0.1694268 ,\n",
       "       0.96452589, 0.9258048 , 0.4654688 , 0.39911062, 0.07748535])"
      ]
     },
     "execution_count": 232,
     "metadata": {},
     "output_type": "execute_result"
    }
   ],
   "source": [
    "# наши прогнозы для тестовой выборки\n",
    "preds_RF = pipeline.predict_proba(X_test_RF)[:, 1]\n",
    "preds_RF[:10]"
   ]
  },
  {
   "cell_type": "code",
   "execution_count": 233,
   "id": "71f7d1c9",
   "metadata": {},
   "outputs": [
    {
     "name": "stdout",
     "output_type": "stream",
     "text": [
      "Best Threshold=0.5142639366859706, F-Score=0.931, Precision=0.917, Recall=0.945\n"
     ]
    }
   ],
   "source": [
    "precision, recall, thresholds = precision_recall_curve(y_test_RF, preds_RF)\n",
    "fscore = (2 * precision * recall) / (precision + recall)\n",
    "# locate the index of the largest f score\n",
    "ix = np.argmax(fscore)\n",
    "print(f'Best Threshold={thresholds[ix]}, F-Score={fscore[ix]:.3f}, Precision={precision[ix]:.3f}, Recall={recall[ix]:.3f}')"
   ]
  },
  {
   "cell_type": "markdown",
   "id": "ef866edc",
   "metadata": {},
   "source": [
    "Метрики заметно лучше чем у LogisticRegression"
   ]
  },
  {
   "cell_type": "code",
   "execution_count": 234,
   "id": "f60b0e9c",
   "metadata": {},
   "outputs": [
    {
     "data": {
      "text/plain": [
       "array(['tea', 'saucer', 'glass', 'time', 'pantry', 'set', 'regency',\n",
       "       'cake', 'pc', 'teatime', 'teacup', 'roses', 'towels', 'box',\n",
       "       'cases', 'retrospot', 'design', 'pink', 'green', 'fairy', 'cup',\n",
       "       'red', 'rose', 'small', 'bowl', 'ceramic', 'cakestand', 'bottle',\n",
       "       'party', 'pack', 'sympathy', 'tier', 'chocolate', 'blue', 'ivory',\n",
       "       'holder', 'tins', 'hot', 'teapot', 'baking', 'doilies', 'tlight',\n",
       "       'vintage', 'mini', 'love', 'metal', 'plate', 'silver', 'large',\n",
       "       'coffee', 'tin', 'hook', 'milk', 'antique', 'paper', 'mug', 'sign',\n",
       "       'flower', 'jam', 'heart', 'engraved', 'sugar', 'classic',\n",
       "       'candles', 'water', 'white', 'hanging', 'dolly', 'spaceboy', 'dog',\n",
       "       'christmas', 'black', 'kneeling', 'chateau', 'bunting', 'card',\n",
       "       'tealight', 'shed', 'hanger', 'gardeners', 'apples', 'jug',\n",
       "       'wicker', 'colour', 'traditional', 'bag', 'girl', 'home',\n",
       "       'polkadot', 'stand', 'sweet', 'etched', 'hearts', 'wooden', 'gift',\n",
       "       'french', 'art', 'assorted', 'frame', 'paisley'], dtype=object)"
      ]
     },
     "execution_count": 234,
     "metadata": {},
     "output_type": "execute_result"
    }
   ],
   "source": [
    "feature_names_RF = pipeline_RF.named_steps[\"description_tfidf\"].get_feature_names_out()\n",
    "feature_weights_RF = pipeline_RF.named_steps[\"clf\"].feature_importances_\n",
    "\n",
    "weights_RF = pd.DataFrame({\n",
    "    'feature_name': feature_names_RF,\n",
    "    'feature_weight': feature_weights_RF\n",
    "}).sort_values('feature_weight', ascending=False)\n",
    "\n",
    "# топ 100 слов\n",
    "weights_RF['feature_name'].iloc[:100].values"
   ]
  },
  {
   "cell_type": "markdown",
   "id": "52ef8418",
   "metadata": {},
   "source": [
    "Те же лидирующие позиции предметов из чайных церемоний и вечерних посиделок за чашечкой чая."
   ]
  },
  {
   "cell_type": "code",
   "execution_count": 235,
   "id": "4614fda6",
   "metadata": {},
   "outputs": [
    {
     "data": {
      "text/html": [
       "<div>\n",
       "<style scoped>\n",
       "    .dataframe tbody tr th:only-of-type {\n",
       "        vertical-align: middle;\n",
       "    }\n",
       "\n",
       "    .dataframe tbody tr th {\n",
       "        vertical-align: top;\n",
       "    }\n",
       "\n",
       "    .dataframe thead th {\n",
       "        text-align: right;\n",
       "    }\n",
       "</style>\n",
       "<table border=\"1\" class=\"dataframe\">\n",
       "  <thead>\n",
       "    <tr style=\"text-align: right;\">\n",
       "      <th></th>\n",
       "      <th>CustomerID</th>\n",
       "      <th>Description</th>\n",
       "      <th>flag</th>\n",
       "      <th>y_pred</th>\n",
       "    </tr>\n",
       "  </thead>\n",
       "  <tbody>\n",
       "    <tr>\n",
       "      <th>3192</th>\n",
       "      <td>16670</td>\n",
       "      <td>red hanging heart tlight holder doormat englis...</td>\n",
       "      <td>1</td>\n",
       "      <td>1.0</td>\n",
       "    </tr>\n",
       "    <tr>\n",
       "      <th>1645</th>\n",
       "      <td>14562</td>\n",
       "      <td>hanging jam jar tlight holder home sweet home ...</td>\n",
       "      <td>1</td>\n",
       "      <td>1.0</td>\n",
       "    </tr>\n",
       "    <tr>\n",
       "      <th>2285</th>\n",
       "      <td>15436</td>\n",
       "      <td>bright blues ribbons   ribbons rustic charm pa...</td>\n",
       "      <td>1</td>\n",
       "      <td>1.0</td>\n",
       "    </tr>\n",
       "  </tbody>\n",
       "</table>\n",
       "</div>"
      ],
      "text/plain": [
       "      CustomerID                                        Description  flag  \\\n",
       "3192       16670  red hanging heart tlight holder doormat englis...     1   \n",
       "1645       14562  hanging jam jar tlight holder home sweet home ...     1   \n",
       "2285       15436  bright blues ribbons   ribbons rustic charm pa...     1   \n",
       "\n",
       "      y_pred  \n",
       "3192     1.0  \n",
       "1645     1.0  \n",
       "2285     1.0  "
      ]
     },
     "execution_count": 235,
     "metadata": {},
     "output_type": "execute_result"
    }
   ],
   "source": [
    "X['y_pred'] = pipeline_RF.predict_proba(X)[:, 1]\n",
    "X = X.sort_values('y_pred', ascending=False)\n",
    "X.head(3)"
   ]
  },
  {
   "cell_type": "code",
   "execution_count": 236,
   "id": "6699232c",
   "metadata": {},
   "outputs": [
    {
     "data": {
      "image/png": "[encoded data removed]",
      "text/plain": [
       "<Figure size 576x432 with 1 Axes>"
      ]
     },
     "metadata": {
      "needs_background": "light"
     },
     "output_type": "display_data"
    }
   ],
   "source": [
    "# Plot the class probabilities for the unlabeled samples\n",
    "fig = plt.figure(figsize=(8, 6))\n",
    "\n",
    "precision, recall, th = precision_recall_curve(X['flag'], X['y_pred'])\n",
    "ax = fig.add_subplot()\n",
    "f1s = precision[:-1] * recall[:-1]\n",
    "ax.plot(th, f1s, lw=3, alpha=0.5)\n",
    "\n",
    "best_th = np.argmax(f1s)\n",
    "ax.plot(th[best_th], f1s[best_th], c='r', marker='o')\n",
    "ax.plot([th[best_th], th[best_th]], [0.0,f1s[best_th] ], 'r--')\n",
    "ax.plot([0.0, th[best_th]], [f1s[best_th], f1s[best_th] ], 'r--')\n",
    "ax.annotate(f'Pre: {precision[best_th]:.3f}, Rec: {recall[best_th]:.3f}', \n",
    "             xy=(th[best_th]+ 0.02, f1s[best_th]-0.08))\n",
    "ax.set_ylabel('F1 score')\n",
    "ax.set_xlabel('Probability threshold')\n",
    "plt.grid()\n"
   ]
  },
  {
   "cell_type": "code",
   "execution_count": 237,
   "id": "8ed418f0",
   "metadata": {},
   "outputs": [
    {
     "data": {
      "text/html": [
       "<div>\n",
       "<style scoped>\n",
       "    .dataframe tbody tr th:only-of-type {\n",
       "        vertical-align: middle;\n",
       "    }\n",
       "\n",
       "    .dataframe tbody tr th {\n",
       "        vertical-align: top;\n",
       "    }\n",
       "\n",
       "    .dataframe thead th {\n",
       "        text-align: right;\n",
       "    }\n",
       "</style>\n",
       "<table border=\"1\" class=\"dataframe\">\n",
       "  <thead>\n",
       "    <tr style=\"text-align: right;\">\n",
       "      <th></th>\n",
       "      <th>CustomerID</th>\n",
       "      <th>Description</th>\n",
       "      <th>flag</th>\n",
       "    </tr>\n",
       "  </thead>\n",
       "  <tbody>\n",
       "    <tr>\n",
       "      <th>3192</th>\n",
       "      <td>16670</td>\n",
       "      <td>red hanging heart tlight holder doormat englis...</td>\n",
       "      <td>1</td>\n",
       "    </tr>\n",
       "    <tr>\n",
       "      <th>1645</th>\n",
       "      <td>14562</td>\n",
       "      <td>hanging jam jar tlight holder home sweet home ...</td>\n",
       "      <td>1</td>\n",
       "    </tr>\n",
       "    <tr>\n",
       "      <th>2285</th>\n",
       "      <td>15436</td>\n",
       "      <td>bright blues ribbons   ribbons rustic charm pa...</td>\n",
       "      <td>1</td>\n",
       "    </tr>\n",
       "  </tbody>\n",
       "</table>\n",
       "</div>"
      ],
      "text/plain": [
       "      CustomerID                                        Description  flag\n",
       "3192       16670  red hanging heart tlight holder doormat englis...     1\n",
       "1645       14562  hanging jam jar tlight holder home sweet home ...     1\n",
       "2285       15436  bright blues ribbons   ribbons rustic charm pa...     1"
      ]
     },
     "execution_count": 237,
     "metadata": {},
     "output_type": "execute_result"
    }
   ],
   "source": [
    "X.drop(columns=['y_pred'],axis = 1, inplace=True)\n",
    "X.head(3)"
   ]
  },
  {
   "cell_type": "code",
   "execution_count": 238,
   "id": "2bfe39d7",
   "metadata": {},
   "outputs": [
    {
     "data": {
      "text/html": [
       "<div>\n",
       "<style scoped>\n",
       "    .dataframe tbody tr th:only-of-type {\n",
       "        vertical-align: middle;\n",
       "    }\n",
       "\n",
       "    .dataframe tbody tr th {\n",
       "        vertical-align: top;\n",
       "    }\n",
       "\n",
       "    .dataframe thead th {\n",
       "        text-align: right;\n",
       "    }\n",
       "</style>\n",
       "<table border=\"1\" class=\"dataframe\">\n",
       "  <thead>\n",
       "    <tr style=\"text-align: right;\">\n",
       "      <th></th>\n",
       "      <th>CustomerID</th>\n",
       "      <th>Description</th>\n",
       "      <th>flag</th>\n",
       "    </tr>\n",
       "  </thead>\n",
       "  <tbody>\n",
       "    <tr>\n",
       "      <th>0</th>\n",
       "      <td>12346</td>\n",
       "      <td>medium ceramic top storage jar medium ceramic ...</td>\n",
       "      <td>0</td>\n",
       "    </tr>\n",
       "    <tr>\n",
       "      <th>1</th>\n",
       "      <td>12347</td>\n",
       "      <td>black candelabra tlight holder airline bag vin...</td>\n",
       "      <td>1</td>\n",
       "    </tr>\n",
       "    <tr>\n",
       "      <th>2</th>\n",
       "      <td>12348</td>\n",
       "      <td>sweetheart fairy cake cases  cake cases dolly...</td>\n",
       "      <td>1</td>\n",
       "    </tr>\n",
       "  </tbody>\n",
       "</table>\n",
       "</div>"
      ],
      "text/plain": [
       "   CustomerID                                        Description  flag\n",
       "0       12346  medium ceramic top storage jar medium ceramic ...     0\n",
       "1       12347  black candelabra tlight holder airline bag vin...     1\n",
       "2       12348   sweetheart fairy cake cases  cake cases dolly...     1"
      ]
     },
     "execution_count": 238,
     "metadata": {},
     "output_type": "execute_result"
    }
   ],
   "source": [
    "X = X.sort_index()\n",
    "X.head(3)"
   ]
  },
  {
   "cell_type": "markdown",
   "id": "40352436",
   "metadata": {},
   "source": [
    "### Посмотрим как будут меняться метрики при формировании целевого класса в известных долях."
   ]
  },
  {
   "cell_type": "markdown",
   "id": "3a03e03f",
   "metadata": {},
   "source": [
    "Сперва сделаем пример расчета на доли в 10% затем в цикле повторим шаги для других долей."
   ]
  },
  {
   "cell_type": "code",
   "execution_count": 239,
   "id": "1f461bcc",
   "metadata": {},
   "outputs": [],
   "source": [
    "metrics_results = {\n",
    "    'fraction': [],\n",
    "    'f1_score': [],\n",
    "    'roc_auc_score': [],\n",
    "    'recall_score': [],\n",
    "    'precision_score': []\n",
    "}"
   ]
  },
  {
   "cell_type": "code",
   "execution_count": 240,
   "id": "4bf9468f",
   "metadata": {},
   "outputs": [
    {
     "name": "stdout",
     "output_type": "stream",
     "text": [
      "Using 257/2564 as positives and unlabeling the rest\n"
     ]
    }
   ],
   "source": [
    "mod_X = X.copy()\n",
    "\n",
    "# получить индексы положительных меток\n",
    "pos_ind = np.where(mod_X.iloc[:, -1].values == 1)[0]\n",
    "\n",
    "# перемешаем индексы положительных меток\n",
    "np.random.shuffle(pos_ind)\n",
    "\n",
    "# оставим отмеченными только 10% положительных результатов, остальные будут не размеченными\n",
    "perc = 0.1\n",
    "pos_sample_len = int(np.ceil(perc * len(pos_ind)))\n",
    "\n",
    "print(f'Using {pos_sample_len}/{len(pos_ind)} as positives and unlabeling the rest')\n",
    "pos_sample = pos_ind[:pos_sample_len]"
   ]
  },
  {
   "cell_type": "markdown",
   "id": "59b1b4b9",
   "metadata": {},
   "source": [
    "Создаем столбец для новой целевой переменной, где у нас два класса - P (1) и U (-1)"
   ]
  },
  {
   "cell_type": "code",
   "execution_count": 241,
   "id": "59664a8f",
   "metadata": {},
   "outputs": [
    {
     "name": "stdout",
     "output_type": "stream",
     "text": [
      "target variable:\n",
      " -1    4115\n",
      " 1     257\n",
      "Name: class_test, dtype: int64\n"
     ]
    }
   ],
   "source": [
    "mod_X['class_test'] = -1\n",
    "mod_X.loc[pos_sample,'class_test'] = 1\n",
    "print('target variable:\\n', mod_X.iloc[:,-1].value_counts())"
   ]
  },
  {
   "cell_type": "markdown",
   "id": "94a22bb4",
   "metadata": {},
   "source": [
    "* 257 позитивных примеров (1)\n",
    "* 4115 без разметки (-1)"
   ]
  },
  {
   "cell_type": "code",
   "execution_count": 242,
   "id": "f7e6eefb",
   "metadata": {},
   "outputs": [
    {
     "data": {
      "text/html": [
       "<div>\n",
       "<style scoped>\n",
       "    .dataframe tbody tr th:only-of-type {\n",
       "        vertical-align: middle;\n",
       "    }\n",
       "\n",
       "    .dataframe tbody tr th {\n",
       "        vertical-align: top;\n",
       "    }\n",
       "\n",
       "    .dataframe thead th {\n",
       "        text-align: right;\n",
       "    }\n",
       "</style>\n",
       "<table border=\"1\" class=\"dataframe\">\n",
       "  <thead>\n",
       "    <tr style=\"text-align: right;\">\n",
       "      <th></th>\n",
       "      <th>CustomerID</th>\n",
       "      <th>Description</th>\n",
       "      <th>flag</th>\n",
       "      <th>class_test</th>\n",
       "    </tr>\n",
       "  </thead>\n",
       "  <tbody>\n",
       "    <tr>\n",
       "      <th>0</th>\n",
       "      <td>12346</td>\n",
       "      <td>medium ceramic top storage jar medium ceramic ...</td>\n",
       "      <td>0</td>\n",
       "      <td>-1</td>\n",
       "    </tr>\n",
       "    <tr>\n",
       "      <th>1</th>\n",
       "      <td>12347</td>\n",
       "      <td>black candelabra tlight holder airline bag vin...</td>\n",
       "      <td>1</td>\n",
       "      <td>-1</td>\n",
       "    </tr>\n",
       "    <tr>\n",
       "      <th>2</th>\n",
       "      <td>12348</td>\n",
       "      <td>sweetheart fairy cake cases  cake cases dolly...</td>\n",
       "      <td>1</td>\n",
       "      <td>-1</td>\n",
       "    </tr>\n",
       "    <tr>\n",
       "      <th>3</th>\n",
       "      <td>12349</td>\n",
       "      <td>parisienne curio cabinet sweetheart wall tidy ...</td>\n",
       "      <td>1</td>\n",
       "      <td>-1</td>\n",
       "    </tr>\n",
       "    <tr>\n",
       "      <th>4</th>\n",
       "      <td>12350</td>\n",
       "      <td>chocolate way metal sign metal sign neighbourh...</td>\n",
       "      <td>1</td>\n",
       "      <td>-1</td>\n",
       "    </tr>\n",
       "    <tr>\n",
       "      <th>5</th>\n",
       "      <td>12352</td>\n",
       "      <td>wooden happy birthday garland pink doughnut tr...</td>\n",
       "      <td>1</td>\n",
       "      <td>-1</td>\n",
       "    </tr>\n",
       "    <tr>\n",
       "      <th>6</th>\n",
       "      <td>12353</td>\n",
       "      <td>ceramic cake stand  hanging cakes mini cake st...</td>\n",
       "      <td>0</td>\n",
       "      <td>-1</td>\n",
       "    </tr>\n",
       "    <tr>\n",
       "      <th>7</th>\n",
       "      <td>12354</td>\n",
       "      <td>jumbo bag alphabet charlotte bag apples design...</td>\n",
       "      <td>0</td>\n",
       "      <td>-1</td>\n",
       "    </tr>\n",
       "    <tr>\n",
       "      <th>8</th>\n",
       "      <td>12355</td>\n",
       "      <td>grow flytrap sunflower tin ice cream sundae li...</td>\n",
       "      <td>1</td>\n",
       "      <td>-1</td>\n",
       "    </tr>\n",
       "    <tr>\n",
       "      <th>9</th>\n",
       "      <td>12356</td>\n",
       "      <td>baking set  piece retrospot  white heart confe...</td>\n",
       "      <td>1</td>\n",
       "      <td>-1</td>\n",
       "    </tr>\n",
       "  </tbody>\n",
       "</table>\n",
       "</div>"
      ],
      "text/plain": [
       "   CustomerID                                        Description  flag  \\\n",
       "0       12346  medium ceramic top storage jar medium ceramic ...     0   \n",
       "1       12347  black candelabra tlight holder airline bag vin...     1   \n",
       "2       12348   sweetheart fairy cake cases  cake cases dolly...     1   \n",
       "3       12349  parisienne curio cabinet sweetheart wall tidy ...     1   \n",
       "4       12350  chocolate way metal sign metal sign neighbourh...     1   \n",
       "5       12352  wooden happy birthday garland pink doughnut tr...     1   \n",
       "6       12353  ceramic cake stand  hanging cakes mini cake st...     0   \n",
       "7       12354  jumbo bag alphabet charlotte bag apples design...     0   \n",
       "8       12355  grow flytrap sunflower tin ice cream sundae li...     1   \n",
       "9       12356  baking set  piece retrospot  white heart confe...     1   \n",
       "\n",
       "   class_test  \n",
       "0          -1  \n",
       "1          -1  \n",
       "2          -1  \n",
       "3          -1  \n",
       "4          -1  \n",
       "5          -1  \n",
       "6          -1  \n",
       "7          -1  \n",
       "8          -1  \n",
       "9          -1  "
      ]
     },
     "execution_count": 242,
     "metadata": {},
     "output_type": "execute_result"
    }
   ],
   "source": [
    "mod_X.head(10)"
   ]
  },
  {
   "cell_type": "markdown",
   "id": "fcc7a072",
   "metadata": {},
   "source": [
    "### Этап random negative sampling"
   ]
  },
  {
   "cell_type": "markdown",
   "id": "a5610957",
   "metadata": {},
   "source": [
    "Обучение проведем на модели xgboost"
   ]
  },
  {
   "cell_type": "code",
   "execution_count": 243,
   "id": "103110c8",
   "metadata": {},
   "outputs": [
    {
     "name": "stdout",
     "output_type": "stream",
     "text": [
      "(257, 4) (257, 4)\n"
     ]
    }
   ],
   "source": [
    "mod_X = mod_X.sample(frac=1)\n",
    "\n",
    "# Разделим данные на размеченные (1) и не размеченные (-1)\n",
    "data_N = mod_X[mod_X['class_test'] == -1]\n",
    "data_P = mod_X[mod_X['class_test'] == 1]\n",
    "\n",
    "# Создадим из неразмеченных данных выборку размерности размеченного класса для баланса\n",
    "neg_sample = data_N[:data_P.shape[0]]\n",
    "sample_test = data_N[data_P.shape[0]:]\n",
    "pos_sample = data_P.copy()\n",
    "\n",
    "print(neg_sample.shape, pos_sample.shape)\n",
    "\n",
    "# Соединим их воедино для тренировочного датасета\n",
    "sample_train = pd.concat([neg_sample, pos_sample]).sample(frac=1)"
   ]
  },
  {
   "cell_type": "markdown",
   "id": "f475b666",
   "metadata": {},
   "source": [
    "Cоберем наш pipeline на модели XGBClassifier. "
   ]
  },
  {
   "cell_type": "code",
   "execution_count": 244,
   "id": "21935c7c",
   "metadata": {},
   "outputs": [],
   "source": [
    "pipeline_XGBCl = Pipeline([('description_selector', FeatureSelector(column='Description')), \n",
    "                     ('description_tfidf', TfidfVectorizer()), \n",
    "                     ('clf', xgb.XGBClassifier(use_label_encoder=False, \n",
    "                                               predictor='cpu_predictor',\n",
    "                                               objective='binary:logistic',\n",
    "                                               verbosity=0))])"
   ]
  },
  {
   "cell_type": "markdown",
   "id": "1a2f09cc",
   "metadata": {},
   "source": [
    "Заменим метки в тренировочном датасете с -1 на 0."
   ]
  },
  {
   "cell_type": "code",
   "execution_count": 245,
   "id": "a315a7a5",
   "metadata": {},
   "outputs": [],
   "source": [
    "sample_train.loc[sample_train['class_test'] == -1, 'class_test'] = 0"
   ]
  },
  {
   "cell_type": "code",
   "execution_count": 246,
   "id": "4d72bc73",
   "metadata": {},
   "outputs": [
    {
     "data": {
      "text/plain": [
       "Pipeline(steps=[('description_selector', FeatureSelector(column='Description')),\n",
       "                ('description_tfidf', TfidfVectorizer()),\n",
       "                ('clf',\n",
       "                 XGBClassifier(base_score=0.5, booster='gbtree',\n",
       "                               colsample_bylevel=1, colsample_bynode=1,\n",
       "                               colsample_bytree=1, gamma=0, gpu_id=-1,\n",
       "                               importance_type='gain',\n",
       "                               interaction_constraints='',\n",
       "                               learning_rate=0.300000012, max_delta_step=0,\n",
       "                               max_depth=6, min_child_weight=1, missing=nan,\n",
       "                               monotone_constraints='()', n_estimators=100,\n",
       "                               n_jobs=16, num_parallel_tree=1,\n",
       "                               predictor='cpu_predictor', random_state=0,\n",
       "                               reg_alpha=0, reg_lambda=1, scale_pos_weight=1,\n",
       "                               subsample=1, tree_method='exact',\n",
       "                               use_label_encoder=False, validate_parameters=1,\n",
       "                               verbosity=0))])"
      ]
     },
     "execution_count": 246,
     "metadata": {},
     "output_type": "execute_result"
    }
   ],
   "source": [
    "# обучим наш пайплайн\n",
    "pipeline_XGBCl.fit(sample_train.drop(columns=['class_test', 'flag']), sample_train['class_test'])"
   ]
  },
  {
   "cell_type": "code",
   "execution_count": 247,
   "id": "9e7a12e0",
   "metadata": {},
   "outputs": [
    {
     "data": {
      "text/plain": [
       "array([0, 0, 0, 1, 0, 0, 1, 1, 0, 0])"
      ]
     },
     "execution_count": 247,
     "metadata": {},
     "output_type": "execute_result"
    }
   ],
   "source": [
    "# наши прогнозы для тестовой выборки\n",
    "preds_XGBCl = pipeline_XGBCl.predict(sample_test.drop(columns=['class_test', 'flag']))\n",
    "preds_XGBCl[:10]"
   ]
  },
  {
   "cell_type": "code",
   "execution_count": 248,
   "id": "e7c41f11",
   "metadata": {},
   "outputs": [],
   "source": [
    "f1, roc, rec, prc = evaluate_results(sample_test['flag'], preds_XGBCl)"
   ]
  },
  {
   "cell_type": "code",
   "execution_count": 249,
   "id": "7412e3e1",
   "metadata": {},
   "outputs": [],
   "source": [
    "metrics_results['fraction'].append(f'{perc*100:.0f}%')\n",
    "metrics_results['f1_score'].append(round(f1,3))\n",
    "metrics_results['roc_auc_score'].append(round(roc,3))\n",
    "metrics_results['recall_score'].append(round(rec,3))\n",
    "metrics_results['precision_score'].append(round(prc,3))"
   ]
  },
  {
   "cell_type": "code",
   "execution_count": 250,
   "id": "aa391d59",
   "metadata": {},
   "outputs": [
    {
     "data": {
      "text/plain": [
       "{'fraction': ['10%'],\n",
       " 'f1_score': [0.818],\n",
       " 'roc_auc_score': [0.84],\n",
       " 'recall_score': [0.706],\n",
       " 'precision_score': [0.971]}"
      ]
     },
     "execution_count": 250,
     "metadata": {},
     "output_type": "execute_result"
    }
   ],
   "source": [
    "metrics_results"
   ]
  },
  {
   "cell_type": "markdown",
   "id": "2c315f6d",
   "metadata": {},
   "source": [
    "Проделаем такие же шаги для других долей от положительного класса и сравним результаты метрик."
   ]
  },
  {
   "cell_type": "code",
   "execution_count": 251,
   "id": "57c7fa11",
   "metadata": {},
   "outputs": [],
   "source": [
    "def data_preprocessing(X, percent):\n",
    "    mod_X = X.copy()\n",
    "    # получить индексы положительных меток\n",
    "    pos_ind = np.where(mod_X.iloc[:, -1].values == 1)[0]\n",
    "    # перемешаем индексы положительных меток\n",
    "    np.random.shuffle(pos_ind)\n",
    "    # оставим отмеченными только 10% положительных результатов, остальные будут не размеченными\n",
    "    perc = el\n",
    "    pos_sample_len = int(np.ceil(perc * len(pos_ind)))\n",
    "    pos_sample = pos_ind[:pos_sample_len]\n",
    "    mod_X['class_test'] = -1\n",
    "    mod_X.loc[pos_sample,'class_test'] = 1\n",
    "    mod_X = mod_X.sample(frac=1)\n",
    "    # Разделим данные на размеченные (1) и не размеченные (-1)\n",
    "    data_N = mod_X[mod_X['class_test'] == -1]\n",
    "    data_P = mod_X[mod_X['class_test'] == 1]\n",
    "    \n",
    "    # Создадим из неразмеченных данных выборку размерности размеченного класса для баланса\n",
    "    neg_sample = data_N[:data_P.shape[0]]\n",
    "    sample_test = data_N[data_P.shape[0]:]\n",
    "    pos_sample = data_P.copy()\n",
    "    sample_train = pd.concat([neg_sample, pos_sample]).sample(frac=1)\n",
    "    sample_train.loc[sample_train['class_test'] == -1, 'class_test'] = 0\n",
    "    \n",
    "    return sample_train, sample_test"
   ]
  },
  {
   "cell_type": "code",
   "execution_count": 252,
   "id": "7e1665c7",
   "metadata": {},
   "outputs": [],
   "source": [
    "for percent in np.arange(0.2, 0.8, 0.1):\n",
    "    \n",
    "    sample_train, sample_test = data_preprocessing(X, percent)\n",
    "    \n",
    "    pipeline_XGBCl.fit(sample_train.drop(columns=['class_test', 'flag']), sample_train['class_test'])\n",
    "    \n",
    "    preds_XGBCl = pipeline_XGBCl.predict(sample_test.drop(columns=['class_test', 'flag']))\n",
    "    \n",
    "    f1, roc, rec, prc = evaluate_results(sample_test['flag'], preds_XGBCl)\n",
    "    metrics_results['fraction'].append(f'{percent*100:.0f}%')\n",
    "    metrics_results['f1_score'].append(round(f1,3))\n",
    "    metrics_results['roc_auc_score'].append(round(roc,3))\n",
    "    metrics_results['recall_score'].append(round(rec,3))\n",
    "    metrics_results['precision_score'].append(round(prc,3))"
   ]
  },
  {
   "cell_type": "code",
   "execution_count": 253,
   "id": "50347b83",
   "metadata": {},
   "outputs": [
    {
     "data": {
      "text/html": [
       "<div>\n",
       "<style scoped>\n",
       "    .dataframe tbody tr th:only-of-type {\n",
       "        vertical-align: middle;\n",
       "    }\n",
       "\n",
       "    .dataframe tbody tr th {\n",
       "        vertical-align: top;\n",
       "    }\n",
       "\n",
       "    .dataframe thead th {\n",
       "        text-align: right;\n",
       "    }\n",
       "</style>\n",
       "<table border=\"1\" class=\"dataframe\">\n",
       "  <thead>\n",
       "    <tr style=\"text-align: right;\">\n",
       "      <th></th>\n",
       "      <th>fraction</th>\n",
       "      <th>f1_score</th>\n",
       "      <th>roc_auc_score</th>\n",
       "      <th>recall_score</th>\n",
       "      <th>precision_score</th>\n",
       "    </tr>\n",
       "  </thead>\n",
       "  <tbody>\n",
       "    <tr>\n",
       "      <th>6</th>\n",
       "      <td>70%</td>\n",
       "      <td>1.000</td>\n",
       "      <td>1.000</td>\n",
       "      <td>1.000</td>\n",
       "      <td>1.000</td>\n",
       "    </tr>\n",
       "    <tr>\n",
       "      <th>7</th>\n",
       "      <td>80%</td>\n",
       "      <td>1.000</td>\n",
       "      <td>1.000</td>\n",
       "      <td>1.000</td>\n",
       "      <td>1.000</td>\n",
       "    </tr>\n",
       "    <tr>\n",
       "      <th>3</th>\n",
       "      <td>40%</td>\n",
       "      <td>0.992</td>\n",
       "      <td>0.992</td>\n",
       "      <td>0.983</td>\n",
       "      <td>1.000</td>\n",
       "    </tr>\n",
       "    <tr>\n",
       "      <th>1</th>\n",
       "      <td>20%</td>\n",
       "      <td>0.991</td>\n",
       "      <td>0.991</td>\n",
       "      <td>0.982</td>\n",
       "      <td>1.000</td>\n",
       "    </tr>\n",
       "    <tr>\n",
       "      <th>2</th>\n",
       "      <td>30%</td>\n",
       "      <td>0.980</td>\n",
       "      <td>0.980</td>\n",
       "      <td>0.960</td>\n",
       "      <td>1.000</td>\n",
       "    </tr>\n",
       "    <tr>\n",
       "      <th>5</th>\n",
       "      <td>60%</td>\n",
       "      <td>0.979</td>\n",
       "      <td>0.980</td>\n",
       "      <td>0.959</td>\n",
       "      <td>1.000</td>\n",
       "    </tr>\n",
       "    <tr>\n",
       "      <th>4</th>\n",
       "      <td>50%</td>\n",
       "      <td>0.978</td>\n",
       "      <td>0.978</td>\n",
       "      <td>0.957</td>\n",
       "      <td>1.000</td>\n",
       "    </tr>\n",
       "    <tr>\n",
       "      <th>0</th>\n",
       "      <td>10%</td>\n",
       "      <td>0.818</td>\n",
       "      <td>0.840</td>\n",
       "      <td>0.706</td>\n",
       "      <td>0.971</td>\n",
       "    </tr>\n",
       "  </tbody>\n",
       "</table>\n",
       "</div>"
      ],
      "text/plain": [
       "  fraction  f1_score  roc_auc_score  recall_score  precision_score\n",
       "6      70%     1.000          1.000         1.000            1.000\n",
       "7      80%     1.000          1.000         1.000            1.000\n",
       "3      40%     0.992          0.992         0.983            1.000\n",
       "1      20%     0.991          0.991         0.982            1.000\n",
       "2      30%     0.980          0.980         0.960            1.000\n",
       "5      60%     0.979          0.980         0.959            1.000\n",
       "4      50%     0.978          0.978         0.957            1.000\n",
       "0      10%     0.818          0.840         0.706            0.971"
      ]
     },
     "execution_count": 253,
     "metadata": {},
     "output_type": "execute_result"
    }
   ],
   "source": [
    "df_metrics = pd.DataFrame(data=metrics_results).sort_values('roc_auc_score', ascending=False)\n",
    "df_metrics"
   ]
  },
  {
   "cell_type": "markdown",
   "id": "9862b094",
   "metadata": {},
   "source": [
    "С ростом объема размеченных данных растут показатели метрик"
   ]
  },
  {
   "cell_type": "code",
   "execution_count": null,
   "id": "a469e4a9",
   "metadata": {},
   "outputs": [],
   "source": []
  }
 ],
 "metadata": {
  "kernelspec": {
   "display_name": "Python 3 (ipykernel)",
   "language": "python",
   "name": "python3"
  },
  "language_info": {
   "codemirror_mode": {
    "name": "ipython",
    "version": 3
   },
   "file_extension": ".py",
   "mimetype": "text/x-python",
   "name": "python",
   "nbconvert_exporter": "python",
   "pygments_lexer": "ipython3",
   "version": "3.8.8"
  }
 },
 "nbformat": 4,
 "nbformat_minor": 5
}
