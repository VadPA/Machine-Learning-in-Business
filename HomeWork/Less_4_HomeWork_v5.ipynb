{
 "cells": [
  {
   "cell_type": "code",
   "execution_count": 1,
   "id": "75e33d52",
   "metadata": {},
   "outputs": [],
   "source": [
    "import numpy as np\n",
    "import pandas as pd\n",
    "# pd.set_option('display.max_columns', None)\n",
    "\n",
    "from sklearn.model_selection import train_test_split, cross_val_score\n"
   ]
  },
  {
   "cell_type": "code",
   "execution_count": 2,
   "id": "35785776",
   "metadata": {},
   "outputs": [
    {
     "data": {
      "text/html": [
       "<div>\n",
       "<style scoped>\n",
       "    .dataframe tbody tr th:only-of-type {\n",
       "        vertical-align: middle;\n",
       "    }\n",
       "\n",
       "    .dataframe tbody tr th {\n",
       "        vertical-align: top;\n",
       "    }\n",
       "\n",
       "    .dataframe thead th {\n",
       "        text-align: right;\n",
       "    }\n",
       "</style>\n",
       "<table border=\"1\" class=\"dataframe\">\n",
       "  <thead>\n",
       "    <tr style=\"text-align: right;\">\n",
       "      <th></th>\n",
       "      <th>recency</th>\n",
       "      <th>history</th>\n",
       "      <th>used_discount</th>\n",
       "      <th>used_bogo</th>\n",
       "      <th>zip_code</th>\n",
       "      <th>is_referral</th>\n",
       "      <th>channel</th>\n",
       "      <th>offer</th>\n",
       "      <th>conversion</th>\n",
       "    </tr>\n",
       "  </thead>\n",
       "  <tbody>\n",
       "    <tr>\n",
       "      <th>0</th>\n",
       "      <td>10</td>\n",
       "      <td>142.44</td>\n",
       "      <td>1</td>\n",
       "      <td>0</td>\n",
       "      <td>Surburban</td>\n",
       "      <td>0</td>\n",
       "      <td>Phone</td>\n",
       "      <td>Buy One Get One</td>\n",
       "      <td>0</td>\n",
       "    </tr>\n",
       "    <tr>\n",
       "      <th>1</th>\n",
       "      <td>6</td>\n",
       "      <td>329.08</td>\n",
       "      <td>1</td>\n",
       "      <td>1</td>\n",
       "      <td>Rural</td>\n",
       "      <td>1</td>\n",
       "      <td>Web</td>\n",
       "      <td>No Offer</td>\n",
       "      <td>0</td>\n",
       "    </tr>\n",
       "    <tr>\n",
       "      <th>2</th>\n",
       "      <td>7</td>\n",
       "      <td>180.65</td>\n",
       "      <td>0</td>\n",
       "      <td>1</td>\n",
       "      <td>Surburban</td>\n",
       "      <td>1</td>\n",
       "      <td>Web</td>\n",
       "      <td>Buy One Get One</td>\n",
       "      <td>0</td>\n",
       "    </tr>\n",
       "  </tbody>\n",
       "</table>\n",
       "</div>"
      ],
      "text/plain": [
       "   recency  history  used_discount  used_bogo   zip_code  is_referral channel  \\\n",
       "0       10   142.44              1          0  Surburban            0   Phone   \n",
       "1        6   329.08              1          1      Rural            1     Web   \n",
       "2        7   180.65              0          1  Surburban            1     Web   \n",
       "\n",
       "             offer  conversion  \n",
       "0  Buy One Get One           0  \n",
       "1         No Offer           0  \n",
       "2  Buy One Get One           0  "
      ]
     },
     "execution_count": 2,
     "metadata": {},
     "output_type": "execute_result"
    }
   ],
   "source": [
    "# Чтение данных\n",
    "df = pd.read_csv('data.csv')\n",
    "df.head(3)"
   ]
  },
  {
   "cell_type": "markdown",
   "id": "27344e1b",
   "metadata": {},
   "source": [
    "### Описание ДатаСета"
   ]
  },
  {
   "cell_type": "markdown",
   "id": "e848d720",
   "metadata": {},
   "source": [
    "* recency - кол-во месяцев с момента последней покупки\n",
    "* history - стоимость покупок в долларах США\n",
    "* used_discount - указывает, использовал ли клиент скидку ранее\n",
    "* used_bogo - указывает, использовал ли клиент услугу \"купи и получи\" раньше\n",
    "* zip_code - класс почтового индекса как Пригородный/Городской/Сельский\n",
    "* is_referral - указывает, был ли клиент приобретен по реферальному каналу\n",
    "* channel - связь, которую использует клиент, Телефон / Интернет /Многоканальный\n",
    "* treatment - предложения, отправленные клиентам, Скидка /Купи одно, Получи одно / Либо Нет предложения\n",
    "* target - customer conversion (buy or not) - конверсия (купил клиент или не совершил покупок)\n"
   ]
  },
  {
   "cell_type": "code",
   "execution_count": 3,
   "id": "9db602b3",
   "metadata": {},
   "outputs": [],
   "source": [
    "class DataPreprocessing:\n",
    "    \"\"\"Preparation of initial data\"\"\"\n",
    "\n",
    "    def __init__(self):\n",
    "        self.medians = None\n",
    "\n",
    "    def fit(self, X, y=None):\n",
    "        self.medians = X.median(numeric_only=True)\n",
    "        return self\n",
    "\n",
    "    def transform(self, X, y=None):\n",
    "        X.rename(columns={'conversion': 'target', 'offer': 'treatment'}, inplace=True)\n",
    "        X.fillna(self.medians, inplace=True)\n",
    "        return X"
   ]
  },
  {
   "cell_type": "code",
   "execution_count": 4,
   "id": "3433b86f",
   "metadata": {},
   "outputs": [
    {
     "data": {
      "text/html": [
       "<div>\n",
       "<style scoped>\n",
       "    .dataframe tbody tr th:only-of-type {\n",
       "        vertical-align: middle;\n",
       "    }\n",
       "\n",
       "    .dataframe tbody tr th {\n",
       "        vertical-align: top;\n",
       "    }\n",
       "\n",
       "    .dataframe thead th {\n",
       "        text-align: right;\n",
       "    }\n",
       "</style>\n",
       "<table border=\"1\" class=\"dataframe\">\n",
       "  <thead>\n",
       "    <tr style=\"text-align: right;\">\n",
       "      <th></th>\n",
       "      <th>recency</th>\n",
       "      <th>history</th>\n",
       "      <th>used_discount</th>\n",
       "      <th>used_bogo</th>\n",
       "      <th>zip_code</th>\n",
       "      <th>is_referral</th>\n",
       "      <th>channel</th>\n",
       "      <th>treatment</th>\n",
       "      <th>target</th>\n",
       "    </tr>\n",
       "  </thead>\n",
       "  <tbody>\n",
       "    <tr>\n",
       "      <th>0</th>\n",
       "      <td>10</td>\n",
       "      <td>142.44</td>\n",
       "      <td>1</td>\n",
       "      <td>0</td>\n",
       "      <td>Surburban</td>\n",
       "      <td>0</td>\n",
       "      <td>Phone</td>\n",
       "      <td>Buy One Get One</td>\n",
       "      <td>0</td>\n",
       "    </tr>\n",
       "    <tr>\n",
       "      <th>1</th>\n",
       "      <td>6</td>\n",
       "      <td>329.08</td>\n",
       "      <td>1</td>\n",
       "      <td>1</td>\n",
       "      <td>Rural</td>\n",
       "      <td>1</td>\n",
       "      <td>Web</td>\n",
       "      <td>No Offer</td>\n",
       "      <td>0</td>\n",
       "    </tr>\n",
       "    <tr>\n",
       "      <th>2</th>\n",
       "      <td>7</td>\n",
       "      <td>180.65</td>\n",
       "      <td>0</td>\n",
       "      <td>1</td>\n",
       "      <td>Surburban</td>\n",
       "      <td>1</td>\n",
       "      <td>Web</td>\n",
       "      <td>Buy One Get One</td>\n",
       "      <td>0</td>\n",
       "    </tr>\n",
       "  </tbody>\n",
       "</table>\n",
       "</div>"
      ],
      "text/plain": [
       "   recency  history  used_discount  used_bogo   zip_code  is_referral channel  \\\n",
       "0       10   142.44              1          0  Surburban            0   Phone   \n",
       "1        6   329.08              1          1      Rural            1     Web   \n",
       "2        7   180.65              0          1  Surburban            1     Web   \n",
       "\n",
       "         treatment  target  \n",
       "0  Buy One Get One       0  \n",
       "1         No Offer       0  \n",
       "2  Buy One Get One       0  "
      ]
     },
     "execution_count": 4,
     "metadata": {},
     "output_type": "execute_result"
    }
   ],
   "source": [
    "preprocessor = DataPreprocessing()\n",
    "preprocessor.fit(df)\n",
    "\n",
    "df = preprocessor.transform(df)\n",
    "df.head(3)"
   ]
  },
  {
   "cell_type": "code",
   "execution_count": 5,
   "id": "47b4c7e6",
   "metadata": {},
   "outputs": [],
   "source": [
    "class FeatureGenetator():\n",
    "    \"\"\"Generation of new features\"\"\"\n",
    "\n",
    "    def __init__(self):\n",
    "        self.cat_to_numbers = None\n",
    "\n",
    "    def fit(self, X, y=None):\n",
    "        # Categorical features\n",
    "        self.cat_to_numbers = {'Buy One Get One': 1, 'Discount': 1, 'No Offer': 0}\n",
    "\n",
    "    def transform(self, X, y=None):\n",
    "        X.insert(0, \"ID\", X.index.tolist())\n",
    "\n",
    "        # Categorical features\n",
    "        X['treatment'] = X['treatment'].map(self.cat_to_numbers)\n",
    "\n",
    "        # Dummies features\n",
    "        for cat_colname in X.select_dtypes(include='object').columns[0:]:\n",
    "            X = pd.concat([X, pd.get_dummies(X[cat_colname], prefix=cat_colname)], axis=1)\n",
    "            X = X.drop([cat_colname], axis=1)\n",
    "\n",
    "        return X"
   ]
  },
  {
   "cell_type": "code",
   "execution_count": 6,
   "id": "072a09b3",
   "metadata": {},
   "outputs": [
    {
     "data": {
      "text/html": [
       "<div>\n",
       "<style scoped>\n",
       "    .dataframe tbody tr th:only-of-type {\n",
       "        vertical-align: middle;\n",
       "    }\n",
       "\n",
       "    .dataframe tbody tr th {\n",
       "        vertical-align: top;\n",
       "    }\n",
       "\n",
       "    .dataframe thead th {\n",
       "        text-align: right;\n",
       "    }\n",
       "</style>\n",
       "<table border=\"1\" class=\"dataframe\">\n",
       "  <thead>\n",
       "    <tr style=\"text-align: right;\">\n",
       "      <th></th>\n",
       "      <th>ID</th>\n",
       "      <th>recency</th>\n",
       "      <th>history</th>\n",
       "      <th>used_discount</th>\n",
       "      <th>used_bogo</th>\n",
       "      <th>is_referral</th>\n",
       "      <th>treatment</th>\n",
       "      <th>target</th>\n",
       "      <th>zip_code_Rural</th>\n",
       "      <th>zip_code_Surburban</th>\n",
       "      <th>zip_code_Urban</th>\n",
       "      <th>channel_Multichannel</th>\n",
       "      <th>channel_Phone</th>\n",
       "      <th>channel_Web</th>\n",
       "    </tr>\n",
       "  </thead>\n",
       "  <tbody>\n",
       "    <tr>\n",
       "      <th>0</th>\n",
       "      <td>0</td>\n",
       "      <td>10</td>\n",
       "      <td>142.44</td>\n",
       "      <td>1</td>\n",
       "      <td>0</td>\n",
       "      <td>0</td>\n",
       "      <td>1</td>\n",
       "      <td>0</td>\n",
       "      <td>0</td>\n",
       "      <td>1</td>\n",
       "      <td>0</td>\n",
       "      <td>0</td>\n",
       "      <td>1</td>\n",
       "      <td>0</td>\n",
       "    </tr>\n",
       "    <tr>\n",
       "      <th>1</th>\n",
       "      <td>1</td>\n",
       "      <td>6</td>\n",
       "      <td>329.08</td>\n",
       "      <td>1</td>\n",
       "      <td>1</td>\n",
       "      <td>1</td>\n",
       "      <td>0</td>\n",
       "      <td>0</td>\n",
       "      <td>1</td>\n",
       "      <td>0</td>\n",
       "      <td>0</td>\n",
       "      <td>0</td>\n",
       "      <td>0</td>\n",
       "      <td>1</td>\n",
       "    </tr>\n",
       "    <tr>\n",
       "      <th>2</th>\n",
       "      <td>2</td>\n",
       "      <td>7</td>\n",
       "      <td>180.65</td>\n",
       "      <td>0</td>\n",
       "      <td>1</td>\n",
       "      <td>1</td>\n",
       "      <td>1</td>\n",
       "      <td>0</td>\n",
       "      <td>0</td>\n",
       "      <td>1</td>\n",
       "      <td>0</td>\n",
       "      <td>0</td>\n",
       "      <td>0</td>\n",
       "      <td>1</td>\n",
       "    </tr>\n",
       "  </tbody>\n",
       "</table>\n",
       "</div>"
      ],
      "text/plain": [
       "   ID  recency  history  used_discount  used_bogo  is_referral  treatment  \\\n",
       "0   0       10   142.44              1          0            0          1   \n",
       "1   1        6   329.08              1          1            1          0   \n",
       "2   2        7   180.65              0          1            1          1   \n",
       "\n",
       "   target  zip_code_Rural  zip_code_Surburban  zip_code_Urban  \\\n",
       "0       0               0                   1               0   \n",
       "1       0               1                   0               0   \n",
       "2       0               0                   1               0   \n",
       "\n",
       "   channel_Multichannel  channel_Phone  channel_Web  \n",
       "0                     0              1            0  \n",
       "1                     0              0            1  \n",
       "2                     0              0            1  "
      ]
     },
     "execution_count": 6,
     "metadata": {},
     "output_type": "execute_result"
    }
   ],
   "source": [
    "features_gen = FeatureGenetator()\n",
    "features_gen.fit(df)\n",
    "\n",
    "df = features_gen.transform(df)\n",
    "df.head(3)"
   ]
  },
  {
   "cell_type": "code",
   "execution_count": 7,
   "id": "b367c394",
   "metadata": {},
   "outputs": [],
   "source": [
    "# разделим данные на train/test\n",
    "X_data_train, X_data_test, y_data_train, y_data_test = train_test_split(df, df[['treatment','target']], test_size=0.25, random_state=0)"
   ]
  },
  {
   "cell_type": "code",
   "execution_count": 8,
   "id": "969b3877",
   "metadata": {},
   "outputs": [],
   "source": [
    "X_data_train = X_data_train.drop(['treatment', 'target'], axis=1)\n",
    "X_data_test = X_data_test.drop(['treatment', 'target'], axis=1)"
   ]
  },
  {
   "cell_type": "code",
   "execution_count": 9,
   "id": "4f953099",
   "metadata": {},
   "outputs": [],
   "source": [
    "indices_train = X_data_train.index\n",
    "indices_test = X_data_test.index\n",
    "indices_learn, indices_valid = train_test_split(indices_train, test_size=0.3, random_state=123)"
   ]
  },
  {
   "cell_type": "code",
   "execution_count": 10,
   "id": "e28952df",
   "metadata": {},
   "outputs": [],
   "source": [
    "X_train = X_data_train.loc[indices_learn, :]\n",
    "X_train = X_train.drop(['ID'], axis=1)\n",
    "y_train = y_data_train.loc[indices_learn, 'target']\n",
    "treat_train = y_data_train.loc[indices_learn, 'treatment']"
   ]
  },
  {
   "cell_type": "code",
   "execution_count": 11,
   "id": "d0a91ccd",
   "metadata": {},
   "outputs": [],
   "source": [
    "X_val = X_data_train.loc[indices_valid, :]\n",
    "y_val = y_data_train.loc[indices_valid, 'target']\n",
    "treat_val =  y_data_train.loc[indices_valid, 'treatment']"
   ]
  },
  {
   "cell_type": "code",
   "execution_count": 12,
   "id": "a74a4e29",
   "metadata": {},
   "outputs": [],
   "source": [
    "X_test = X_data_test"
   ]
  },
  {
   "cell_type": "code",
   "execution_count": 13,
   "id": "3fc446a8",
   "metadata": {},
   "outputs": [],
   "source": [
    "models_results = {\n",
    "    'approach': [],\n",
    "    'uplift@10%': [],\n",
    "    'uplift@20%': [],\n",
    "    'uplift@30%': [],\n",
    "    'uplift@40%': [],\n",
    "    'uplift@50%': []\n",
    "}"
   ]
  },
  {
   "cell_type": "code",
   "execution_count": 14,
   "id": "453584b1",
   "metadata": {},
   "outputs": [],
   "source": [
    "X_test = X_test.drop(['ID'], axis=1)\n",
    "X_val = X_val.drop(['ID'], axis=1)\n",
    "# X_test"
   ]
  },
  {
   "cell_type": "code",
   "execution_count": 15,
   "id": "bdbed7e2",
   "metadata": {},
   "outputs": [],
   "source": [
    "from sklift.metrics import uplift_at_k\n",
    "from sklift.viz import plot_uplift_preds\n",
    "from sklift.models import SoloModel\n",
    "\n",
    "# sklift поддерживает любые модели, \n",
    "# которые удовлетворяют соглашениями scikit-learn\n",
    "# Для примера воспользуемся catboost\n",
    "from catboost import CatBoostClassifier\n"
   ]
  },
  {
   "cell_type": "markdown",
   "id": "dcbb9f21",
   "metadata": {},
   "source": [
    "## uplift-моделирование"
   ]
  },
  {
   "cell_type": "markdown",
   "id": "2ab6cbce",
   "metadata": {},
   "source": [
    "### 1.1 S-learner"
   ]
  },
  {
   "cell_type": "code",
   "execution_count": 16,
   "id": "52700009",
   "metadata": {},
   "outputs": [
    {
     "data": {
      "image/png": "[encoded data removed]",
      "text/plain": [
       "<Figure size 1440x504 with 3 Axes>"
      ]
     },
     "metadata": {
      "needs_background": "light"
     },
     "output_type": "display_data"
    }
   ],
   "source": [
    "sm = SoloModel(\n",
    "    CatBoostClassifier(iterations=20, random_state=42, silent=True)\n",
    ")\n",
    "\n",
    "sm = sm.fit(X_train, y_train, treat_train)\n",
    "\n",
    "uplift_sm = sm.predict(X_val)\n",
    "\n",
    "models_results['approach'].append('SoloModel')\n",
    "\n",
    "for el in [10,20,30,40,50]:\n",
    "    sm_score = uplift_at_k(y_true=y_val, uplift=uplift_sm, treatment=treat_val, strategy='by_group', k=el/100)\n",
    "    models_results['uplift@' + str(el) + '%'].append(sm_score)\n",
    "    \n",
    "# Получим условные вероятности выполнения целевого действия при взаимодействии для каждого объекта\n",
    "sm_trmnt_preds = sm.trmnt_preds_\n",
    "# И условные вероятности выполнения целевого действия без взаимодействия для каждого объекта\n",
    "sm_ctrl_preds = sm.ctrl_preds_\n",
    "\n",
    "# Отрисуем распределения вероятностей и их разность (uplift)\n",
    "plot_uplift_preds(trmnt_preds=sm_trmnt_preds, ctrl_preds=sm_ctrl_preds);"
   ]
  },
  {
   "cell_type": "markdown",
   "id": "5069b62a",
   "metadata": {},
   "source": [
    "#### топ-признаки датасета"
   ]
  },
  {
   "cell_type": "code",
   "execution_count": 17,
   "id": "ab581777",
   "metadata": {},
   "outputs": [
    {
     "data": {
      "text/html": [
       "<div>\n",
       "<style scoped>\n",
       "    .dataframe tbody tr th:only-of-type {\n",
       "        vertical-align: middle;\n",
       "    }\n",
       "\n",
       "    .dataframe tbody tr th {\n",
       "        vertical-align: top;\n",
       "    }\n",
       "\n",
       "    .dataframe thead th {\n",
       "        text-align: right;\n",
       "    }\n",
       "</style>\n",
       "<table border=\"1\" class=\"dataframe\">\n",
       "  <thead>\n",
       "    <tr style=\"text-align: right;\">\n",
       "      <th></th>\n",
       "      <th>feature_name</th>\n",
       "      <th>feature_score</th>\n",
       "    </tr>\n",
       "  </thead>\n",
       "  <tbody>\n",
       "    <tr>\n",
       "      <th>0</th>\n",
       "      <td>is_referral</td>\n",
       "      <td>16.894775</td>\n",
       "    </tr>\n",
       "    <tr>\n",
       "      <th>1</th>\n",
       "      <td>history</td>\n",
       "      <td>16.179138</td>\n",
       "    </tr>\n",
       "    <tr>\n",
       "      <th>2</th>\n",
       "      <td>recency</td>\n",
       "      <td>15.072062</td>\n",
       "    </tr>\n",
       "    <tr>\n",
       "      <th>3</th>\n",
       "      <td>treatment</td>\n",
       "      <td>14.146180</td>\n",
       "    </tr>\n",
       "    <tr>\n",
       "      <th>4</th>\n",
       "      <td>used_bogo</td>\n",
       "      <td>11.896204</td>\n",
       "    </tr>\n",
       "    <tr>\n",
       "      <th>5</th>\n",
       "      <td>used_discount</td>\n",
       "      <td>7.363323</td>\n",
       "    </tr>\n",
       "    <tr>\n",
       "      <th>6</th>\n",
       "      <td>zip_code_Rural</td>\n",
       "      <td>6.099042</td>\n",
       "    </tr>\n",
       "    <tr>\n",
       "      <th>7</th>\n",
       "      <td>channel_Web</td>\n",
       "      <td>5.786973</td>\n",
       "    </tr>\n",
       "    <tr>\n",
       "      <th>8</th>\n",
       "      <td>channel_Phone</td>\n",
       "      <td>2.165736</td>\n",
       "    </tr>\n",
       "    <tr>\n",
       "      <th>9</th>\n",
       "      <td>zip_code_Urban</td>\n",
       "      <td>1.893125</td>\n",
       "    </tr>\n",
       "    <tr>\n",
       "      <th>10</th>\n",
       "      <td>zip_code_Surburban</td>\n",
       "      <td>1.572135</td>\n",
       "    </tr>\n",
       "    <tr>\n",
       "      <th>11</th>\n",
       "      <td>channel_Multichannel</td>\n",
       "      <td>0.931308</td>\n",
       "    </tr>\n",
       "  </tbody>\n",
       "</table>\n",
       "</div>"
      ],
      "text/plain": [
       "            feature_name  feature_score\n",
       "0            is_referral      16.894775\n",
       "1                history      16.179138\n",
       "2                recency      15.072062\n",
       "3              treatment      14.146180\n",
       "4              used_bogo      11.896204\n",
       "5          used_discount       7.363323\n",
       "6         zip_code_Rural       6.099042\n",
       "7            channel_Web       5.786973\n",
       "8          channel_Phone       2.165736\n",
       "9         zip_code_Urban       1.893125\n",
       "10    zip_code_Surburban       1.572135\n",
       "11  channel_Multichannel       0.931308"
      ]
     },
     "execution_count": 17,
     "metadata": {},
     "output_type": "execute_result"
    }
   ],
   "source": [
    "sm_fi = pd.DataFrame({\n",
    "    'feature_name': sm.estimator.feature_names_,\n",
    "    'feature_score': sm.estimator.feature_importances_\n",
    "}).sort_values('feature_score', ascending=False).reset_index(drop=True)\n",
    "\n",
    "sm_fi"
   ]
  },
  {
   "cell_type": "code",
   "execution_count": 18,
   "id": "6656a0c8",
   "metadata": {},
   "outputs": [
    {
     "data": {
      "text/plain": [
       "0.07670673612607587"
      ]
     },
     "execution_count": 18,
     "metadata": {},
     "output_type": "execute_result"
    }
   ],
   "source": [
    "sm_score"
   ]
  },
  {
   "cell_type": "markdown",
   "id": "a9b11723",
   "metadata": {},
   "source": [
    "### Метрики"
   ]
  },
  {
   "cell_type": "markdown",
   "id": "fe33748c",
   "metadata": {},
   "source": [
    "#### uplift@k\n",
    "\n",
    "$$uplift@k = response\\space rate@k_{treatment} - response\\space  rate@k_{control}$$ \n",
    "$$response\\space  rate@k = mean(Y@k)$$\n",
    "\n",
    "\n",
    "Размер uplift на топ k процентах выборки.\n",
    "\n"
   ]
  },
  {
   "cell_type": "code",
   "execution_count": 19,
   "id": "855ec48f",
   "metadata": {},
   "outputs": [
    {
     "data": {
      "text/html": [
       "<div>\n",
       "<style scoped>\n",
       "    .dataframe tbody tr th:only-of-type {\n",
       "        vertical-align: middle;\n",
       "    }\n",
       "\n",
       "    .dataframe tbody tr th {\n",
       "        vertical-align: top;\n",
       "    }\n",
       "\n",
       "    .dataframe thead th {\n",
       "        text-align: right;\n",
       "    }\n",
       "</style>\n",
       "<table border=\"1\" class=\"dataframe\">\n",
       "  <thead>\n",
       "    <tr style=\"text-align: right;\">\n",
       "      <th></th>\n",
       "      <th>true</th>\n",
       "      <th>uplift</th>\n",
       "      <th>treat</th>\n",
       "    </tr>\n",
       "  </thead>\n",
       "  <tbody>\n",
       "    <tr>\n",
       "      <th>10325</th>\n",
       "      <td>1</td>\n",
       "      <td>0.054270</td>\n",
       "      <td>0</td>\n",
       "    </tr>\n",
       "    <tr>\n",
       "      <th>8713</th>\n",
       "      <td>0</td>\n",
       "      <td>0.048854</td>\n",
       "      <td>1</td>\n",
       "    </tr>\n",
       "    <tr>\n",
       "      <th>30635</th>\n",
       "      <td>0</td>\n",
       "      <td>0.035618</td>\n",
       "      <td>1</td>\n",
       "    </tr>\n",
       "    <tr>\n",
       "      <th>5826</th>\n",
       "      <td>0</td>\n",
       "      <td>0.067403</td>\n",
       "      <td>1</td>\n",
       "    </tr>\n",
       "    <tr>\n",
       "      <th>42507</th>\n",
       "      <td>0</td>\n",
       "      <td>0.029617</td>\n",
       "      <td>0</td>\n",
       "    </tr>\n",
       "  </tbody>\n",
       "</table>\n",
       "</div>"
      ],
      "text/plain": [
       "       true    uplift  treat\n",
       "10325     1  0.054270      0\n",
       "8713      0  0.048854      1\n",
       "30635     0  0.035618      1\n",
       "5826      0  0.067403      1\n",
       "42507     0  0.029617      0"
      ]
     },
     "execution_count": 19,
     "metadata": {},
     "output_type": "execute_result"
    }
   ],
   "source": [
    "n = 100\n",
    "df_m = pd.DataFrame({\n",
    "    'true': y_val[:n],\n",
    "    'uplift': uplift_sm[:n],\n",
    "    'treat': treat_val[:n]\n",
    "})   \n",
    "df_m.head(5) "
   ]
  },
  {
   "cell_type": "markdown",
   "id": "4318b295",
   "metadata": {},
   "source": [
    "**strategy='overall'**"
   ]
  },
  {
   "cell_type": "code",
   "execution_count": 20,
   "id": "ec699dc6",
   "metadata": {},
   "outputs": [
    {
     "data": {
      "text/plain": [
       "-0.0632630410654828"
      ]
     },
     "execution_count": 20,
     "metadata": {},
     "output_type": "execute_result"
    }
   ],
   "source": [
    "k = 0.7\n",
    "\n",
    "uplift_at_k(y_true=df_m['true'], uplift=df_m['uplift'], treatment=df_m['treat'],\n",
    "            # strategy='by_group',\n",
    "            strategy='overall',\n",
    "            k=k)"
   ]
  },
  {
   "cell_type": "code",
   "execution_count": 21,
   "id": "9fa411de",
   "metadata": {},
   "outputs": [
    {
     "data": {
      "text/html": [
       "<div>\n",
       "<style scoped>\n",
       "    .dataframe tbody tr th:only-of-type {\n",
       "        vertical-align: middle;\n",
       "    }\n",
       "\n",
       "    .dataframe tbody tr th {\n",
       "        vertical-align: top;\n",
       "    }\n",
       "\n",
       "    .dataframe thead th {\n",
       "        text-align: right;\n",
       "    }\n",
       "</style>\n",
       "<table border=\"1\" class=\"dataframe\">\n",
       "  <thead>\n",
       "    <tr style=\"text-align: right;\">\n",
       "      <th></th>\n",
       "      <th>true</th>\n",
       "      <th>uplift</th>\n",
       "      <th>treat</th>\n",
       "    </tr>\n",
       "  </thead>\n",
       "  <tbody>\n",
       "    <tr>\n",
       "      <th>23813</th>\n",
       "      <td>1</td>\n",
       "      <td>0.180080</td>\n",
       "      <td>1</td>\n",
       "    </tr>\n",
       "    <tr>\n",
       "      <th>26259</th>\n",
       "      <td>0</td>\n",
       "      <td>0.139551</td>\n",
       "      <td>1</td>\n",
       "    </tr>\n",
       "    <tr>\n",
       "      <th>40781</th>\n",
       "      <td>0</td>\n",
       "      <td>0.139448</td>\n",
       "      <td>1</td>\n",
       "    </tr>\n",
       "    <tr>\n",
       "      <th>60140</th>\n",
       "      <td>0</td>\n",
       "      <td>0.122365</td>\n",
       "      <td>1</td>\n",
       "    </tr>\n",
       "    <tr>\n",
       "      <th>891</th>\n",
       "      <td>0</td>\n",
       "      <td>0.114926</td>\n",
       "      <td>0</td>\n",
       "    </tr>\n",
       "    <tr>\n",
       "      <th>...</th>\n",
       "      <td>...</td>\n",
       "      <td>...</td>\n",
       "      <td>...</td>\n",
       "    </tr>\n",
       "    <tr>\n",
       "      <th>8713</th>\n",
       "      <td>0</td>\n",
       "      <td>0.048854</td>\n",
       "      <td>1</td>\n",
       "    </tr>\n",
       "    <tr>\n",
       "      <th>6009</th>\n",
       "      <td>1</td>\n",
       "      <td>0.047753</td>\n",
       "      <td>1</td>\n",
       "    </tr>\n",
       "    <tr>\n",
       "      <th>43474</th>\n",
       "      <td>0</td>\n",
       "      <td>0.047400</td>\n",
       "      <td>1</td>\n",
       "    </tr>\n",
       "    <tr>\n",
       "      <th>21359</th>\n",
       "      <td>0</td>\n",
       "      <td>0.046929</td>\n",
       "      <td>0</td>\n",
       "    </tr>\n",
       "    <tr>\n",
       "      <th>14154</th>\n",
       "      <td>0</td>\n",
       "      <td>0.046627</td>\n",
       "      <td>1</td>\n",
       "    </tr>\n",
       "  </tbody>\n",
       "</table>\n",
       "<p>70 rows × 3 columns</p>\n",
       "</div>"
      ],
      "text/plain": [
       "       true    uplift  treat\n",
       "23813     1  0.180080      1\n",
       "26259     0  0.139551      1\n",
       "40781     0  0.139448      1\n",
       "60140     0  0.122365      1\n",
       "891       0  0.114926      0\n",
       "...     ...       ...    ...\n",
       "8713      0  0.048854      1\n",
       "6009      1  0.047753      1\n",
       "43474     0  0.047400      1\n",
       "21359     0  0.046929      0\n",
       "14154     0  0.046627      1\n",
       "\n",
       "[70 rows x 3 columns]"
      ]
     },
     "execution_count": 21,
     "metadata": {},
     "output_type": "execute_result"
    }
   ],
   "source": [
    "df_k = df_m.sort_values(by='uplift', ascending=False).head(int(n * k))\n",
    "df_k"
   ]
  },
  {
   "cell_type": "code",
   "execution_count": 22,
   "id": "4b863e58",
   "metadata": {},
   "outputs": [
    {
     "data": {
      "text/plain": [
       "-0.0632630410654828"
      ]
     },
     "execution_count": 22,
     "metadata": {},
     "output_type": "execute_result"
    }
   ],
   "source": [
    "response_rate_treat = df_k[(df_k.treat == 1)].true.mean()\n",
    "response_rate_control = df_k[(df_k.treat == 0)].true.mean()\n",
    "response_rate_treat - response_rate_control"
   ]
  },
  {
   "cell_type": "markdown",
   "id": "0865f43f",
   "metadata": {},
   "source": [
    "**strategy='by_group'**"
   ]
  },
  {
   "cell_type": "code",
   "execution_count": 23,
   "id": "1affdfa5",
   "metadata": {},
   "outputs": [
    {
     "data": {
      "text/plain": [
       "0.25"
      ]
     },
     "execution_count": 23,
     "metadata": {},
     "output_type": "execute_result"
    }
   ],
   "source": [
    "k = 4\n",
    "uplift_at_k(y_true=df_m['true'], uplift=df_m['uplift'], treatment=df_m['treat'],\n",
    "            strategy='by_group',\n",
    "            # strategy='overall',\n",
    "            k=k)"
   ]
  },
  {
   "cell_type": "code",
   "execution_count": 24,
   "id": "f90b88e1",
   "metadata": {},
   "outputs": [
    {
     "data": {
      "text/html": [
       "<div>\n",
       "<style scoped>\n",
       "    .dataframe tbody tr th:only-of-type {\n",
       "        vertical-align: middle;\n",
       "    }\n",
       "\n",
       "    .dataframe tbody tr th {\n",
       "        vertical-align: top;\n",
       "    }\n",
       "\n",
       "    .dataframe thead th {\n",
       "        text-align: right;\n",
       "    }\n",
       "</style>\n",
       "<table border=\"1\" class=\"dataframe\">\n",
       "  <thead>\n",
       "    <tr style=\"text-align: right;\">\n",
       "      <th></th>\n",
       "      <th>true</th>\n",
       "      <th>uplift</th>\n",
       "      <th>treat</th>\n",
       "    </tr>\n",
       "  </thead>\n",
       "  <tbody>\n",
       "    <tr>\n",
       "      <th>23813</th>\n",
       "      <td>1</td>\n",
       "      <td>0.180080</td>\n",
       "      <td>1</td>\n",
       "    </tr>\n",
       "    <tr>\n",
       "      <th>26259</th>\n",
       "      <td>0</td>\n",
       "      <td>0.139551</td>\n",
       "      <td>1</td>\n",
       "    </tr>\n",
       "    <tr>\n",
       "      <th>40781</th>\n",
       "      <td>0</td>\n",
       "      <td>0.139448</td>\n",
       "      <td>1</td>\n",
       "    </tr>\n",
       "    <tr>\n",
       "      <th>60140</th>\n",
       "      <td>0</td>\n",
       "      <td>0.122365</td>\n",
       "      <td>1</td>\n",
       "    </tr>\n",
       "  </tbody>\n",
       "</table>\n",
       "</div>"
      ],
      "text/plain": [
       "       true    uplift  treat\n",
       "23813     1  0.180080      1\n",
       "26259     0  0.139551      1\n",
       "40781     0  0.139448      1\n",
       "60140     0  0.122365      1"
      ]
     },
     "execution_count": 24,
     "metadata": {},
     "output_type": "execute_result"
    }
   ],
   "source": [
    "df_k_treat = df_m[df_m.treat == 1]\n",
    "df_k_treat = df_k_treat.sort_values(by='uplift', ascending=False).head(k)\n",
    "\n",
    "df_k_control = df_m[df_m.treat == 0]\n",
    "df_k_control = df_k_control.sort_values(by='uplift', ascending=False).head(k)\n",
    "\n",
    "df_k_treat"
   ]
  },
  {
   "cell_type": "code",
   "execution_count": 25,
   "id": "5e527a41",
   "metadata": {},
   "outputs": [
    {
     "data": {
      "text/html": [
       "<div>\n",
       "<style scoped>\n",
       "    .dataframe tbody tr th:only-of-type {\n",
       "        vertical-align: middle;\n",
       "    }\n",
       "\n",
       "    .dataframe tbody tr th {\n",
       "        vertical-align: top;\n",
       "    }\n",
       "\n",
       "    .dataframe thead th {\n",
       "        text-align: right;\n",
       "    }\n",
       "</style>\n",
       "<table border=\"1\" class=\"dataframe\">\n",
       "  <thead>\n",
       "    <tr style=\"text-align: right;\">\n",
       "      <th></th>\n",
       "      <th>true</th>\n",
       "      <th>uplift</th>\n",
       "      <th>treat</th>\n",
       "    </tr>\n",
       "  </thead>\n",
       "  <tbody>\n",
       "    <tr>\n",
       "      <th>891</th>\n",
       "      <td>0</td>\n",
       "      <td>0.114926</td>\n",
       "      <td>0</td>\n",
       "    </tr>\n",
       "    <tr>\n",
       "      <th>27683</th>\n",
       "      <td>0</td>\n",
       "      <td>0.094309</td>\n",
       "      <td>0</td>\n",
       "    </tr>\n",
       "    <tr>\n",
       "      <th>4748</th>\n",
       "      <td>0</td>\n",
       "      <td>0.094039</td>\n",
       "      <td>0</td>\n",
       "    </tr>\n",
       "    <tr>\n",
       "      <th>61709</th>\n",
       "      <td>0</td>\n",
       "      <td>0.081100</td>\n",
       "      <td>0</td>\n",
       "    </tr>\n",
       "  </tbody>\n",
       "</table>\n",
       "</div>"
      ],
      "text/plain": [
       "       true    uplift  treat\n",
       "891       0  0.114926      0\n",
       "27683     0  0.094309      0\n",
       "4748      0  0.094039      0\n",
       "61709     0  0.081100      0"
      ]
     },
     "execution_count": 25,
     "metadata": {},
     "output_type": "execute_result"
    }
   ],
   "source": [
    "df_k_control"
   ]
  },
  {
   "cell_type": "code",
   "execution_count": 26,
   "id": "3a4ff5fc",
   "metadata": {},
   "outputs": [
    {
     "data": {
      "text/plain": [
       "0.25"
      ]
     },
     "execution_count": 26,
     "metadata": {},
     "output_type": "execute_result"
    }
   ],
   "source": [
    "response_rate_treat = df_k_treat.true.mean()\n",
    "response_rate_control = df_k_control.true.mean()\n",
    "response_rate_treat - response_rate_control"
   ]
  },
  {
   "cell_type": "markdown",
   "id": "c8c72097",
   "metadata": {},
   "source": [
    "##### Uplift curve\n",
    "\n",
    "$$uplift \\space curve(t) = (\\frac{Y^T_t}{N^T_t} - \\frac{Y^C_t}{N^C_t})(N^T_t + N^C_t) $$\n",
    "$t$ - накопившиеся количество объектов<br>\n",
    "$Y^T_t, Y^C_t$ - таргет в treatment и control группах<br>\n",
    "$N^T_t, N^C_t$ - размер treatment и control групп<br>\n",
    "\n",
    "\n",
    "Uplift кривая строится как функция от количества объектов, нарастающим итогом. В каждой точке кривой можно увидеть накопленный к этому моменту uplift\n",
    "\n",
    "На картинке ниже расположен типичный график идеальной, модельной и случайной кривых. Каждая точка на такой кривой соответствует значению кумулятивного uplift. Чем больше это значение, тем лучше. Монотонно возрастающая случайная кривая показывает, что воздействие всей выборки имеет общий положительный эффект. "
   ]
  },
  {
   "cell_type": "code",
   "execution_count": 27,
   "id": "7fd6e949",
   "metadata": {},
   "outputs": [],
   "source": [
    "from sklift.viz import plot_uplift_curve"
   ]
  },
  {
   "cell_type": "code",
   "execution_count": 28,
   "id": "b7cac422",
   "metadata": {},
   "outputs": [
    {
     "data": {
      "image/png": "[encoded data removed]",
      "text/plain": [
       "<Figure size 432x288 with 1 Axes>"
      ]
     },
     "metadata": {
      "needs_background": "light"
     },
     "output_type": "display_data"
    }
   ],
   "source": [
    "# with ideal curve\n",
    "# perfect=True\n",
    "plot_uplift_curve(\n",
    "    y_val, uplift_sm, treat_val, \n",
    "    # perfect=True,\n",
    "    perfect=False\n",
    ");"
   ]
  },
  {
   "cell_type": "markdown",
   "id": "86bf6c39",
   "metadata": {},
   "source": [
    "##### Qini curve\n",
    "Еще одной довольно распространенной кривой при оценке uplift моделей является Qini кривая.\n",
    "\n",
    "$$qini\\ curve (t) = Y^T_t - \\frac{Y^C_t N^T_t}{N^C_t}$$\n",
    "\n",
    "$Y^T_t, Y^C_t$ - таргет в treatment и control группе<br>\n",
    "$N^T_t, N^C_t$ - размер treatment и control групп\n",
    "\n",
    "\n",
    "\n",
    "Qini curve, как и другие аплифт метрики, рассчитывается кумулятивно сразу для набора объектов. Кривую Qini для модели тоже сравнивают со случайной кривой и с идеальным случаем. Аналогично с uplift кривой, чем выше кривая над случайной кривой, тем лучше. "
   ]
  },
  {
   "cell_type": "code",
   "execution_count": 29,
   "id": "a7a597ab",
   "metadata": {},
   "outputs": [],
   "source": [
    "from sklift.viz import plot_qini_curve"
   ]
  },
  {
   "cell_type": "code",
   "execution_count": 30,
   "id": "6353df9f",
   "metadata": {},
   "outputs": [
    {
     "data": {
      "image/png": "[encoded data removed]",
      "text/plain": [
       "<Figure size 432x288 with 1 Axes>"
      ]
     },
     "metadata": {
      "needs_background": "light"
     },
     "output_type": "display_data"
    }
   ],
   "source": [
    "# with ideal Qini curve (red line)\n",
    "# perfect=True\n",
    "plot_qini_curve(\n",
    "    y_val, uplift_sm, treat_val,\n",
    "    # perfect=True\n",
    "    perfect=False\n",
    ");"
   ]
  },
  {
   "cell_type": "code",
   "execution_count": 31,
   "id": "338869f4",
   "metadata": {},
   "outputs": [
    {
     "name": "stdout",
     "output_type": "stream",
     "text": [
      "Qini coefficient on full data: 0.0417\n"
     ]
    }
   ],
   "source": [
    "from sklift.metrics import qini_auc_score\n",
    "\n",
    "\n",
    "# коэффициент qini, или area under qini curve (AUQC)\n",
    "auqc = qini_auc_score(y_val, uplift_sm, treat_val) \n",
    "print(f\"Qini coefficient on full data: {auqc:.4f}\")"
   ]
  },
  {
   "cell_type": "markdown",
   "id": "b5a68c44",
   "metadata": {},
   "source": [
    "##### Uplift by percentile\n"
   ]
  },
  {
   "cell_type": "code",
   "execution_count": 32,
   "id": "ae543e5b",
   "metadata": {},
   "outputs": [
    {
     "name": "stderr",
     "output_type": "stream",
     "text": [
      "J:\\Vadim\\lib\\site-packages\\numpy\\core\\fromnumeric.py:3162: VisibleDeprecationWarning: Creating an ndarray from ragged nested sequences (which is a list-or-tuple of lists-or-tuples-or ndarrays with different lengths or shapes) is deprecated. If you meant to do this, you must specify 'dtype=object' when creating the ndarray.\n",
      "  return asarray(a).ndim\n"
     ]
    },
    {
     "data": {
      "text/html": [
       "<div>\n",
       "<style scoped>\n",
       "    .dataframe tbody tr th:only-of-type {\n",
       "        vertical-align: middle;\n",
       "    }\n",
       "\n",
       "    .dataframe tbody tr th {\n",
       "        vertical-align: top;\n",
       "    }\n",
       "\n",
       "    .dataframe thead th {\n",
       "        text-align: right;\n",
       "    }\n",
       "</style>\n",
       "<table border=\"1\" class=\"dataframe\">\n",
       "  <thead>\n",
       "    <tr style=\"text-align: right;\">\n",
       "      <th></th>\n",
       "      <th>n_treatment</th>\n",
       "      <th>n_control</th>\n",
       "      <th>response_rate_treatment</th>\n",
       "      <th>response_rate_control</th>\n",
       "      <th>uplift</th>\n",
       "      <th>std_treatment</th>\n",
       "      <th>std_control</th>\n",
       "      <th>std_uplift</th>\n",
       "    </tr>\n",
       "    <tr>\n",
       "      <th>percentile</th>\n",
       "      <th></th>\n",
       "      <th></th>\n",
       "      <th></th>\n",
       "      <th></th>\n",
       "      <th></th>\n",
       "      <th></th>\n",
       "      <th></th>\n",
       "      <th></th>\n",
       "    </tr>\n",
       "  </thead>\n",
       "  <tbody>\n",
       "    <tr>\n",
       "      <th>0-10</th>\n",
       "      <td>962</td>\n",
       "      <td>478</td>\n",
       "      <td>0.261954</td>\n",
       "      <td>0.133891</td>\n",
       "      <td>0.128063</td>\n",
       "      <td>0.014176</td>\n",
       "      <td>0.015576</td>\n",
       "      <td>0.021061</td>\n",
       "    </tr>\n",
       "    <tr>\n",
       "      <th>10-20</th>\n",
       "      <td>943</td>\n",
       "      <td>497</td>\n",
       "      <td>0.200424</td>\n",
       "      <td>0.124748</td>\n",
       "      <td>0.075676</td>\n",
       "      <td>0.013036</td>\n",
       "      <td>0.014822</td>\n",
       "      <td>0.019739</td>\n",
       "    </tr>\n",
       "    <tr>\n",
       "      <th>20-30</th>\n",
       "      <td>954</td>\n",
       "      <td>486</td>\n",
       "      <td>0.184486</td>\n",
       "      <td>0.125514</td>\n",
       "      <td>0.058972</td>\n",
       "      <td>0.012558</td>\n",
       "      <td>0.015028</td>\n",
       "      <td>0.019584</td>\n",
       "    </tr>\n",
       "    <tr>\n",
       "      <th>30-40</th>\n",
       "      <td>996</td>\n",
       "      <td>444</td>\n",
       "      <td>0.188755</td>\n",
       "      <td>0.110360</td>\n",
       "      <td>0.078395</td>\n",
       "      <td>0.012399</td>\n",
       "      <td>0.014870</td>\n",
       "      <td>0.019362</td>\n",
       "    </tr>\n",
       "    <tr>\n",
       "      <th>40-50</th>\n",
       "      <td>965</td>\n",
       "      <td>475</td>\n",
       "      <td>0.165803</td>\n",
       "      <td>0.122105</td>\n",
       "      <td>0.043698</td>\n",
       "      <td>0.011972</td>\n",
       "      <td>0.015022</td>\n",
       "      <td>0.019209</td>\n",
       "    </tr>\n",
       "    <tr>\n",
       "      <th>50-60</th>\n",
       "      <td>986</td>\n",
       "      <td>454</td>\n",
       "      <td>0.147059</td>\n",
       "      <td>0.096916</td>\n",
       "      <td>0.050143</td>\n",
       "      <td>0.011279</td>\n",
       "      <td>0.013885</td>\n",
       "      <td>0.017888</td>\n",
       "    </tr>\n",
       "    <tr>\n",
       "      <th>60-70</th>\n",
       "      <td>942</td>\n",
       "      <td>498</td>\n",
       "      <td>0.143312</td>\n",
       "      <td>0.102410</td>\n",
       "      <td>0.040902</td>\n",
       "      <td>0.011416</td>\n",
       "      <td>0.013586</td>\n",
       "      <td>0.017746</td>\n",
       "    </tr>\n",
       "    <tr>\n",
       "      <th>70-80</th>\n",
       "      <td>969</td>\n",
       "      <td>471</td>\n",
       "      <td>0.137255</td>\n",
       "      <td>0.072187</td>\n",
       "      <td>0.065068</td>\n",
       "      <td>0.011055</td>\n",
       "      <td>0.011925</td>\n",
       "      <td>0.016260</td>\n",
       "    </tr>\n",
       "    <tr>\n",
       "      <th>80-90</th>\n",
       "      <td>990</td>\n",
       "      <td>450</td>\n",
       "      <td>0.140404</td>\n",
       "      <td>0.084444</td>\n",
       "      <td>0.055960</td>\n",
       "      <td>0.011041</td>\n",
       "      <td>0.013108</td>\n",
       "      <td>0.017138</td>\n",
       "    </tr>\n",
       "    <tr>\n",
       "      <th>90-100</th>\n",
       "      <td>968</td>\n",
       "      <td>472</td>\n",
       "      <td>0.146694</td>\n",
       "      <td>0.120763</td>\n",
       "      <td>0.025932</td>\n",
       "      <td>0.011372</td>\n",
       "      <td>0.014999</td>\n",
       "      <td>0.018822</td>\n",
       "    </tr>\n",
       "    <tr>\n",
       "      <th>total</th>\n",
       "      <td>9675</td>\n",
       "      <td>4725</td>\n",
       "      <td>0.171473</td>\n",
       "      <td>0.109630</td>\n",
       "      <td>0.061843</td>\n",
       "      <td>0.120305</td>\n",
       "      <td>0.142820</td>\n",
       "      <td>0.186811</td>\n",
       "    </tr>\n",
       "  </tbody>\n",
       "</table>\n",
       "</div>"
      ],
      "text/plain": [
       "            n_treatment  n_control  response_rate_treatment  \\\n",
       "percentile                                                    \n",
       "0-10                962        478                 0.261954   \n",
       "10-20               943        497                 0.200424   \n",
       "20-30               954        486                 0.184486   \n",
       "30-40               996        444                 0.188755   \n",
       "40-50               965        475                 0.165803   \n",
       "50-60               986        454                 0.147059   \n",
       "60-70               942        498                 0.143312   \n",
       "70-80               969        471                 0.137255   \n",
       "80-90               990        450                 0.140404   \n",
       "90-100              968        472                 0.146694   \n",
       "total              9675       4725                 0.171473   \n",
       "\n",
       "            response_rate_control    uplift  std_treatment  std_control  \\\n",
       "percentile                                                                \n",
       "0-10                     0.133891  0.128063       0.014176     0.015576   \n",
       "10-20                    0.124748  0.075676       0.013036     0.014822   \n",
       "20-30                    0.125514  0.058972       0.012558     0.015028   \n",
       "30-40                    0.110360  0.078395       0.012399     0.014870   \n",
       "40-50                    0.122105  0.043698       0.011972     0.015022   \n",
       "50-60                    0.096916  0.050143       0.011279     0.013885   \n",
       "60-70                    0.102410  0.040902       0.011416     0.013586   \n",
       "70-80                    0.072187  0.065068       0.011055     0.011925   \n",
       "80-90                    0.084444  0.055960       0.011041     0.013108   \n",
       "90-100                   0.120763  0.025932       0.011372     0.014999   \n",
       "total                    0.109630  0.061843       0.120305     0.142820   \n",
       "\n",
       "            std_uplift  \n",
       "percentile              \n",
       "0-10          0.021061  \n",
       "10-20         0.019739  \n",
       "20-30         0.019584  \n",
       "30-40         0.019362  \n",
       "40-50         0.019209  \n",
       "50-60         0.017888  \n",
       "60-70         0.017746  \n",
       "70-80         0.016260  \n",
       "80-90         0.017138  \n",
       "90-100        0.018822  \n",
       "total         0.186811  "
      ]
     },
     "execution_count": 32,
     "metadata": {},
     "output_type": "execute_result"
    }
   ],
   "source": [
    "from sklift.metrics import uplift_by_percentile\n",
    "\n",
    "# uplift by decile, или  uplift by percentile, или uplift by bin.\n",
    "uplift_by_percentile(y_val, uplift_sm,  treat_val, \n",
    "                     strategy='overall', \n",
    "                     total=True, std=True, bins=10)"
   ]
  },
  {
   "cell_type": "markdown",
   "id": "0a8c9685",
   "metadata": {},
   "source": [
    "Если визуализировать таблицу, то получится график uplift by percentile. По нему удобно оценивать эффективность модели. \n",
    "\n",
    "Так как коммуникация будет проводиться с клиентами, получившими наибольшую оценку uplift, то слева на графике должны быть максимальные по модулю положительные значения uplift и в следующих перцентилях значения уменьшаются."
   ]
  },
  {
   "cell_type": "code",
   "execution_count": 33,
   "id": "0109fdb4",
   "metadata": {},
   "outputs": [
    {
     "name": "stderr",
     "output_type": "stream",
     "text": [
      "J:\\Vadim\\lib\\site-packages\\numpy\\core\\fromnumeric.py:3162: VisibleDeprecationWarning: Creating an ndarray from ragged nested sequences (which is a list-or-tuple of lists-or-tuples-or ndarrays with different lengths or shapes) is deprecated. If you meant to do this, you must specify 'dtype=object' when creating the ndarray.\n",
      "  return asarray(a).ndim\n"
     ]
    },
    {
     "data": {
      "image/png": "[encoded data removed]",
      "text/plain": [
       "<Figure size 576x432 with 2 Axes>"
      ]
     },
     "metadata": {
      "needs_background": "light"
     },
     "output_type": "display_data"
    }
   ],
   "source": [
    "from sklift.viz import plot_uplift_by_percentile\n",
    "\n",
    "# график uplift by percentile\n",
    "plot_uplift_by_percentile(y_val, uplift_sm, treat_val, \n",
    "                          strategy='overall', kind='bar'); # line"
   ]
  },
  {
   "cell_type": "markdown",
   "id": "5c81ed3a",
   "metadata": {},
   "source": [
    "\n",
    "\n",
    "В левой части графика находятся убеждаемые — тот тип, которых мы хотим найти.\n",
    "\n",
    "В терминах целевого действия и коммуникации это Y=1 при W=1 и Y=0 при W=0."
   ]
  },
  {
   "cell_type": "markdown",
   "id": "7938bf8d",
   "metadata": {},
   "source": [
    "##### Weighted average uplift\n",
    "С помощью значений в столбцах uplift и n_treatment рассчитаем усредненный uplift на всей выборке, взвешенный на размер целевой группы - weighted average uplift "
   ]
  },
  {
   "cell_type": "code",
   "execution_count": 34,
   "id": "f2e04e7a",
   "metadata": {},
   "outputs": [
    {
     "name": "stdout",
     "output_type": "stream",
     "text": [
      "weighted average uplift on full data: 0.0623\n"
     ]
    }
   ],
   "source": [
    "from sklift.metrics import weighted_average_uplift\n",
    "\n",
    "# с помощью значений в столбцах uplift и n_treatment рассчитаем усредненный uplift на всей выборке, \n",
    "# взвешенный на размер целевой группы — weighted average uplift\n",
    "uplift_full_data = weighted_average_uplift(y_val, uplift_sm, \n",
    "                                            treat_val, bins=10) \n",
    "print(f\"weighted average uplift on full data: {uplift_full_data:.4f}\")"
   ]
  },
  {
   "cell_type": "markdown",
   "id": "08ff10d5",
   "metadata": {},
   "source": [
    "### 1.2 Трансформация классов\n"
   ]
  },
  {
   "cell_type": "code",
   "execution_count": 35,
   "id": "353b9872",
   "metadata": {},
   "outputs": [],
   "source": [
    "from sklift.models import ClassTransformation\n",
    "\n",
    "\n",
    "ct = ClassTransformation(\n",
    "    CatBoostClassifier(iterations=20, random_state=42, silent=True)\n",
    ")\n",
    "ct = ct.fit(X_train, y_train, treat_train)\n",
    "\n",
    "uplift_ct = ct.predict(X_val)\n",
    "\n",
    "models_results['approach'].append('ClassTransformation')\n",
    "\n",
    "for el in [10,20,30,40,50]:\n",
    "    ct_score = uplift_at_k(y_true=y_val, uplift=uplift_ct, treatment=treat_val, strategy='by_group', k=el/100)\n",
    "    models_results['uplift@' + str(el) + '%'].append(ct_score)"
   ]
  },
  {
   "cell_type": "code",
   "execution_count": 36,
   "id": "670b2173",
   "metadata": {},
   "outputs": [
    {
     "data": {
      "text/plain": [
       "0.08126490044546193"
      ]
     },
     "execution_count": 36,
     "metadata": {},
     "output_type": "execute_result"
    }
   ],
   "source": [
    "ct_score"
   ]
  },
  {
   "cell_type": "code",
   "execution_count": 37,
   "id": "1ffe11d1",
   "metadata": {},
   "outputs": [
    {
     "data": {
      "image/png": "[encoded data removed]",
      "text/plain": [
       "<Figure size 432x288 with 1 Axes>"
      ]
     },
     "metadata": {
      "needs_background": "light"
     },
     "output_type": "display_data"
    }
   ],
   "source": [
    "from sklift.viz import plot_uplift_curve\n",
    "\n",
    "\n",
    "# with ideal curve\n",
    "# perfect=True\n",
    "plot_uplift_curve(\n",
    "    y_val, uplift_ct, treat_val, \n",
    "    # perfect=True\n",
    "    perfect=False\n",
    ");"
   ]
  },
  {
   "cell_type": "code",
   "execution_count": 38,
   "id": "b658714f",
   "metadata": {},
   "outputs": [
    {
     "name": "stderr",
     "output_type": "stream",
     "text": [
      "J:\\Vadim\\lib\\site-packages\\numpy\\core\\fromnumeric.py:3162: VisibleDeprecationWarning: Creating an ndarray from ragged nested sequences (which is a list-or-tuple of lists-or-tuples-or ndarrays with different lengths or shapes) is deprecated. If you meant to do this, you must specify 'dtype=object' when creating the ndarray.\n",
      "  return asarray(a).ndim\n"
     ]
    },
    {
     "data": {
      "image/png": "[encoded data removed]",
      "text/plain": [
       "<Figure size 576x432 with 2 Axes>"
      ]
     },
     "metadata": {
      "needs_background": "light"
     },
     "output_type": "display_data"
    }
   ],
   "source": [
    "# график uplift by percentile\n",
    "plot_uplift_by_percentile(y_val, uplift_ct, treat_val, \n",
    "                          strategy='overall', kind='bar'); # line"
   ]
  },
  {
   "cell_type": "markdown",
   "id": "52b2d393",
   "metadata": {},
   "source": [
    "### 1.2 Две независимые модели\n"
   ]
  },
  {
   "cell_type": "code",
   "execution_count": 39,
   "id": "37adfec3",
   "metadata": {},
   "outputs": [
    {
     "data": {
      "image/png": "[encoded data removed]",
      "text/plain": [
       "<Figure size 1440x504 with 3 Axes>"
      ]
     },
     "metadata": {
      "needs_background": "light"
     },
     "output_type": "display_data"
    }
   ],
   "source": [
    "from sklift.models import TwoModels\n",
    "\n",
    "\n",
    "tm = TwoModels(\n",
    "    CatBoostClassifier(iterations=20, random_state=42, silent=True),\n",
    "    CatBoostClassifier(iterations=20, random_state=42, silent=True),\n",
    "    method='vanilla'  # независимые модели\n",
    ")\n",
    "tm = tm.fit(\n",
    "    X_train, y_train, treat_train\n",
    ")\n",
    "\n",
    "uplift_tm = tm.predict(X_val)\n",
    "\n",
    "models_results['approach'].append('TwoModels')\n",
    "\n",
    "for el in [10,20,30,40,50]:\n",
    "    tm_score = uplift_at_k(y_true=y_val, uplift=uplift_tm, treatment=treat_val, strategy='by_group', k=el/100)\n",
    "    models_results['uplift@' + str(el) + '%'].append(tm_score)\n",
    "    \n",
    "plot_uplift_preds(trmnt_preds=tm.trmnt_preds_, ctrl_preds=tm.ctrl_preds_);"
   ]
  },
  {
   "cell_type": "markdown",
   "id": "581471bd",
   "metadata": {},
   "source": [
    "### Итоговая таблица по моделям/uplift@k%"
   ]
  },
  {
   "cell_type": "code",
   "execution_count": 40,
   "id": "51a8fc0e",
   "metadata": {
    "scrolled": true
   },
   "outputs": [
    {
     "data": {
      "text/html": [
       "<div>\n",
       "<style scoped>\n",
       "    .dataframe tbody tr th:only-of-type {\n",
       "        vertical-align: middle;\n",
       "    }\n",
       "\n",
       "    .dataframe tbody tr th {\n",
       "        vertical-align: top;\n",
       "    }\n",
       "\n",
       "    .dataframe thead th {\n",
       "        text-align: right;\n",
       "    }\n",
       "</style>\n",
       "<table border=\"1\" class=\"dataframe\">\n",
       "  <thead>\n",
       "    <tr style=\"text-align: right;\">\n",
       "      <th></th>\n",
       "      <th>approach</th>\n",
       "      <th>uplift@10%</th>\n",
       "      <th>uplift@20%</th>\n",
       "      <th>uplift@30%</th>\n",
       "      <th>uplift@40%</th>\n",
       "      <th>uplift@50%</th>\n",
       "    </tr>\n",
       "  </thead>\n",
       "  <tbody>\n",
       "    <tr>\n",
       "      <th>1</th>\n",
       "      <td>ClassTransformation</td>\n",
       "      <td>0.087022</td>\n",
       "      <td>0.103359</td>\n",
       "      <td>0.090308</td>\n",
       "      <td>0.082552</td>\n",
       "      <td>0.081265</td>\n",
       "    </tr>\n",
       "    <tr>\n",
       "      <th>2</th>\n",
       "      <td>TwoModels</td>\n",
       "      <td>0.108259</td>\n",
       "      <td>0.079464</td>\n",
       "      <td>0.087356</td>\n",
       "      <td>0.084853</td>\n",
       "      <td>0.079956</td>\n",
       "    </tr>\n",
       "    <tr>\n",
       "      <th>0</th>\n",
       "      <td>SoloModel</td>\n",
       "      <td>0.125007</td>\n",
       "      <td>0.101932</td>\n",
       "      <td>0.084483</td>\n",
       "      <td>0.084201</td>\n",
       "      <td>0.076707</td>\n",
       "    </tr>\n",
       "  </tbody>\n",
       "</table>\n",
       "</div>"
      ],
      "text/plain": [
       "              approach  uplift@10%  uplift@20%  uplift@30%  uplift@40%  \\\n",
       "1  ClassTransformation    0.087022    0.103359    0.090308    0.082552   \n",
       "2            TwoModels    0.108259    0.079464    0.087356    0.084853   \n",
       "0            SoloModel    0.125007    0.101932    0.084483    0.084201   \n",
       "\n",
       "   uplift@50%  \n",
       "1    0.081265  \n",
       "2    0.079956  \n",
       "0    0.076707  "
      ]
     },
     "execution_count": 40,
     "metadata": {},
     "output_type": "execute_result"
    }
   ],
   "source": [
    "df_score = pd.DataFrame(data=models_results).sort_values('uplift@30%', ascending=False)\n",
    "df_score"
   ]
  },
  {
   "cell_type": "markdown",
   "id": "45ec4e69",
   "metadata": {},
   "source": [
    "#### Посмотрим результаты по моделям на графиках"
   ]
  },
  {
   "cell_type": "code",
   "execution_count": 41,
   "id": "ce361ab2",
   "metadata": {},
   "outputs": [
    {
     "name": "stdout",
     "output_type": "stream",
     "text": [
      "Solo Model\n"
     ]
    },
    {
     "data": {
      "image/png": "[encoded data removed]",
      "text/plain": [
       "<Figure size 432x288 with 1 Axes>"
      ]
     },
     "metadata": {
      "needs_background": "light"
     },
     "output_type": "display_data"
    },
    {
     "name": "stdout",
     "output_type": "stream",
     "text": [
      "ClassTransform Model\n"
     ]
    },
    {
     "data": {
      "image/png": "[encoded data removed]",
      "text/plain": [
       "<Figure size 432x288 with 1 Axes>"
      ]
     },
     "metadata": {
      "needs_background": "light"
     },
     "output_type": "display_data"
    },
    {
     "name": "stdout",
     "output_type": "stream",
     "text": [
      "Two Model\n"
     ]
    },
    {
     "data": {
      "image/png": "[encoded data removed]",
      "text/plain": [
       "<Figure size 432x288 with 1 Axes>"
      ]
     },
     "metadata": {
      "needs_background": "light"
     },
     "output_type": "display_data"
    }
   ],
   "source": [
    "import matplotlib.pyplot as plt\n",
    "\n",
    "print('Solo Model')\n",
    "plot_uplift_curve(y_val, uplift_sm, treat_val, perfect=False)\n",
    "plt.show()\n",
    "print('ClassTransform Model')\n",
    "plot_uplift_curve(y_val, uplift_ct, treat_val, perfect=False)\n",
    "plt.show()\n",
    "print('Two Model')\n",
    "plot_uplift_curve(y_val, uplift_tm, treat_val, perfect=False)\n",
    "plt.show()"
   ]
  },
  {
   "cell_type": "markdown",
   "id": "87655205",
   "metadata": {},
   "source": [
    "### 7. Прогноз и uplift для тестовой выборки"
   ]
  },
  {
   "cell_type": "markdown",
   "id": "7f3c0625",
   "metadata": {},
   "source": [
    "### 7.1 Модель трансформация классов для тестовой выборки\n"
   ]
  },
  {
   "cell_type": "code",
   "execution_count": 63,
   "id": "46b0fc8f",
   "metadata": {},
   "outputs": [],
   "source": [
    "models_results_test = {\n",
    "    'approach': [],\n",
    "    'uplift@10%': [],\n",
    "    'uplift@20%': [],\n",
    "    'uplift@30%': [],\n",
    "    'uplift@40%': [],\n",
    "    'uplift@50%': []\n",
    "}"
   ]
  },
  {
   "cell_type": "code",
   "execution_count": 44,
   "id": "5dac6e05",
   "metadata": {},
   "outputs": [],
   "source": [
    "y_test = y_data_test['target']\n",
    "treat_test =  y_data_test['treatment']"
   ]
  },
  {
   "cell_type": "code",
   "execution_count": 64,
   "id": "f8b5c450",
   "metadata": {},
   "outputs": [],
   "source": [
    "uplift_ct_test = ct.predict(X_test)\n",
    "\n",
    "models_results_test['approach'].append('ClassTransformation')\n",
    "\n",
    "for el in [10,20,30,40,50]:\n",
    "    ct_score = uplift_at_k(y_true=y_test, uplift=uplift_ct_test, treatment=treat_test, strategy='by_group', k=el/100)\n",
    "    models_results_test['uplift@' + str(el) + '%'].append(ct_score)"
   ]
  },
  {
   "cell_type": "code",
   "execution_count": 65,
   "id": "dfc88106",
   "metadata": {},
   "outputs": [
    {
     "data": {
      "text/html": [
       "<div>\n",
       "<style scoped>\n",
       "    .dataframe tbody tr th:only-of-type {\n",
       "        vertical-align: middle;\n",
       "    }\n",
       "\n",
       "    .dataframe tbody tr th {\n",
       "        vertical-align: top;\n",
       "    }\n",
       "\n",
       "    .dataframe thead th {\n",
       "        text-align: right;\n",
       "    }\n",
       "</style>\n",
       "<table border=\"1\" class=\"dataframe\">\n",
       "  <thead>\n",
       "    <tr style=\"text-align: right;\">\n",
       "      <th></th>\n",
       "      <th>true</th>\n",
       "      <th>uplift</th>\n",
       "      <th>treat</th>\n",
       "    </tr>\n",
       "  </thead>\n",
       "  <tbody>\n",
       "    <tr>\n",
       "      <th>11277</th>\n",
       "      <td>1</td>\n",
       "      <td>-0.232676</td>\n",
       "      <td>1</td>\n",
       "    </tr>\n",
       "    <tr>\n",
       "      <th>55819</th>\n",
       "      <td>0</td>\n",
       "      <td>-0.037052</td>\n",
       "      <td>1</td>\n",
       "    </tr>\n",
       "    <tr>\n",
       "      <th>43223</th>\n",
       "      <td>0</td>\n",
       "      <td>-0.013464</td>\n",
       "      <td>1</td>\n",
       "    </tr>\n",
       "    <tr>\n",
       "      <th>1351</th>\n",
       "      <td>0</td>\n",
       "      <td>-0.218336</td>\n",
       "      <td>1</td>\n",
       "    </tr>\n",
       "    <tr>\n",
       "      <th>9247</th>\n",
       "      <td>0</td>\n",
       "      <td>-0.113631</td>\n",
       "      <td>0</td>\n",
       "    </tr>\n",
       "  </tbody>\n",
       "</table>\n",
       "</div>"
      ],
      "text/plain": [
       "       true    uplift  treat\n",
       "11277     1 -0.232676      1\n",
       "55819     0 -0.037052      1\n",
       "43223     0 -0.013464      1\n",
       "1351      0 -0.218336      1\n",
       "9247      0 -0.113631      0"
      ]
     },
     "execution_count": 65,
     "metadata": {},
     "output_type": "execute_result"
    }
   ],
   "source": [
    "df_test = pd.DataFrame({\n",
    "    'true': y_test,\n",
    "    'uplift': uplift_ct_test,\n",
    "    'treat': treat_test\n",
    "})   \n",
    "df_test.head()"
   ]
  },
  {
   "cell_type": "code",
   "execution_count": 66,
   "id": "5eb48c96",
   "metadata": {},
   "outputs": [
    {
     "data": {
      "text/plain": [
       "0.05307343040222838"
      ]
     },
     "execution_count": 66,
     "metadata": {},
     "output_type": "execute_result"
    }
   ],
   "source": [
    "k = 0.7\n",
    "\n",
    "uplift_at_k(y_true=df_test['true'], uplift=df_test['uplift'], treatment=df_test['treat'],\n",
    "            # strategy='by_group',\n",
    "            strategy='overall',\n",
    "            k=k)"
   ]
  },
  {
   "cell_type": "code",
   "execution_count": 67,
   "id": "2ebcccd9",
   "metadata": {},
   "outputs": [
    {
     "data": {
      "text/html": [
       "<div>\n",
       "<style scoped>\n",
       "    .dataframe tbody tr th:only-of-type {\n",
       "        vertical-align: middle;\n",
       "    }\n",
       "\n",
       "    .dataframe tbody tr th {\n",
       "        vertical-align: top;\n",
       "    }\n",
       "\n",
       "    .dataframe thead th {\n",
       "        text-align: right;\n",
       "    }\n",
       "</style>\n",
       "<table border=\"1\" class=\"dataframe\">\n",
       "  <thead>\n",
       "    <tr style=\"text-align: right;\">\n",
       "      <th></th>\n",
       "      <th>true</th>\n",
       "      <th>uplift</th>\n",
       "      <th>treat</th>\n",
       "    </tr>\n",
       "  </thead>\n",
       "  <tbody>\n",
       "    <tr>\n",
       "      <th>45460</th>\n",
       "      <td>0</td>\n",
       "      <td>0.363791</td>\n",
       "      <td>1</td>\n",
       "    </tr>\n",
       "    <tr>\n",
       "      <th>25099</th>\n",
       "      <td>0</td>\n",
       "      <td>0.272973</td>\n",
       "      <td>1</td>\n",
       "    </tr>\n",
       "    <tr>\n",
       "      <th>40582</th>\n",
       "      <td>0</td>\n",
       "      <td>0.270313</td>\n",
       "      <td>0</td>\n",
       "    </tr>\n",
       "    <tr>\n",
       "      <th>36676</th>\n",
       "      <td>0</td>\n",
       "      <td>0.270313</td>\n",
       "      <td>0</td>\n",
       "    </tr>\n",
       "    <tr>\n",
       "      <th>32480</th>\n",
       "      <td>0</td>\n",
       "      <td>0.270313</td>\n",
       "      <td>0</td>\n",
       "    </tr>\n",
       "    <tr>\n",
       "      <th>30652</th>\n",
       "      <td>0</td>\n",
       "      <td>0.239429</td>\n",
       "      <td>0</td>\n",
       "    </tr>\n",
       "    <tr>\n",
       "      <th>46723</th>\n",
       "      <td>0</td>\n",
       "      <td>0.239429</td>\n",
       "      <td>1</td>\n",
       "    </tr>\n",
       "    <tr>\n",
       "      <th>42271</th>\n",
       "      <td>0</td>\n",
       "      <td>0.217830</td>\n",
       "      <td>1</td>\n",
       "    </tr>\n",
       "    <tr>\n",
       "      <th>22419</th>\n",
       "      <td>0</td>\n",
       "      <td>0.210377</td>\n",
       "      <td>1</td>\n",
       "    </tr>\n",
       "    <tr>\n",
       "      <th>1220</th>\n",
       "      <td>0</td>\n",
       "      <td>0.190824</td>\n",
       "      <td>1</td>\n",
       "    </tr>\n",
       "  </tbody>\n",
       "</table>\n",
       "</div>"
      ],
      "text/plain": [
       "       true    uplift  treat\n",
       "45460     0  0.363791      1\n",
       "25099     0  0.272973      1\n",
       "40582     0  0.270313      0\n",
       "36676     0  0.270313      0\n",
       "32480     0  0.270313      0\n",
       "30652     0  0.239429      0\n",
       "46723     0  0.239429      1\n",
       "42271     0  0.217830      1\n",
       "22419     0  0.210377      1\n",
       "1220      0  0.190824      1"
      ]
     },
     "execution_count": 67,
     "metadata": {},
     "output_type": "execute_result"
    }
   ],
   "source": [
    "df_test_k = df_test.sort_values(by='uplift', ascending=False)\n",
    "df_test_k.head(10)"
   ]
  },
  {
   "cell_type": "code",
   "execution_count": 68,
   "id": "59b3717f",
   "metadata": {},
   "outputs": [
    {
     "data": {
      "image/png": "[encoded data removed]",
      "text/plain": [
       "<Figure size 432x288 with 1 Axes>"
      ]
     },
     "metadata": {
      "needs_background": "light"
     },
     "output_type": "display_data"
    }
   ],
   "source": [
    "# with ideal curve\n",
    "# perfect=True\n",
    "plot_uplift_curve(\n",
    "    y_test, uplift_ct_test, treat_test, \n",
    "    # perfect=True,\n",
    "    perfect=False\n",
    ");"
   ]
  },
  {
   "cell_type": "code",
   "execution_count": 69,
   "id": "a5a29be4",
   "metadata": {},
   "outputs": [
    {
     "name": "stderr",
     "output_type": "stream",
     "text": [
      "J:\\Vadim\\lib\\site-packages\\numpy\\core\\fromnumeric.py:3162: VisibleDeprecationWarning: Creating an ndarray from ragged nested sequences (which is a list-or-tuple of lists-or-tuples-or ndarrays with different lengths or shapes) is deprecated. If you meant to do this, you must specify 'dtype=object' when creating the ndarray.\n",
      "  return asarray(a).ndim\n"
     ]
    },
    {
     "data": {
      "text/html": [
       "<div>\n",
       "<style scoped>\n",
       "    .dataframe tbody tr th:only-of-type {\n",
       "        vertical-align: middle;\n",
       "    }\n",
       "\n",
       "    .dataframe tbody tr th {\n",
       "        vertical-align: top;\n",
       "    }\n",
       "\n",
       "    .dataframe thead th {\n",
       "        text-align: right;\n",
       "    }\n",
       "</style>\n",
       "<table border=\"1\" class=\"dataframe\">\n",
       "  <thead>\n",
       "    <tr style=\"text-align: right;\">\n",
       "      <th></th>\n",
       "      <th>n_treatment</th>\n",
       "      <th>n_control</th>\n",
       "      <th>response_rate_treatment</th>\n",
       "      <th>response_rate_control</th>\n",
       "      <th>uplift</th>\n",
       "      <th>std_treatment</th>\n",
       "      <th>std_control</th>\n",
       "      <th>std_uplift</th>\n",
       "    </tr>\n",
       "    <tr>\n",
       "      <th>percentile</th>\n",
       "      <th></th>\n",
       "      <th></th>\n",
       "      <th></th>\n",
       "      <th></th>\n",
       "      <th></th>\n",
       "      <th></th>\n",
       "      <th></th>\n",
       "      <th></th>\n",
       "    </tr>\n",
       "  </thead>\n",
       "  <tbody>\n",
       "    <tr>\n",
       "      <th>0-10</th>\n",
       "      <td>1064</td>\n",
       "      <td>536</td>\n",
       "      <td>0.242481</td>\n",
       "      <td>0.143657</td>\n",
       "      <td>0.098824</td>\n",
       "      <td>0.013139</td>\n",
       "      <td>0.015150</td>\n",
       "      <td>0.020054</td>\n",
       "    </tr>\n",
       "    <tr>\n",
       "      <th>10-20</th>\n",
       "      <td>1070</td>\n",
       "      <td>530</td>\n",
       "      <td>0.198131</td>\n",
       "      <td>0.141509</td>\n",
       "      <td>0.056621</td>\n",
       "      <td>0.012185</td>\n",
       "      <td>0.015140</td>\n",
       "      <td>0.019434</td>\n",
       "    </tr>\n",
       "    <tr>\n",
       "      <th>20-30</th>\n",
       "      <td>1070</td>\n",
       "      <td>530</td>\n",
       "      <td>0.164486</td>\n",
       "      <td>0.130189</td>\n",
       "      <td>0.034297</td>\n",
       "      <td>0.011333</td>\n",
       "      <td>0.014617</td>\n",
       "      <td>0.018496</td>\n",
       "    </tr>\n",
       "    <tr>\n",
       "      <th>30-40</th>\n",
       "      <td>1100</td>\n",
       "      <td>500</td>\n",
       "      <td>0.188182</td>\n",
       "      <td>0.108000</td>\n",
       "      <td>0.080182</td>\n",
       "      <td>0.011785</td>\n",
       "      <td>0.013881</td>\n",
       "      <td>0.018209</td>\n",
       "    </tr>\n",
       "    <tr>\n",
       "      <th>40-50</th>\n",
       "      <td>1068</td>\n",
       "      <td>532</td>\n",
       "      <td>0.153558</td>\n",
       "      <td>0.109023</td>\n",
       "      <td>0.044535</td>\n",
       "      <td>0.011032</td>\n",
       "      <td>0.013513</td>\n",
       "      <td>0.017444</td>\n",
       "    </tr>\n",
       "    <tr>\n",
       "      <th>50-60</th>\n",
       "      <td>1082</td>\n",
       "      <td>518</td>\n",
       "      <td>0.146950</td>\n",
       "      <td>0.111969</td>\n",
       "      <td>0.034981</td>\n",
       "      <td>0.010764</td>\n",
       "      <td>0.013855</td>\n",
       "      <td>0.017544</td>\n",
       "    </tr>\n",
       "    <tr>\n",
       "      <th>60-70</th>\n",
       "      <td>1069</td>\n",
       "      <td>531</td>\n",
       "      <td>0.136576</td>\n",
       "      <td>0.112994</td>\n",
       "      <td>0.023582</td>\n",
       "      <td>0.010503</td>\n",
       "      <td>0.013739</td>\n",
       "      <td>0.017293</td>\n",
       "    </tr>\n",
       "    <tr>\n",
       "      <th>70-80</th>\n",
       "      <td>1059</td>\n",
       "      <td>541</td>\n",
       "      <td>0.130312</td>\n",
       "      <td>0.088725</td>\n",
       "      <td>0.041587</td>\n",
       "      <td>0.010345</td>\n",
       "      <td>0.012225</td>\n",
       "      <td>0.016015</td>\n",
       "    </tr>\n",
       "    <tr>\n",
       "      <th>80-90</th>\n",
       "      <td>1059</td>\n",
       "      <td>541</td>\n",
       "      <td>0.132200</td>\n",
       "      <td>0.083179</td>\n",
       "      <td>0.049021</td>\n",
       "      <td>0.010408</td>\n",
       "      <td>0.011873</td>\n",
       "      <td>0.015789</td>\n",
       "    </tr>\n",
       "    <tr>\n",
       "      <th>90-100</th>\n",
       "      <td>1077</td>\n",
       "      <td>523</td>\n",
       "      <td>0.137419</td>\n",
       "      <td>0.057361</td>\n",
       "      <td>0.080057</td>\n",
       "      <td>0.010491</td>\n",
       "      <td>0.010168</td>\n",
       "      <td>0.014610</td>\n",
       "    </tr>\n",
       "    <tr>\n",
       "      <th>total</th>\n",
       "      <td>10718</td>\n",
       "      <td>5282</td>\n",
       "      <td>0.163090</td>\n",
       "      <td>0.108671</td>\n",
       "      <td>0.054419</td>\n",
       "      <td>0.111985</td>\n",
       "      <td>0.134159</td>\n",
       "      <td>0.174888</td>\n",
       "    </tr>\n",
       "  </tbody>\n",
       "</table>\n",
       "</div>"
      ],
      "text/plain": [
       "            n_treatment  n_control  response_rate_treatment  \\\n",
       "percentile                                                    \n",
       "0-10               1064        536                 0.242481   \n",
       "10-20              1070        530                 0.198131   \n",
       "20-30              1070        530                 0.164486   \n",
       "30-40              1100        500                 0.188182   \n",
       "40-50              1068        532                 0.153558   \n",
       "50-60              1082        518                 0.146950   \n",
       "60-70              1069        531                 0.136576   \n",
       "70-80              1059        541                 0.130312   \n",
       "80-90              1059        541                 0.132200   \n",
       "90-100             1077        523                 0.137419   \n",
       "total             10718       5282                 0.163090   \n",
       "\n",
       "            response_rate_control    uplift  std_treatment  std_control  \\\n",
       "percentile                                                                \n",
       "0-10                     0.143657  0.098824       0.013139     0.015150   \n",
       "10-20                    0.141509  0.056621       0.012185     0.015140   \n",
       "20-30                    0.130189  0.034297       0.011333     0.014617   \n",
       "30-40                    0.108000  0.080182       0.011785     0.013881   \n",
       "40-50                    0.109023  0.044535       0.011032     0.013513   \n",
       "50-60                    0.111969  0.034981       0.010764     0.013855   \n",
       "60-70                    0.112994  0.023582       0.010503     0.013739   \n",
       "70-80                    0.088725  0.041587       0.010345     0.012225   \n",
       "80-90                    0.083179  0.049021       0.010408     0.011873   \n",
       "90-100                   0.057361  0.080057       0.010491     0.010168   \n",
       "total                    0.108671  0.054419       0.111985     0.134159   \n",
       "\n",
       "            std_uplift  \n",
       "percentile              \n",
       "0-10          0.020054  \n",
       "10-20         0.019434  \n",
       "20-30         0.018496  \n",
       "30-40         0.018209  \n",
       "40-50         0.017444  \n",
       "50-60         0.017544  \n",
       "60-70         0.017293  \n",
       "70-80         0.016015  \n",
       "80-90         0.015789  \n",
       "90-100        0.014610  \n",
       "total         0.174888  "
      ]
     },
     "execution_count": 69,
     "metadata": {},
     "output_type": "execute_result"
    }
   ],
   "source": [
    "# uplift by decile, или  uplift by percentile, или uplift by bin.\n",
    "uplift_by_percentile(y_test, uplift_ct_test, treat_test, \n",
    "                     strategy='overall', \n",
    "                     total=True, std=True, bins=10)"
   ]
  },
  {
   "cell_type": "code",
   "execution_count": 70,
   "id": "30ef0039",
   "metadata": {},
   "outputs": [
    {
     "name": "stderr",
     "output_type": "stream",
     "text": [
      "J:\\Vadim\\lib\\site-packages\\numpy\\core\\fromnumeric.py:3162: VisibleDeprecationWarning: Creating an ndarray from ragged nested sequences (which is a list-or-tuple of lists-or-tuples-or ndarrays with different lengths or shapes) is deprecated. If you meant to do this, you must specify 'dtype=object' when creating the ndarray.\n",
      "  return asarray(a).ndim\n"
     ]
    },
    {
     "data": {
      "image/png": "[encoded data removed]",
      "text/plain": [
       "<Figure size 576x432 with 2 Axes>"
      ]
     },
     "metadata": {
      "needs_background": "light"
     },
     "output_type": "display_data"
    }
   ],
   "source": [
    "plot_uplift_by_percentile(y_test, uplift_ct_test, treat_test, \n",
    "                          strategy='overall', kind='bar'); # line"
   ]
  },
  {
   "cell_type": "markdown",
   "id": "61d08bae",
   "metadata": {},
   "source": [
    "### 7.2 S-learner для тестовой выборки\n"
   ]
  },
  {
   "cell_type": "code",
   "execution_count": 71,
   "id": "6fcb61fb",
   "metadata": {},
   "outputs": [],
   "source": [
    "uplift_sm_test = sm.predict(X_test)\n",
    "\n",
    "models_results_test['approach'].append('SoloModel')\n",
    "\n",
    "for el in [10,20,30,40,50]:\n",
    "    sm_score_test = uplift_at_k(y_true=y_test, uplift=uplift_sm_test, treatment=treat_test, strategy='by_group', k=el/100)\n",
    "    models_results_test['uplift@' + str(el) + '%'].append(sm_score_test)"
   ]
  },
  {
   "cell_type": "code",
   "execution_count": 72,
   "id": "d08ee594",
   "metadata": {},
   "outputs": [
    {
     "data": {
      "text/html": [
       "<div>\n",
       "<style scoped>\n",
       "    .dataframe tbody tr th:only-of-type {\n",
       "        vertical-align: middle;\n",
       "    }\n",
       "\n",
       "    .dataframe tbody tr th {\n",
       "        vertical-align: top;\n",
       "    }\n",
       "\n",
       "    .dataframe thead th {\n",
       "        text-align: right;\n",
       "    }\n",
       "</style>\n",
       "<table border=\"1\" class=\"dataframe\">\n",
       "  <thead>\n",
       "    <tr style=\"text-align: right;\">\n",
       "      <th></th>\n",
       "      <th>true</th>\n",
       "      <th>uplift</th>\n",
       "      <th>treat</th>\n",
       "    </tr>\n",
       "  </thead>\n",
       "  <tbody>\n",
       "    <tr>\n",
       "      <th>11277</th>\n",
       "      <td>1</td>\n",
       "      <td>0.059355</td>\n",
       "      <td>1</td>\n",
       "    </tr>\n",
       "    <tr>\n",
       "      <th>55819</th>\n",
       "      <td>0</td>\n",
       "      <td>0.095054</td>\n",
       "      <td>1</td>\n",
       "    </tr>\n",
       "    <tr>\n",
       "      <th>43223</th>\n",
       "      <td>0</td>\n",
       "      <td>0.089484</td>\n",
       "      <td>1</td>\n",
       "    </tr>\n",
       "    <tr>\n",
       "      <th>1351</th>\n",
       "      <td>0</td>\n",
       "      <td>0.038149</td>\n",
       "      <td>1</td>\n",
       "    </tr>\n",
       "    <tr>\n",
       "      <th>9247</th>\n",
       "      <td>0</td>\n",
       "      <td>0.069709</td>\n",
       "      <td>0</td>\n",
       "    </tr>\n",
       "  </tbody>\n",
       "</table>\n",
       "</div>"
      ],
      "text/plain": [
       "       true    uplift  treat\n",
       "11277     1  0.059355      1\n",
       "55819     0  0.095054      1\n",
       "43223     0  0.089484      1\n",
       "1351      0  0.038149      1\n",
       "9247      0  0.069709      0"
      ]
     },
     "execution_count": 72,
     "metadata": {},
     "output_type": "execute_result"
    }
   ],
   "source": [
    "df_test_sm = pd.DataFrame({\n",
    "    'true': y_test,\n",
    "    'uplift': uplift_sm_test,\n",
    "    'treat': treat_test\n",
    "})   \n",
    "df_test_sm.head()"
   ]
  },
  {
   "cell_type": "code",
   "execution_count": 73,
   "id": "53108f4d",
   "metadata": {},
   "outputs": [
    {
     "data": {
      "text/plain": [
       "0.05679836759772591"
      ]
     },
     "execution_count": 73,
     "metadata": {},
     "output_type": "execute_result"
    }
   ],
   "source": [
    "k = 0.7\n",
    "\n",
    "uplift_at_k(y_true=df_test_sm['true'], uplift=df_test_sm['uplift'], treatment=df_test_sm['treat'],\n",
    "            # strategy='by_group',\n",
    "            strategy='overall',\n",
    "            k=k)"
   ]
  },
  {
   "cell_type": "code",
   "execution_count": 74,
   "id": "2ec73331",
   "metadata": {},
   "outputs": [
    {
     "data": {
      "text/html": [
       "<div>\n",
       "<style scoped>\n",
       "    .dataframe tbody tr th:only-of-type {\n",
       "        vertical-align: middle;\n",
       "    }\n",
       "\n",
       "    .dataframe tbody tr th {\n",
       "        vertical-align: top;\n",
       "    }\n",
       "\n",
       "    .dataframe thead th {\n",
       "        text-align: right;\n",
       "    }\n",
       "</style>\n",
       "<table border=\"1\" class=\"dataframe\">\n",
       "  <thead>\n",
       "    <tr style=\"text-align: right;\">\n",
       "      <th></th>\n",
       "      <th>true</th>\n",
       "      <th>uplift</th>\n",
       "      <th>treat</th>\n",
       "    </tr>\n",
       "  </thead>\n",
       "  <tbody>\n",
       "    <tr>\n",
       "      <th>40348</th>\n",
       "      <td>1</td>\n",
       "      <td>0.227035</td>\n",
       "      <td>1</td>\n",
       "    </tr>\n",
       "    <tr>\n",
       "      <th>44151</th>\n",
       "      <td>1</td>\n",
       "      <td>0.217821</td>\n",
       "      <td>1</td>\n",
       "    </tr>\n",
       "    <tr>\n",
       "      <th>61866</th>\n",
       "      <td>0</td>\n",
       "      <td>0.213715</td>\n",
       "      <td>0</td>\n",
       "    </tr>\n",
       "    <tr>\n",
       "      <th>51323</th>\n",
       "      <td>0</td>\n",
       "      <td>0.212851</td>\n",
       "      <td>0</td>\n",
       "    </tr>\n",
       "    <tr>\n",
       "      <th>7837</th>\n",
       "      <td>0</td>\n",
       "      <td>0.210576</td>\n",
       "      <td>0</td>\n",
       "    </tr>\n",
       "    <tr>\n",
       "      <th>54748</th>\n",
       "      <td>1</td>\n",
       "      <td>0.205890</td>\n",
       "      <td>1</td>\n",
       "    </tr>\n",
       "    <tr>\n",
       "      <th>7710</th>\n",
       "      <td>1</td>\n",
       "      <td>0.205179</td>\n",
       "      <td>1</td>\n",
       "    </tr>\n",
       "    <tr>\n",
       "      <th>36314</th>\n",
       "      <td>0</td>\n",
       "      <td>0.204519</td>\n",
       "      <td>0</td>\n",
       "    </tr>\n",
       "    <tr>\n",
       "      <th>41178</th>\n",
       "      <td>0</td>\n",
       "      <td>0.202683</td>\n",
       "      <td>0</td>\n",
       "    </tr>\n",
       "    <tr>\n",
       "      <th>46913</th>\n",
       "      <td>0</td>\n",
       "      <td>0.198489</td>\n",
       "      <td>0</td>\n",
       "    </tr>\n",
       "  </tbody>\n",
       "</table>\n",
       "</div>"
      ],
      "text/plain": [
       "       true    uplift  treat\n",
       "40348     1  0.227035      1\n",
       "44151     1  0.217821      1\n",
       "61866     0  0.213715      0\n",
       "51323     0  0.212851      0\n",
       "7837      0  0.210576      0\n",
       "54748     1  0.205890      1\n",
       "7710      1  0.205179      1\n",
       "36314     0  0.204519      0\n",
       "41178     0  0.202683      0\n",
       "46913     0  0.198489      0"
      ]
     },
     "execution_count": 74,
     "metadata": {},
     "output_type": "execute_result"
    }
   ],
   "source": [
    "df_test_sm_k = df_test_sm.sort_values(by='uplift', ascending=False)\n",
    "df_test_sm_k.head(10)"
   ]
  },
  {
   "cell_type": "code",
   "execution_count": 75,
   "id": "067902cf",
   "metadata": {},
   "outputs": [
    {
     "data": {
      "image/png": "[encoded data removed]",
      "text/plain": [
       "<Figure size 432x288 with 1 Axes>"
      ]
     },
     "metadata": {
      "needs_background": "light"
     },
     "output_type": "display_data"
    }
   ],
   "source": [
    "# with ideal curve\n",
    "# perfect=True\n",
    "plot_uplift_curve(\n",
    "    y_test, uplift_sm_test, treat_test, \n",
    "    # perfect=True,\n",
    "    perfect=False\n",
    ");"
   ]
  },
  {
   "cell_type": "code",
   "execution_count": 76,
   "id": "8ed809b1",
   "metadata": {},
   "outputs": [
    {
     "name": "stderr",
     "output_type": "stream",
     "text": [
      "J:\\Vadim\\lib\\site-packages\\numpy\\core\\fromnumeric.py:3162: VisibleDeprecationWarning: Creating an ndarray from ragged nested sequences (which is a list-or-tuple of lists-or-tuples-or ndarrays with different lengths or shapes) is deprecated. If you meant to do this, you must specify 'dtype=object' when creating the ndarray.\n",
      "  return asarray(a).ndim\n"
     ]
    },
    {
     "data": {
      "text/html": [
       "<div>\n",
       "<style scoped>\n",
       "    .dataframe tbody tr th:only-of-type {\n",
       "        vertical-align: middle;\n",
       "    }\n",
       "\n",
       "    .dataframe tbody tr th {\n",
       "        vertical-align: top;\n",
       "    }\n",
       "\n",
       "    .dataframe thead th {\n",
       "        text-align: right;\n",
       "    }\n",
       "</style>\n",
       "<table border=\"1\" class=\"dataframe\">\n",
       "  <thead>\n",
       "    <tr style=\"text-align: right;\">\n",
       "      <th></th>\n",
       "      <th>n_treatment</th>\n",
       "      <th>n_control</th>\n",
       "      <th>response_rate_treatment</th>\n",
       "      <th>response_rate_control</th>\n",
       "      <th>uplift</th>\n",
       "      <th>std_treatment</th>\n",
       "      <th>std_control</th>\n",
       "      <th>std_uplift</th>\n",
       "    </tr>\n",
       "    <tr>\n",
       "      <th>percentile</th>\n",
       "      <th></th>\n",
       "      <th></th>\n",
       "      <th></th>\n",
       "      <th></th>\n",
       "      <th></th>\n",
       "      <th></th>\n",
       "      <th></th>\n",
       "      <th></th>\n",
       "    </tr>\n",
       "  </thead>\n",
       "  <tbody>\n",
       "    <tr>\n",
       "      <th>0-10</th>\n",
       "      <td>1054</td>\n",
       "      <td>546</td>\n",
       "      <td>0.221063</td>\n",
       "      <td>0.146520</td>\n",
       "      <td>0.074542</td>\n",
       "      <td>0.012782</td>\n",
       "      <td>0.015134</td>\n",
       "      <td>0.019809</td>\n",
       "    </tr>\n",
       "    <tr>\n",
       "      <th>10-20</th>\n",
       "      <td>1076</td>\n",
       "      <td>524</td>\n",
       "      <td>0.188662</td>\n",
       "      <td>0.133588</td>\n",
       "      <td>0.055074</td>\n",
       "      <td>0.011927</td>\n",
       "      <td>0.014862</td>\n",
       "      <td>0.019056</td>\n",
       "    </tr>\n",
       "    <tr>\n",
       "      <th>20-30</th>\n",
       "      <td>1076</td>\n",
       "      <td>524</td>\n",
       "      <td>0.162639</td>\n",
       "      <td>0.131679</td>\n",
       "      <td>0.030960</td>\n",
       "      <td>0.011250</td>\n",
       "      <td>0.014772</td>\n",
       "      <td>0.018568</td>\n",
       "    </tr>\n",
       "    <tr>\n",
       "      <th>30-40</th>\n",
       "      <td>1074</td>\n",
       "      <td>526</td>\n",
       "      <td>0.189944</td>\n",
       "      <td>0.098859</td>\n",
       "      <td>0.091085</td>\n",
       "      <td>0.011969</td>\n",
       "      <td>0.013014</td>\n",
       "      <td>0.017681</td>\n",
       "    </tr>\n",
       "    <tr>\n",
       "      <th>40-50</th>\n",
       "      <td>1094</td>\n",
       "      <td>506</td>\n",
       "      <td>0.159963</td>\n",
       "      <td>0.090909</td>\n",
       "      <td>0.069054</td>\n",
       "      <td>0.011083</td>\n",
       "      <td>0.012780</td>\n",
       "      <td>0.016916</td>\n",
       "    </tr>\n",
       "    <tr>\n",
       "      <th>50-60</th>\n",
       "      <td>1053</td>\n",
       "      <td>547</td>\n",
       "      <td>0.146249</td>\n",
       "      <td>0.098720</td>\n",
       "      <td>0.047529</td>\n",
       "      <td>0.010889</td>\n",
       "      <td>0.012754</td>\n",
       "      <td>0.016770</td>\n",
       "    </tr>\n",
       "    <tr>\n",
       "      <th>60-70</th>\n",
       "      <td>1062</td>\n",
       "      <td>538</td>\n",
       "      <td>0.127119</td>\n",
       "      <td>0.096654</td>\n",
       "      <td>0.030464</td>\n",
       "      <td>0.010222</td>\n",
       "      <td>0.012739</td>\n",
       "      <td>0.016333</td>\n",
       "    </tr>\n",
       "    <tr>\n",
       "      <th>70-80</th>\n",
       "      <td>1082</td>\n",
       "      <td>518</td>\n",
       "      <td>0.142329</td>\n",
       "      <td>0.100386</td>\n",
       "      <td>0.041943</td>\n",
       "      <td>0.010622</td>\n",
       "      <td>0.013204</td>\n",
       "      <td>0.016946</td>\n",
       "    </tr>\n",
       "    <tr>\n",
       "      <th>80-90</th>\n",
       "      <td>1070</td>\n",
       "      <td>530</td>\n",
       "      <td>0.145794</td>\n",
       "      <td>0.084906</td>\n",
       "      <td>0.060889</td>\n",
       "      <td>0.010788</td>\n",
       "      <td>0.012108</td>\n",
       "      <td>0.016217</td>\n",
       "    </tr>\n",
       "    <tr>\n",
       "      <th>90-100</th>\n",
       "      <td>1077</td>\n",
       "      <td>523</td>\n",
       "      <td>0.147632</td>\n",
       "      <td>0.103250</td>\n",
       "      <td>0.044382</td>\n",
       "      <td>0.010809</td>\n",
       "      <td>0.013305</td>\n",
       "      <td>0.017143</td>\n",
       "    </tr>\n",
       "    <tr>\n",
       "      <th>total</th>\n",
       "      <td>10718</td>\n",
       "      <td>5282</td>\n",
       "      <td>0.163090</td>\n",
       "      <td>0.108671</td>\n",
       "      <td>0.054419</td>\n",
       "      <td>0.112342</td>\n",
       "      <td>0.134672</td>\n",
       "      <td>0.175440</td>\n",
       "    </tr>\n",
       "  </tbody>\n",
       "</table>\n",
       "</div>"
      ],
      "text/plain": [
       "            n_treatment  n_control  response_rate_treatment  \\\n",
       "percentile                                                    \n",
       "0-10               1054        546                 0.221063   \n",
       "10-20              1076        524                 0.188662   \n",
       "20-30              1076        524                 0.162639   \n",
       "30-40              1074        526                 0.189944   \n",
       "40-50              1094        506                 0.159963   \n",
       "50-60              1053        547                 0.146249   \n",
       "60-70              1062        538                 0.127119   \n",
       "70-80              1082        518                 0.142329   \n",
       "80-90              1070        530                 0.145794   \n",
       "90-100             1077        523                 0.147632   \n",
       "total             10718       5282                 0.163090   \n",
       "\n",
       "            response_rate_control    uplift  std_treatment  std_control  \\\n",
       "percentile                                                                \n",
       "0-10                     0.146520  0.074542       0.012782     0.015134   \n",
       "10-20                    0.133588  0.055074       0.011927     0.014862   \n",
       "20-30                    0.131679  0.030960       0.011250     0.014772   \n",
       "30-40                    0.098859  0.091085       0.011969     0.013014   \n",
       "40-50                    0.090909  0.069054       0.011083     0.012780   \n",
       "50-60                    0.098720  0.047529       0.010889     0.012754   \n",
       "60-70                    0.096654  0.030464       0.010222     0.012739   \n",
       "70-80                    0.100386  0.041943       0.010622     0.013204   \n",
       "80-90                    0.084906  0.060889       0.010788     0.012108   \n",
       "90-100                   0.103250  0.044382       0.010809     0.013305   \n",
       "total                    0.108671  0.054419       0.112342     0.134672   \n",
       "\n",
       "            std_uplift  \n",
       "percentile              \n",
       "0-10          0.019809  \n",
       "10-20         0.019056  \n",
       "20-30         0.018568  \n",
       "30-40         0.017681  \n",
       "40-50         0.016916  \n",
       "50-60         0.016770  \n",
       "60-70         0.016333  \n",
       "70-80         0.016946  \n",
       "80-90         0.016217  \n",
       "90-100        0.017143  \n",
       "total         0.175440  "
      ]
     },
     "execution_count": 76,
     "metadata": {},
     "output_type": "execute_result"
    }
   ],
   "source": [
    "# uplift by decile, или  uplift by percentile, или uplift by bin.\n",
    "uplift_by_percentile(y_test, uplift_sm_test, treat_test, \n",
    "                     strategy='overall', \n",
    "                     total=True, std=True, bins=10)"
   ]
  },
  {
   "cell_type": "code",
   "execution_count": 77,
   "id": "8c39a1ae",
   "metadata": {},
   "outputs": [
    {
     "name": "stderr",
     "output_type": "stream",
     "text": [
      "J:\\Vadim\\lib\\site-packages\\numpy\\core\\fromnumeric.py:3162: VisibleDeprecationWarning: Creating an ndarray from ragged nested sequences (which is a list-or-tuple of lists-or-tuples-or ndarrays with different lengths or shapes) is deprecated. If you meant to do this, you must specify 'dtype=object' when creating the ndarray.\n",
      "  return asarray(a).ndim\n"
     ]
    },
    {
     "data": {
      "image/png": "[encoded data removed]",
      "text/plain": [
       "<Figure size 576x432 with 2 Axes>"
      ]
     },
     "metadata": {
      "needs_background": "light"
     },
     "output_type": "display_data"
    }
   ],
   "source": [
    "plot_uplift_by_percentile(y_test, uplift_sm_test, treat_test, \n",
    "                          strategy='overall', kind='bar'); # line"
   ]
  },
  {
   "cell_type": "code",
   "execution_count": 79,
   "id": "ee9e1f09",
   "metadata": {},
   "outputs": [
    {
     "data": {
      "text/html": [
       "<div>\n",
       "<style scoped>\n",
       "    .dataframe tbody tr th:only-of-type {\n",
       "        vertical-align: middle;\n",
       "    }\n",
       "\n",
       "    .dataframe tbody tr th {\n",
       "        vertical-align: top;\n",
       "    }\n",
       "\n",
       "    .dataframe thead th {\n",
       "        text-align: right;\n",
       "    }\n",
       "</style>\n",
       "<table border=\"1\" class=\"dataframe\">\n",
       "  <thead>\n",
       "    <tr style=\"text-align: right;\">\n",
       "      <th></th>\n",
       "      <th>approach</th>\n",
       "      <th>uplift@10%</th>\n",
       "      <th>uplift@20%</th>\n",
       "      <th>uplift@30%</th>\n",
       "      <th>uplift@40%</th>\n",
       "      <th>uplift@50%</th>\n",
       "    </tr>\n",
       "  </thead>\n",
       "  <tbody>\n",
       "    <tr>\n",
       "      <th>0</th>\n",
       "      <td>ClassTransformation</td>\n",
       "      <td>0.102639</td>\n",
       "      <td>0.076326</td>\n",
       "      <td>0.062355</td>\n",
       "      <td>0.065225</td>\n",
       "      <td>0.062561</td>\n",
       "    </tr>\n",
       "    <tr>\n",
       "      <th>1</th>\n",
       "      <td>SoloModel</td>\n",
       "      <td>0.073588</td>\n",
       "      <td>0.063768</td>\n",
       "      <td>0.053052</td>\n",
       "      <td>0.061795</td>\n",
       "      <td>0.062439</td>\n",
       "    </tr>\n",
       "  </tbody>\n",
       "</table>\n",
       "</div>"
      ],
      "text/plain": [
       "              approach  uplift@10%  uplift@20%  uplift@30%  uplift@40%  \\\n",
       "0  ClassTransformation    0.102639    0.076326    0.062355    0.065225   \n",
       "1            SoloModel    0.073588    0.063768    0.053052    0.061795   \n",
       "\n",
       "   uplift@50%  \n",
       "0    0.062561  \n",
       "1    0.062439  "
      ]
     },
     "execution_count": 79,
     "metadata": {},
     "output_type": "execute_result"
    }
   ],
   "source": [
    "df_score_test = pd.DataFrame(data=models_results_test).sort_values('uplift@30%', ascending=False)\n",
    "df_score_test"
   ]
  },
  {
   "cell_type": "code",
   "execution_count": 80,
   "id": "00ddf0bf",
   "metadata": {},
   "outputs": [],
   "source": [
    "groups = ['Gr_0', 'Gr_1', 'Gr_2', 'Gr_3', 'Gr_4', 'Gr_5', 'Gr_6', 'Gr_7', 'Gr_8', 'Gr_9']"
   ]
  },
  {
   "cell_type": "code",
   "execution_count": 81,
   "id": "9d4c667f",
   "metadata": {},
   "outputs": [
    {
     "data": {
      "text/plain": [
       "40348      (0.103, 0.227]\n",
       "44151      (0.103, 0.227]\n",
       "61866      (0.103, 0.227]\n",
       "51323      (0.103, 0.227]\n",
       "7837       (0.103, 0.227]\n",
       "               ...       \n",
       "35967    (-0.183, 0.0276]\n",
       "28380    (-0.183, 0.0276]\n",
       "39936    (-0.183, 0.0276]\n",
       "61936    (-0.183, 0.0276]\n",
       "22873    (-0.183, 0.0276]\n",
       "Name: uplift, Length: 16000, dtype: category\n",
       "Categories (10, interval[float64, right]): [(-0.183, 0.0276] < (0.0276, 0.0365] < (0.0365, 0.0437] < (0.0437, 0.0504] ... (0.0663, 0.075] < (0.075, 0.0852] < (0.0852, 0.103] < (0.103, 0.227]]"
      ]
     },
     "execution_count": 81,
     "metadata": {},
     "output_type": "execute_result"
    }
   ],
   "source": [
    "pd.qcut(df_test_sm_k['uplift'], 10)"
   ]
  },
  {
   "cell_type": "code",
   "execution_count": 82,
   "id": "3f2d090e",
   "metadata": {},
   "outputs": [
    {
     "data": {
      "text/html": [
       "<div>\n",
       "<style scoped>\n",
       "    .dataframe tbody tr th:only-of-type {\n",
       "        vertical-align: middle;\n",
       "    }\n",
       "\n",
       "    .dataframe tbody tr th {\n",
       "        vertical-align: top;\n",
       "    }\n",
       "\n",
       "    .dataframe thead th {\n",
       "        text-align: right;\n",
       "    }\n",
       "</style>\n",
       "<table border=\"1\" class=\"dataframe\">\n",
       "  <thead>\n",
       "    <tr style=\"text-align: right;\">\n",
       "      <th></th>\n",
       "      <th>true</th>\n",
       "      <th>uplift</th>\n",
       "      <th>treat</th>\n",
       "      <th>relevance_of_contact</th>\n",
       "    </tr>\n",
       "  </thead>\n",
       "  <tbody>\n",
       "    <tr>\n",
       "      <th>11277</th>\n",
       "      <td>1</td>\n",
       "      <td>0.059355</td>\n",
       "      <td>1</td>\n",
       "      <td>Gr_5</td>\n",
       "    </tr>\n",
       "    <tr>\n",
       "      <th>55819</th>\n",
       "      <td>0</td>\n",
       "      <td>0.095054</td>\n",
       "      <td>1</td>\n",
       "      <td>Gr_8</td>\n",
       "    </tr>\n",
       "    <tr>\n",
       "      <th>43223</th>\n",
       "      <td>0</td>\n",
       "      <td>0.089484</td>\n",
       "      <td>1</td>\n",
       "      <td>Gr_8</td>\n",
       "    </tr>\n",
       "    <tr>\n",
       "      <th>1351</th>\n",
       "      <td>0</td>\n",
       "      <td>0.038149</td>\n",
       "      <td>1</td>\n",
       "      <td>Gr_2</td>\n",
       "    </tr>\n",
       "    <tr>\n",
       "      <th>9247</th>\n",
       "      <td>0</td>\n",
       "      <td>0.069709</td>\n",
       "      <td>0</td>\n",
       "      <td>Gr_6</td>\n",
       "    </tr>\n",
       "    <tr>\n",
       "      <th>46551</th>\n",
       "      <td>0</td>\n",
       "      <td>0.054245</td>\n",
       "      <td>0</td>\n",
       "      <td>Gr_4</td>\n",
       "    </tr>\n",
       "    <tr>\n",
       "      <th>8209</th>\n",
       "      <td>0</td>\n",
       "      <td>0.062650</td>\n",
       "      <td>1</td>\n",
       "      <td>Gr_5</td>\n",
       "    </tr>\n",
       "    <tr>\n",
       "      <th>27633</th>\n",
       "      <td>0</td>\n",
       "      <td>0.044172</td>\n",
       "      <td>1</td>\n",
       "      <td>Gr_3</td>\n",
       "    </tr>\n",
       "    <tr>\n",
       "      <th>51794</th>\n",
       "      <td>1</td>\n",
       "      <td>0.066029</td>\n",
       "      <td>0</td>\n",
       "      <td>Gr_5</td>\n",
       "    </tr>\n",
       "    <tr>\n",
       "      <th>38249</th>\n",
       "      <td>0</td>\n",
       "      <td>0.044992</td>\n",
       "      <td>0</td>\n",
       "      <td>Gr_3</td>\n",
       "    </tr>\n",
       "    <tr>\n",
       "      <th>17977</th>\n",
       "      <td>0</td>\n",
       "      <td>0.047550</td>\n",
       "      <td>1</td>\n",
       "      <td>Gr_3</td>\n",
       "    </tr>\n",
       "    <tr>\n",
       "      <th>40083</th>\n",
       "      <td>0</td>\n",
       "      <td>0.037374</td>\n",
       "      <td>1</td>\n",
       "      <td>Gr_2</td>\n",
       "    </tr>\n",
       "    <tr>\n",
       "      <th>10891</th>\n",
       "      <td>1</td>\n",
       "      <td>0.092998</td>\n",
       "      <td>0</td>\n",
       "      <td>Gr_8</td>\n",
       "    </tr>\n",
       "    <tr>\n",
       "      <th>15477</th>\n",
       "      <td>1</td>\n",
       "      <td>0.016861</td>\n",
       "      <td>1</td>\n",
       "      <td>Gr_0</td>\n",
       "    </tr>\n",
       "    <tr>\n",
       "      <th>58222</th>\n",
       "      <td>0</td>\n",
       "      <td>0.048136</td>\n",
       "      <td>1</td>\n",
       "      <td>Gr_3</td>\n",
       "    </tr>\n",
       "    <tr>\n",
       "      <th>8815</th>\n",
       "      <td>0</td>\n",
       "      <td>0.075998</td>\n",
       "      <td>0</td>\n",
       "      <td>Gr_7</td>\n",
       "    </tr>\n",
       "    <tr>\n",
       "      <th>3885</th>\n",
       "      <td>0</td>\n",
       "      <td>0.040219</td>\n",
       "      <td>1</td>\n",
       "      <td>Gr_2</td>\n",
       "    </tr>\n",
       "    <tr>\n",
       "      <th>62204</th>\n",
       "      <td>1</td>\n",
       "      <td>0.099792</td>\n",
       "      <td>1</td>\n",
       "      <td>Gr_8</td>\n",
       "    </tr>\n",
       "    <tr>\n",
       "      <th>8774</th>\n",
       "      <td>0</td>\n",
       "      <td>0.027395</td>\n",
       "      <td>1</td>\n",
       "      <td>Gr_0</td>\n",
       "    </tr>\n",
       "    <tr>\n",
       "      <th>60854</th>\n",
       "      <td>0</td>\n",
       "      <td>0.042444</td>\n",
       "      <td>1</td>\n",
       "      <td>Gr_2</td>\n",
       "    </tr>\n",
       "  </tbody>\n",
       "</table>\n",
       "</div>"
      ],
      "text/plain": [
       "       true    uplift  treat relevance_of_contact\n",
       "11277     1  0.059355      1                 Gr_5\n",
       "55819     0  0.095054      1                 Gr_8\n",
       "43223     0  0.089484      1                 Gr_8\n",
       "1351      0  0.038149      1                 Gr_2\n",
       "9247      0  0.069709      0                 Gr_6\n",
       "46551     0  0.054245      0                 Gr_4\n",
       "8209      0  0.062650      1                 Gr_5\n",
       "27633     0  0.044172      1                 Gr_3\n",
       "51794     1  0.066029      0                 Gr_5\n",
       "38249     0  0.044992      0                 Gr_3\n",
       "17977     0  0.047550      1                 Gr_3\n",
       "40083     0  0.037374      1                 Gr_2\n",
       "10891     1  0.092998      0                 Gr_8\n",
       "15477     1  0.016861      1                 Gr_0\n",
       "58222     0  0.048136      1                 Gr_3\n",
       "8815      0  0.075998      0                 Gr_7\n",
       "3885      0  0.040219      1                 Gr_2\n",
       "62204     1  0.099792      1                 Gr_8\n",
       "8774      0  0.027395      1                 Gr_0\n",
       "60854     0  0.042444      1                 Gr_2"
      ]
     },
     "execution_count": 82,
     "metadata": {},
     "output_type": "execute_result"
    }
   ],
   "source": [
    "df_test_sm['relevance_of_contact'] = pd.qcut(df_test_sm['uplift'], q=10, labels=groups)\n",
    "df_test_sm.head(20)"
   ]
  },
  {
   "cell_type": "code",
   "execution_count": null,
   "id": "27763bf6",
   "metadata": {},
   "outputs": [],
   "source": []
  }
 ],
 "metadata": {
  "kernelspec": {
   "display_name": "Python 3 (ipykernel)",
   "language": "python",
   "name": "python3"
  },
  "language_info": {
   "codemirror_mode": {
    "name": "ipython",
    "version": 3
   },
   "file_extension": ".py",
   "mimetype": "text/x-python",
   "name": "python",
   "nbconvert_exporter": "python",
   "pygments_lexer": "ipython3",
   "version": "3.8.8"
  }
 },
 "nbformat": 4,
 "nbformat_minor": 5
}
